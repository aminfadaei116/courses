{
  "nbformat": 4,
  "nbformat_minor": 0,
  "metadata": {
    "colab": {
      "name": "Q1-PreData.ipynb",
      "provenance": [],
      "collapsed_sections": [],
      "authorship_tag": "ABX9TyOixuv2GXC2JAbLczTtDJyn",
      "include_colab_link": true
    },
    "kernelspec": {
      "name": "python3",
      "display_name": "Python 3"
    }
  },
  "cells": [
    {
      "cell_type": "markdown",
      "metadata": {
        "id": "view-in-github",
        "colab_type": "text"
      },
      "source": [
        "<a href=\"https://colab.research.google.com/github/aminfadaei116/Deep-Learning-Course/blob/master/CA2/Q1_PreData.ipynb\" target=\"_parent\"><img src=\"https://colab.research.google.com/assets/colab-badge.svg\" alt=\"Open In Colab\"/></a>"
      ]
    },
    {
      "cell_type": "code",
      "metadata": {
        "id": "qRRkQLcYTSmp",
        "colab_type": "code",
        "colab": {
          "base_uri": "https://localhost:8080/",
          "height": 121
        },
        "outputId": "d58d2521-89ef-4c4e-a858-fbd99c2ad223"
      },
      "source": [
        "from google.colab import drive\n",
        "drive.mount('/content/drive')"
      ],
      "execution_count": null,
      "outputs": [
        {
          "output_type": "stream",
          "text": [
            "Go to this URL in a browser: https://accounts.google.com/o/oauth2/auth?client_id=947318989803-6bn6qk8qdgf4n4g3pfee6491hc0brc4i.apps.googleusercontent.com&redirect_uri=urn%3aietf%3awg%3aoauth%3a2.0%3aoob&response_type=code&scope=email%20https%3a%2f%2fwww.googleapis.com%2fauth%2fdocs.test%20https%3a%2f%2fwww.googleapis.com%2fauth%2fdrive%20https%3a%2f%2fwww.googleapis.com%2fauth%2fdrive.photos.readonly%20https%3a%2f%2fwww.googleapis.com%2fauth%2fpeopleapi.readonly\n",
            "\n",
            "Enter your authorization code:\n",
            "··········\n",
            "Mounted at /content/drive\n"
          ],
          "name": "stdout"
        }
      ]
    },
    {
      "cell_type": "code",
      "metadata": {
        "id": "Vu3qhYFzTg97",
        "colab_type": "code",
        "colab": {}
      },
      "source": [
        "import cv2\n",
        "from scipy.io import loadmat\n",
        "import numpy as np\n",
        "import tqdm\n",
        "import torch\n",
        "from skimage.util import random_noise"
      ],
      "execution_count": null,
      "outputs": []
    },
    {
      "cell_type": "code",
      "metadata": {
        "id": "mMnNU7Ed1t09",
        "colab_type": "code",
        "colab": {}
      },
      "source": [
        "Data_joints = loadmat('/content/drive/My Drive/Deep Learning Course Spring 99/DataSets/HW2-DataSet/joints.mat')[\"joints\"][0:2,:,:]\n",
        "width, height = 220, 220\n",
        "dim = (width, height)\n",
        "m = 2\n",
        "number = 2000 * m\n",
        "new_joints = np.zeros_like(Data_joints)\n",
        "joint_tensor = torch.zeros((number, 2, 14))\n",
        "normalized_joint_tensor = torch.zeros((number, 2, 14))\n",
        "img_tensor = torch.zeros((number, 220, 220, 3))\n",
        "gain2 = np.reshape([1/width, 1/height], (2, 1))\n",
        "gain3 = np.reshape([-1/width, 1/height], (2, 1))\n",
        "gain4 = np.array([[0, -1/height],[1/width, 0]])\n",
        "gain5 = np.array([[0, +1/height],[-1/width, 0]])\n",
        "gain6 = np.reshape([1/300, 1/300], (2, 1))\n",
        "\n",
        "print(img_tensor.shape)\n",
        "for i in range(2000):\n",
        "    number = \"{0:0=4d}\".format(i + 1)\n",
        "    img = cv2.imread(\"/content/drive/My Drive/Deep Learning Course Spring 99/DataSets/HW2-DataSet/images/im\" + number + \".jpg\")\n",
        "    img_resized = cv2.resize(img, dim, interpolation = cv2.INTER_AREA)\n",
        "    ######\n",
        "    \n",
        "    if i < 1000:\n",
        "      img_tensor[m * i] = torch.FloatTensor(img_resized)\n",
        "      img_tensor[m * i + 1] = torch.FloatTensor(cv2.rotate(img_resized, cv2.ROTATE_90_CLOCKWISE).copy())\n",
        "    else:\n",
        "      img_tensor[1000 +  i] = torch.FloatTensor(img_resized)\n",
        "    #img_tensor[m * i + 2] = torch.FloatTensor(cv2.rotate(img_resized, cv2.ROTATE_90_COUNTERCLOCKWISE).copy())\n",
        "    #img_tensor[m * i + 3] = torch.FloatTensor(cv2.resize(cv2.copyMakeBorder(img_resized ,40,40,40,40,cv2.BORDER_CONSTANT),dim,interpolation = cv2.INTER_AREA))\n",
        "    #img_tensor[m * i + 4] = torch.FloatTensor(cv2.blur(img_resized,(10,10)))\n",
        "    ###\n",
        "    gain = np.reshape([220/img.shape[1], 220/img.shape[0]], (2, 1))\n",
        "    center = np.reshape([width/2, height/2], (2, 1))\n",
        "    temp = Data_joints[:,:,i]\n",
        "    new_joint = np.multiply(temp, gain)\n",
        "    new_joints[:,:,i] = new_joint\n",
        "    joint_tensor[i]= torch.FloatTensor(new_joint)\n",
        "    new_joint = np.subtract(new_joint, center)\n",
        "    ##\n",
        "    \n",
        "    if i < 1000:\n",
        "      normalized_joint_tensor[m * i] = torch.FloatTensor(np.multiply(new_joint, gain2))\n",
        "      normalized_joint_tensor[m * i + 1] = torch.FloatTensor(np.matmul(gain4, new_joint))\n",
        "    else:\n",
        "      normalized_joint_tensor[1000 + i] = torch.FloatTensor(np.multiply(new_joint, gain2))\n",
        "    #normalized_joint_tensor[m * i + 2] = torch.FloatTensor(np.matmul(gain5, new_joint))\n",
        "    #normalized_joint_tensor[m * i + 3] = torch.FloatTensor(np.multiply(new_joint, gain6))\n",
        "    #normalized_joint_tensor[m * i + 4] = torch.FloatTensor(np.multiply(new_joint, gain2))\n",
        "    \n",
        "    ##\n",
        "    print(i * 100 /2000)\n",
        "  \n",
        "torch.save(normalized_joint_tensor, '/content/drive/My Drive/Deep Learning Course Spring 99/DataSets/HW2-DataSet/augmented_normalized_joint_tensor.pt')\n",
        "#torch.save(joint_tensor, '/content/drive/My Drive/Deep Learning Course Spring 99/DataSets/HW2-DataSet/joint_tensor.pt')\n",
        "torch.save(img_tensor, '/content/drive/My Drive/Deep Learning Course Spring 99/DataSets/HW2-DataSet/augmented_img_tensor.pt')\n"
      ],
      "execution_count": null,
      "outputs": []
    },
    {
      "cell_type": "code",
      "metadata": {
        "id": "Wea646UamTY1",
        "colab_type": "code",
        "colab": {}
      },
      "source": [
        "x1 = normalized_joint_tensor[4][0]\n",
        "y1 = normalized_joint_tensor[4][1]\n",
        "y1 = np.multiply(y1, -1)\n",
        "import matplotlib.pyplot as plt\n",
        "plt.scatter(x1, y1)\n",
        "plt.xlim(-0.5, 0.5)\n",
        "plt.ylim(-0.5, 0.5)\n",
        "plt.show()"
      ],
      "execution_count": null,
      "outputs": []
    },
    {
      "cell_type": "code",
      "metadata": {
        "id": "FbVaJjAtffvd",
        "colab_type": "code",
        "colab": {}
      },
      "source": [
        "normalized_joint_dict = np.load('/content/drive/My Drive/Deep Learning Course Spring 99/DataSets/HW2-DataSet/normalized_joint_dict_new.npy', allow_pickle='TRUE').item()\n",
        "joint_dict = np.load('/content/drive/My Drive/Deep Learning Course Spring 99/DataSets/HW2-DataSet/joint_dict_new.npy', allow_pickle='TRUE').item()\n",
        "img_dict = np.load('/content/drive/My Drive/Deep Learning Course Spring 99/DataSets/HW2-DataSet/img_dict.npy', allow_pickle='TRUE').item()"
      ],
      "execution_count": null,
      "outputs": []
    },
    {
      "cell_type": "code",
      "metadata": {
        "id": "qU2Zl3o6ud8U",
        "colab_type": "code",
        "colab": {}
      },
      "source": [
        "DataSet = [[], []]\n",
        "for i in range(len(img_dict)):\n",
        "  DataSet[0].append(torch.Tensor(img_dict[i+1]))\n",
        "  DataSet[1].append(torch.Tensor(normalized_joint_dict[i+1]))"
      ],
      "execution_count": null,
      "outputs": []
    },
    {
      "cell_type": "code",
      "metadata": {
        "id": "u0LyPxn3t0tp",
        "colab_type": "code",
        "colab": {}
      },
      "source": [
        "# makes it easy to write user-friendly command-line interfaces\n",
        "import argparse\n",
        "# contains data structures for multi-dimensional tensors\n",
        "# and mathematical operations over theme\n",
        "import torch\n",
        "# helps us in creating and training of the neural network.\n",
        "import torch.nn as nn\n",
        "# contains all the functions in the torch.nn library\n",
        "import torch.nn.functional as F\n",
        "# implements various optimization algorithms\n",
        "import torch.optim as optim\n",
        "# contains datasets with almost similar API\n",
        "from torchvision import datasets\n",
        "# contains common image transformations\n",
        "from torchvision import transforms\n",
        "# provides several methods to adjust the learning rate based on the number of epochs\n",
        "from torch.optim.lr_scheduler import StepLR"
      ],
      "execution_count": null,
      "outputs": []
    },
    {
      "cell_type": "code",
      "metadata": {
        "id": "fZWQqx5yf3hE",
        "colab_type": "code",
        "colab": {}
      },
      "source": [
        "NUMBER_JOINST = 14\n",
        "NUMBER_DIM = 2"
      ],
      "execution_count": null,
      "outputs": []
    },
    {
      "cell_type": "code",
      "metadata": {
        "id": "UsM908ACf63r",
        "colab_type": "code",
        "colab": {}
      },
      "source": [
        "for i in range(2000):\n",
        "    number = \"{0:0=4d}\".format(i + 1)\n",
        "    img = cv2.imread(\"/content/drive/My Drive/Deep Learning Course Spring 99/DataSets/HW2-DataSet/images/im\" + number + \".jpg\")\n",
        "    img_resized = cv2.resize(img, dim, interpolation = cv2.INTER_AREA)\n",
        "    img_dict[i+1] = img_resized\n",
        "    filename = \"/content/drive/My Drive/Deep Learning Course Spring 99/DataSets/HW2-DataSet/reshaped_images/im\" + number + \".jpg\"\n",
        "    #cv2.imwrite(filename, img_resized)\n",
        "    gain = np.reshape([220/img.shape[1], 220/img.shape[0]], (2, 1))\n",
        "    center = np.reshape([width/2, height/2], (2, 1))\n",
        "    temp = Data_joints[:,:,i]\n",
        "    new_joint = np.multiply(temp, gain)\n",
        "    new_joints[:,:,i] = new_joint\n",
        "    joint_dict[i+1]= new_joint\n",
        "    new_joint = np.subtract(new_joint, center)\n",
        "    new_joint = np.multiply(new_joint, gain2)\n",
        "    normalized_joints[:,:,i] = new_joint\n",
        "    normalized_joint_dict[i+1] = new_joint\n",
        "    print(i * 100 /2000)\n",
        "  "
      ],
      "execution_count": null,
      "outputs": []
    },
    {
      "cell_type": "code",
      "metadata": {
        "id": "VGO3p3SKKZpG",
        "colab_type": "code",
        "colab": {
          "base_uri": "https://localhost:8080/",
          "height": 265
        },
        "outputId": "b97932ce-a9a5-43dd-9827-6775b48f4b9e"
      },
      "source": [
        "import numpy as np\n",
        "x1 = np.array([-0.2698, -0.2047, -0.0861,  0.0305, -0.0796, -0.2080, -0.1572,\n",
        "          -0.0547,  0.0362,  0.2426,  0.1321,  0.0398,  0.1640,  0.2648])\n",
        "y1 = np.array( [-0.2969, -0.1310,  0.0347,  0.0165, -0.1609, -0.2977,  0.0296,\n",
        "           0.1345,  0.2404,  0.2011,  0.0637, -0.0342,  0.2792,  0.3114])\n",
        "y1 = np.multiply(y1, -1)\n",
        "import matplotlib.pyplot as plt\n",
        "plt.scatter(x1, y1)\n",
        "plt.xlim(-0.5, 0.5)\n",
        "plt.ylim(-0.5, 0.5)\n",
        "plt.show()"
      ],
      "execution_count": null,
      "outputs": [
        {
          "output_type": "display_data",
          "data": {
            "image/png": "[encoded data removed]",
            "text/plain": [
              "<Figure size 432x288 with 1 Axes>"
            ]
          },
          "metadata": {
            "tags": [],
            "needs_background": "light"
          }
        }
      ]
    },
    {
      "cell_type": "code",
      "metadata": {
        "id": "HyNw-8mBLce7",
        "colab_type": "code",
        "colab": {
          "base_uri": "https://localhost:8080/",
          "height": 265
        },
        "outputId": "6b6a931f-eabc-4a9b-d29f-62456f842763"
      },
      "source": [
        "[-0.0421, -0.0309, -0.0337,  0.0131,  0.0205,  0.0117, -0.0314,\n",
        "          -0.0518, -0.0340,  0.0388,  0.0508,  0.0534,  0.0053,  0.0089]\n",
        "\n",
        "import numpy as np\n",
        "x = np.array([-0.2797, -0.1923, -0.1171,  0.0019, -0.1098, -0.2263, -0.1535,\n",
        "          -0.0467,  0.0529,  0.2374,  0.1306,  0.0359,  0.1719,  0.2714])\n",
        "y = np.array(  [-0.3133, -0.1592,  0.0277,  0.0133, -0.1839, -0.3133,  0.0729,\n",
        "           0.1715,  0.2743,  0.2208,  0.0914, -0.0092,  0.2969,  0.3092])\n",
        "y = np.multiply(y, -1)\n",
        "import matplotlib.pyplot as plt\n",
        "plt.scatter(x, y)\n",
        "plt.xlim(-0.5, 0.5)\n",
        "plt.ylim(-0.5, 0.5)\n",
        "plt.show()"
      ],
      "execution_count": null,
      "outputs": [
        {
          "output_type": "display_data",
          "data": {
            "image/png": "[encoded data removed]",
            "text/plain": [
              "<Figure size 432x288 with 1 Axes>"
            ]
          },
          "metadata": {
            "tags": [],
            "needs_background": "light"
          }
        }
      ]
    }
  ]
}