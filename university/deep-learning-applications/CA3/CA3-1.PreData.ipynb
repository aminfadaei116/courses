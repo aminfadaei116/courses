{
  "nbformat": 4,
  "nbformat_minor": 0,
  "metadata": {
    "colab": {
      "name": "Q1-PreData.ipynb",
      "provenance": [],
      "collapsed_sections": [],
      "authorship_tag": "ABX9TyNABabfACocI0XrXar+MC9H",
      "include_colab_link": true
    },
    "kernelspec": {
      "name": "python3",
      "display_name": "Python 3"
    },
    "widgets": {
      "application/vnd.jupyter.widget-state+json": {
        "c6844266ba2542eda934042d17a54daa": {
          "model_module": "@jupyter-widgets/controls",
          "model_name": "HBoxModel",
          "state": {
            "_view_name": "HBoxView",
            "_dom_classes": [],
            "_model_name": "HBoxModel",
            "_view_module": "@jupyter-widgets/controls",
            "_model_module_version": "1.5.0",
            "_view_count": null,
            "_view_module_version": "1.5.0",
            "box_style": "",
            "layout": "IPY_MODEL_b32b8d032e1d4dc5a85edc1429c305ac",
            "_model_module": "@jupyter-widgets/controls",
            "children": [
              "IPY_MODEL_4cada88fe0e64608aabfb0735cc5f4e0",
              "IPY_MODEL_03692a3a9e7c4eecbe975f0183fe3852"
            ]
          }
        },
        "b32b8d032e1d4dc5a85edc1429c305ac": {
          "model_module": "@jupyter-widgets/base",
          "model_name": "LayoutModel",
          "state": {
            "_view_name": "LayoutView",
            "grid_template_rows": null,
            "right": null,
            "justify_content": null,
            "_view_module": "@jupyter-widgets/base",
            "overflow": null,
            "_model_module_version": "1.2.0",
            "_view_count": null,
            "flex_flow": null,
            "width": null,
            "min_width": null,
            "border": null,
            "align_items": null,
            "bottom": null,
            "_model_module": "@jupyter-widgets/base",
            "top": null,
            "grid_column": null,
            "overflow_y": null,
            "overflow_x": null,
            "grid_auto_flow": null,
            "grid_area": null,
            "grid_template_columns": null,
            "flex": null,
            "_model_name": "LayoutModel",
            "justify_items": null,
            "grid_row": null,
            "max_height": null,
            "align_content": null,
            "visibility": null,
            "align_self": null,
            "height": null,
            "min_height": null,
            "padding": null,
            "grid_auto_rows": null,
            "grid_gap": null,
            "max_width": null,
            "order": null,
            "_view_module_version": "1.2.0",
            "grid_template_areas": null,
            "object_position": null,
            "object_fit": null,
            "grid_auto_columns": null,
            "margin": null,
            "display": null,
            "left": null
          }
        },
        "4cada88fe0e64608aabfb0735cc5f4e0": {
          "model_module": "@jupyter-widgets/controls",
          "model_name": "FloatProgressModel",
          "state": {
            "_view_name": "ProgressView",
            "style": "IPY_MODEL_17a5c8a502cf400da6405e0680da104f",
            "_dom_classes": [],
            "description": "",
            "_model_name": "FloatProgressModel",
            "bar_style": "success",
            "max": 1,
            "_view_module": "@jupyter-widgets/controls",
            "_model_module_version": "1.5.0",
            "value": 1,
            "_view_count": null,
            "_view_module_version": "1.5.0",
            "orientation": "horizontal",
            "min": 0,
            "description_tooltip": null,
            "_model_module": "@jupyter-widgets/controls",
            "layout": "IPY_MODEL_4c8581abb14343749f8ebdbe38dc9657"
          }
        },
        "03692a3a9e7c4eecbe975f0183fe3852": {
          "model_module": "@jupyter-widgets/controls",
          "model_name": "HTMLModel",
          "state": {
            "_view_name": "HTMLView",
            "style": "IPY_MODEL_76295507c56f4e199e76c34c706b8f4e",
            "_dom_classes": [],
            "description": "",
            "_model_name": "HTMLModel",
            "placeholder": "​",
            "_view_module": "@jupyter-widgets/controls",
            "_model_module_version": "1.5.0",
            "value": " 1833790/? [14:31&lt;00:00, 2105.17it/s]",
            "_view_count": null,
            "_view_module_version": "1.5.0",
            "description_tooltip": null,
            "_model_module": "@jupyter-widgets/controls",
            "layout": "IPY_MODEL_b674646e223a4b71b057f40ea0b6c253"
          }
        },
        "17a5c8a502cf400da6405e0680da104f": {
          "model_module": "@jupyter-widgets/controls",
          "model_name": "ProgressStyleModel",
          "state": {
            "_view_name": "StyleView",
            "_model_name": "ProgressStyleModel",
            "description_width": "initial",
            "_view_module": "@jupyter-widgets/base",
            "_model_module_version": "1.5.0",
            "_view_count": null,
            "_view_module_version": "1.2.0",
            "bar_color": null,
            "_model_module": "@jupyter-widgets/controls"
          }
        },
        "4c8581abb14343749f8ebdbe38dc9657": {
          "model_module": "@jupyter-widgets/base",
          "model_name": "LayoutModel",
          "state": {
            "_view_name": "LayoutView",
            "grid_template_rows": null,
            "right": null,
            "justify_content": null,
            "_view_module": "@jupyter-widgets/base",
            "overflow": null,
            "_model_module_version": "1.2.0",
            "_view_count": null,
            "flex_flow": null,
            "width": null,
            "min_width": null,
            "border": null,
            "align_items": null,
            "bottom": null,
            "_model_module": "@jupyter-widgets/base",
            "top": null,
            "grid_column": null,
            "overflow_y": null,
            "overflow_x": null,
            "grid_auto_flow": null,
            "grid_area": null,
            "grid_template_columns": null,
            "flex": null,
            "_model_name": "LayoutModel",
            "justify_items": null,
            "grid_row": null,
            "max_height": null,
            "align_content": null,
            "visibility": null,
            "align_self": null,
            "height": null,
            "min_height": null,
            "padding": null,
            "grid_auto_rows": null,
            "grid_gap": null,
            "max_width": null,
            "order": null,
            "_view_module_version": "1.2.0",
            "grid_template_areas": null,
            "object_position": null,
            "object_fit": null,
            "grid_auto_columns": null,
            "margin": null,
            "display": null,
            "left": null
          }
        },
        "76295507c56f4e199e76c34c706b8f4e": {
          "model_module": "@jupyter-widgets/controls",
          "model_name": "DescriptionStyleModel",
          "state": {
            "_view_name": "StyleView",
            "_model_name": "DescriptionStyleModel",
            "description_width": "",
            "_view_module": "@jupyter-widgets/base",
            "_model_module_version": "1.5.0",
            "_view_count": null,
            "_view_module_version": "1.2.0",
            "_model_module": "@jupyter-widgets/controls"
          }
        },
        "b674646e223a4b71b057f40ea0b6c253": {
          "model_module": "@jupyter-widgets/base",
          "model_name": "LayoutModel",
          "state": {
            "_view_name": "LayoutView",
            "grid_template_rows": null,
            "right": null,
            "justify_content": null,
            "_view_module": "@jupyter-widgets/base",
            "overflow": null,
            "_model_module_version": "1.2.0",
            "_view_count": null,
            "flex_flow": null,
            "width": null,
            "min_width": null,
            "border": null,
            "align_items": null,
            "bottom": null,
            "_model_module": "@jupyter-widgets/base",
            "top": null,
            "grid_column": null,
            "overflow_y": null,
            "overflow_x": null,
            "grid_auto_flow": null,
            "grid_area": null,
            "grid_template_columns": null,
            "flex": null,
            "_model_name": "LayoutModel",
            "justify_items": null,
            "grid_row": null,
            "max_height": null,
            "align_content": null,
            "visibility": null,
            "align_self": null,
            "height": null,
            "min_height": null,
            "padding": null,
            "grid_auto_rows": null,
            "grid_gap": null,
            "max_width": null,
            "order": null,
            "_view_module_version": "1.2.0",
            "grid_template_areas": null,
            "object_position": null,
            "object_fit": null,
            "grid_auto_columns": null,
            "margin": null,
            "display": null,
            "left": null
          }
        },
        "47a414a05f19441eb097eea9c095c981": {
          "model_module": "@jupyter-widgets/controls",
          "model_name": "HBoxModel",
          "state": {
            "_view_name": "HBoxView",
            "_dom_classes": [],
            "_model_name": "HBoxModel",
            "_view_module": "@jupyter-widgets/controls",
            "_model_module_version": "1.5.0",
            "_view_count": null,
            "_view_module_version": "1.5.0",
            "box_style": "",
            "layout": "IPY_MODEL_fe794a1479f249a2a21ff412ad5f95dc",
            "_model_module": "@jupyter-widgets/controls",
            "children": [
              "IPY_MODEL_d6792b11aaa24861993ab3dc0e339017",
              "IPY_MODEL_ebbf8ce426764169907054396cbbc28d"
            ]
          }
        },
        "fe794a1479f249a2a21ff412ad5f95dc": {
          "model_module": "@jupyter-widgets/base",
          "model_name": "LayoutModel",
          "state": {
            "_view_name": "LayoutView",
            "grid_template_rows": null,
            "right": null,
            "justify_content": null,
            "_view_module": "@jupyter-widgets/base",
            "overflow": null,
            "_model_module_version": "1.2.0",
            "_view_count": null,
            "flex_flow": null,
            "width": null,
            "min_width": null,
            "border": null,
            "align_items": null,
            "bottom": null,
            "_model_module": "@jupyter-widgets/base",
            "top": null,
            "grid_column": null,
            "overflow_y": null,
            "overflow_x": null,
            "grid_auto_flow": null,
            "grid_area": null,
            "grid_template_columns": null,
            "flex": null,
            "_model_name": "LayoutModel",
            "justify_items": null,
            "grid_row": null,
            "max_height": null,
            "align_content": null,
            "visibility": null,
            "align_self": null,
            "height": null,
            "min_height": null,
            "padding": null,
            "grid_auto_rows": null,
            "grid_gap": null,
            "max_width": null,
            "order": null,
            "_view_module_version": "1.2.0",
            "grid_template_areas": null,
            "object_position": null,
            "object_fit": null,
            "grid_auto_columns": null,
            "margin": null,
            "display": null,
            "left": null
          }
        },
        "d6792b11aaa24861993ab3dc0e339017": {
          "model_module": "@jupyter-widgets/controls",
          "model_name": "FloatProgressModel",
          "state": {
            "_view_name": "ProgressView",
            "style": "IPY_MODEL_69afbf241560478ea5f1ff5e0e0af8db",
            "_dom_classes": [],
            "description": "",
            "_model_name": "FloatProgressModel",
            "bar_style": "success",
            "max": 1,
            "_view_module": "@jupyter-widgets/controls",
            "_model_module_version": "1.5.0",
            "value": 1,
            "_view_count": null,
            "_view_module_version": "1.5.0",
            "orientation": "horizontal",
            "min": 0,
            "description_tooltip": null,
            "_model_module": "@jupyter-widgets/controls",
            "layout": "IPY_MODEL_dde4d3062a8f4166a758940c5c040c43"
          }
        },
        "ebbf8ce426764169907054396cbbc28d": {
          "model_module": "@jupyter-widgets/controls",
          "model_name": "HTMLModel",
          "state": {
            "_view_name": "HTMLView",
            "style": "IPY_MODEL_ea1caee6e68b4ca8a2c5a0642c625985",
            "_dom_classes": [],
            "description": "",
            "_model_name": "HTMLModel",
            "placeholder": "​",
            "_view_module": "@jupyter-widgets/controls",
            "_model_module_version": "1.5.0",
            "value": " 1917494/? [01:32&lt;00:00, 20654.51it/s]",
            "_view_count": null,
            "_view_module_version": "1.5.0",
            "description_tooltip": null,
            "_model_module": "@jupyter-widgets/controls",
            "layout": "IPY_MODEL_307fa87692cf43d0be8792ac1ceba8da"
          }
        },
        "69afbf241560478ea5f1ff5e0e0af8db": {
          "model_module": "@jupyter-widgets/controls",
          "model_name": "ProgressStyleModel",
          "state": {
            "_view_name": "StyleView",
            "_model_name": "ProgressStyleModel",
            "description_width": "initial",
            "_view_module": "@jupyter-widgets/base",
            "_model_module_version": "1.5.0",
            "_view_count": null,
            "_view_module_version": "1.2.0",
            "bar_color": null,
            "_model_module": "@jupyter-widgets/controls"
          }
        },
        "dde4d3062a8f4166a758940c5c040c43": {
          "model_module": "@jupyter-widgets/base",
          "model_name": "LayoutModel",
          "state": {
            "_view_name": "LayoutView",
            "grid_template_rows": null,
            "right": null,
            "justify_content": null,
            "_view_module": "@jupyter-widgets/base",
            "overflow": null,
            "_model_module_version": "1.2.0",
            "_view_count": null,
            "flex_flow": null,
            "width": null,
            "min_width": null,
            "border": null,
            "align_items": null,
            "bottom": null,
            "_model_module": "@jupyter-widgets/base",
            "top": null,
            "grid_column": null,
            "overflow_y": null,
            "overflow_x": null,
            "grid_auto_flow": null,
            "grid_area": null,
            "grid_template_columns": null,
            "flex": null,
            "_model_name": "LayoutModel",
            "justify_items": null,
            "grid_row": null,
            "max_height": null,
            "align_content": null,
            "visibility": null,
            "align_self": null,
            "height": null,
            "min_height": null,
            "padding": null,
            "grid_auto_rows": null,
            "grid_gap": null,
            "max_width": null,
            "order": null,
            "_view_module_version": "1.2.0",
            "grid_template_areas": null,
            "object_position": null,
            "object_fit": null,
            "grid_auto_columns": null,
            "margin": null,
            "display": null,
            "left": null
          }
        },
        "ea1caee6e68b4ca8a2c5a0642c625985": {
          "model_module": "@jupyter-widgets/controls",
          "model_name": "DescriptionStyleModel",
          "state": {
            "_view_name": "StyleView",
            "_model_name": "DescriptionStyleModel",
            "description_width": "",
            "_view_module": "@jupyter-widgets/base",
            "_model_module_version": "1.5.0",
            "_view_count": null,
            "_view_module_version": "1.2.0",
            "_model_module": "@jupyter-widgets/controls"
          }
        },
        "307fa87692cf43d0be8792ac1ceba8da": {
          "model_module": "@jupyter-widgets/base",
          "model_name": "LayoutModel",
          "state": {
            "_view_name": "LayoutView",
            "grid_template_rows": null,
            "right": null,
            "justify_content": null,
            "_view_module": "@jupyter-widgets/base",
            "overflow": null,
            "_model_module_version": "1.2.0",
            "_view_count": null,
            "flex_flow": null,
            "width": null,
            "min_width": null,
            "border": null,
            "align_items": null,
            "bottom": null,
            "_model_module": "@jupyter-widgets/base",
            "top": null,
            "grid_column": null,
            "overflow_y": null,
            "overflow_x": null,
            "grid_auto_flow": null,
            "grid_area": null,
            "grid_template_columns": null,
            "flex": null,
            "_model_name": "LayoutModel",
            "justify_items": null,
            "grid_row": null,
            "max_height": null,
            "align_content": null,
            "visibility": null,
            "align_self": null,
            "height": null,
            "min_height": null,
            "padding": null,
            "grid_auto_rows": null,
            "grid_gap": null,
            "max_width": null,
            "order": null,
            "_view_module_version": "1.2.0",
            "grid_template_areas": null,
            "object_position": null,
            "object_fit": null,
            "grid_auto_columns": null,
            "margin": null,
            "display": null,
            "left": null
          }
        }
      }
    }
  },
  "cells": [
    {
      "cell_type": "markdown",
      "metadata": {
        "id": "view-in-github",
        "colab_type": "text"
      },
      "source": [
        "<a href=\"https://colab.research.google.com/github/aminfadaei116/Deep-Learning-Course/blob/master/CA3/Q1_PreData.ipynb\" target=\"_parent\"><img src=\"https://colab.research.google.com/assets/colab-badge.svg\" alt=\"Open In Colab\"/></a>"
      ]
    },
    {
      "cell_type": "code",
      "metadata": {
        "id": "qz-KUv7Ku5ym",
        "colab_type": "code",
        "colab": {
          "base_uri": "https://localhost:8080/",
          "height": 126
        },
        "outputId": "1c7a548a-18a3-4933-fe30-030f601aed59"
      },
      "source": [
        " from google.colab import drive\n",
        "drive.mount('/content/drive')"
      ],
      "execution_count": null,
      "outputs": [
        {
          "output_type": "stream",
          "text": [
            "Go to this URL in a browser: https://accounts.google.com/o/oauth2/auth?client_id=947318989803-6bn6qk8qdgf4n4g3pfee6491hc0brc4i.apps.googleusercontent.com&redirect_uri=urn%3aietf%3awg%3aoauth%3a2.0%3aoob&response_type=code&scope=email%20https%3a%2f%2fwww.googleapis.com%2fauth%2fdocs.test%20https%3a%2f%2fwww.googleapis.com%2fauth%2fdrive%20https%3a%2f%2fwww.googleapis.com%2fauth%2fdrive.photos.readonly%20https%3a%2f%2fwww.googleapis.com%2fauth%2fpeopleapi.readonly\n",
            "\n",
            "Enter your authorization code:\n",
            "··········\n",
            "Mounted at /content/drive\n"
          ],
          "name": "stdout"
        }
      ]
    },
    {
      "cell_type": "code",
      "metadata": {
        "id": "VBxTYg2U5f0B",
        "colab_type": "code",
        "colab": {}
      },
      "source": [
        "import cv2\n",
        "from scipy.io import loadmat\n",
        "import numpy as np\n",
        "import tqdm\n",
        "import torch\n",
        "import matplotlib.pyplot as plt\n",
        "import pandas as pd\n",
        "import numpy as np\n",
        "from numpy import linalg as LA\n",
        "import re\n",
        "from tqdm.notebook import tqdm\n",
        "import json "
      ],
      "execution_count": null,
      "outputs": []
    },
    {
      "cell_type": "code",
      "metadata": {
        "id": "uGLSoxMU5hY9",
        "colab_type": "code",
        "colab": {
          "base_uri": "https://localhost:8080/",
          "height": 65,
          "referenced_widgets": [
            "c6844266ba2542eda934042d17a54daa",
            "b32b8d032e1d4dc5a85edc1429c305ac",
            "4cada88fe0e64608aabfb0735cc5f4e0",
            "03692a3a9e7c4eecbe975f0183fe3852",
            "17a5c8a502cf400da6405e0680da104f",
            "4c8581abb14343749f8ebdbe38dc9657",
            "76295507c56f4e199e76c34c706b8f4e",
            "b674646e223a4b71b057f40ea0b6c253"
          ]
        },
        "outputId": "f010efe9-c277-4052-f70f-c57c2c8db142"
      },
      "source": [
        "import requests\n",
        "from tqdm.notebook import tqdm\n",
        "file_url = \"http://downloads.cs.stanford.edu/nlp/data/glove.42B.300d.zip\"\n",
        "r = requests.get(file_url, stream = True)\n",
        "with open(\"/content/drive/My Drive/Deep Learning Course Spring 99/DataSets/HW3-DataSet/Q1/glove42b300dtxt.zip\", \"wb\") as file:\n",
        "    for block in tqdm(r.iter_content(chunk_size = 1024)):\n",
        "         if block:\n",
        "             file.write(block)"
      ],
      "execution_count": null,
      "outputs": [
        {
          "output_type": "display_data",
          "data": {
            "application/vnd.jupyter.widget-view+json": {
              "model_id": "c6844266ba2542eda934042d17a54daa",
              "version_minor": 0,
              "version_major": 2
            },
            "text/plain": [
              "HBox(children=(FloatProgress(value=1.0, bar_style='info', max=1.0), HTML(value='')))"
            ]
          },
          "metadata": {
            "tags": []
          }
        },
        {
          "output_type": "stream",
          "text": [
            "\n"
          ],
          "name": "stdout"
        }
      ]
    },
    {
      "cell_type": "code",
      "metadata": {
        "id": "5BGS9vWwRxNo",
        "colab_type": "code",
        "colab": {}
      },
      "source": [
        "import urllib.request\n",
        "\n",
        "url = 'http://cs.stanford.edu/people/alecmgo/trainingandtestdata.zip'\n",
        "urllib.request.urlretrieve(url, '/content/drive/My Drive/Deep Learning Course Spring 99/DataSets/HW3-DataSet/Q1/trainingandtestdata.zipz')"
      ],
      "execution_count": null,
      "outputs": []
    },
    {
      "cell_type": "code",
      "metadata": {
        "id": "kTC0FnlNL00F",
        "colab_type": "code",
        "colab": {
          "base_uri": "https://localhost:8080/",
          "height": 100
        },
        "outputId": "19ec13ea-a537-4459-bede-09fff4c9cd69"
      },
      "source": [
        "from zipfile import ZipFile \n",
        "  \n",
        "# specifying the zip file name \n",
        "file_name = \"/content/drive/My Drive/Deep Learning Course Spring 99/DataSets/HW3-DataSet/Q1/trainingandtestdata.zipz\"\n",
        "  \n",
        "# opening the zip file in READ mode \n",
        "with ZipFile(file_name, 'r') as zip: \n",
        "    # printing all the contents of the zip file \n",
        "    zip.printdir() \n",
        "  \n",
        "    # extracting all the files \n",
        "    print('Extracting all the files now...') \n",
        "    zip.extractall(\"/content/drive/My Drive/Deep Learning Course Spring 99/DataSets/HW3-DataSet/Q1/Data\") \n",
        "    print('Done!')"
      ],
      "execution_count": null,
      "outputs": [
        {
          "output_type": "stream",
          "text": [
            "File Name                                             Modified             Size\n",
            "testdata.manual.2009.06.14.csv                 2010-03-04 20:20:12        74326\n",
            "training.1600000.processed.noemoticon.csv      2010-03-04 20:20:42    238803811\n",
            "Extracting all the files now...\n",
            "Done!\n"
          ],
          "name": "stdout"
        }
      ]
    },
    {
      "cell_type": "code",
      "metadata": {
        "id": "-sAdCO6tFzSJ",
        "colab_type": "code",
        "colab": {
          "base_uri": "https://localhost:8080/",
          "height": 84
        },
        "outputId": "ef86cec4-018b-48e3-b76f-7c1941454e18"
      },
      "source": [
        "from zipfile import ZipFile \n",
        "  \n",
        "# specifying the zip file name \n",
        "file_name = \"/content/drive/My Drive/Deep Learning Course Spring 99/DataSets/HW3-DataSet/Q1/glove42b300dtxt.zip\"\n",
        "  \n",
        "# opening the zip file in READ mode \n",
        "with ZipFile(file_name, 'r') as zip: \n",
        "    # printing all the contents of the zip file \n",
        "    zip.printdir() \n",
        "  \n",
        "    # extracting all the files \n",
        "    print('Extracting all the files now...') \n",
        "    zip.extractall(\"/content/drive/My Drive/Deep Learning Course Spring 99/DataSets/HW3-DataSet/Q1\") \n",
        "    print('Done!')"
      ],
      "execution_count": null,
      "outputs": [
        {
          "output_type": "stream",
          "text": [
            "File Name                                             Modified             Size\n",
            "glove.42B.300d.txt                             2015-10-24 16:49:22   5025028820\n",
            "Extracting all the files now...\n",
            "Done!\n"
          ],
          "name": "stdout"
        }
      ]
    },
    {
      "cell_type": "code",
      "metadata": {
        "id": "y_Nmz4mcRBcL",
        "colab_type": "code",
        "colab": {}
      },
      "source": [
        "Test_Data = pd.read_csv('/content/drive/My Drive/Deep Learning Course Spring 99/DataSets/HW3-DataSet/Q1/Data/testdata.manual.2009.06.14.csv', header = None, encoding = \"ISO-8859-1\")\n",
        "Train_Data = pd.read_csv('/content/drive/My Drive/Deep Learning Course Spring 99/DataSets/HW3-DataSet/Q1/Data/training.1600000.processed.noemoticon.csv', header = None, encoding = \"ISO-8859-1\")"
      ],
      "execution_count": null,
      "outputs": []
    },
    {
      "cell_type": "code",
      "metadata": {
        "id": "uLnAtMU3b5mT",
        "colab_type": "code",
        "colab": {}
      },
      "source": [
        "Test_Data = pd.read_csv('/content/drive/My Drive/Deep Learning Course Spring 99/DataSets/HW3-DataSet/Q1/Data/testdata.manual.2009.06.14.csv', header = None, encoding = \"ISO-8859-1\")\n",
        "Test_Data.columns = ['label', 'twitter number', 'date', 'is query', 'account ID', 'sentence']\n",
        "del Test_Data['twitter number']\n",
        "del Test_Data['date']\n",
        "del Test_Data['is query']\n",
        "del Test_Data['account ID']"
      ],
      "execution_count": null,
      "outputs": []
    },
    {
      "cell_type": "code",
      "metadata": {
        "id": "o1AV629w_gb5",
        "colab_type": "code",
        "colab": {}
      },
      "source": [
        "Train_Data.columns = ['label', 'twitter number', 'date', 'is query', 'account ID', 'sentence']\n",
        "Test_Data.columns = ['label', 'twitter number', 'date', 'is query', 'account ID', 'sentence']"
      ],
      "execution_count": null,
      "outputs": []
    },
    {
      "cell_type": "code",
      "metadata": {
        "id": "jr2NBuPeKQ5N",
        "colab_type": "code",
        "colab": {}
      },
      "source": [
        "del Train_Data['twitter number']\n",
        "del Train_Data['date']\n",
        "del Train_Data['is query']\n",
        "del Train_Data['account ID']\n",
        "\n",
        "del Test_Data['twitter number']\n",
        "del Test_Data['date']\n",
        "del Test_Data['is query']\n",
        "del Test_Data['account ID']"
      ],
      "execution_count": null,
      "outputs": []
    },
    {
      "cell_type": "code",
      "metadata": {
        "id": "IlPwk3WXIsxB",
        "colab_type": "code",
        "colab": {}
      },
      "source": [
        "Train_Data = Train_Data.sample(frac=1).reset_index(drop=True)"
      ],
      "execution_count": null,
      "outputs": []
    },
    {
      "cell_type": "code",
      "metadata": {
        "id": "-Oo1OsvDG_yF",
        "colab_type": "code",
        "colab": {}
      },
      "source": [
        "N = Train_data.shape[0]\n",
        "i = 0\n",
        "j = 0\n",
        "while i < 10:\n",
        "  res = \"http://\" in Train_Data.loc[i]['sentence']\n",
        "  if res == True:\n",
        "    i += 1\n",
        "    continue\n",
        "  else:\n",
        "    text = Train_Data.loc[i]['sentence']\n",
        "    text = text.lower()\n",
        "    text = re.sub(\"#\", \"\", text)\n",
        "    text = re.sub('\\%|\\{|\\}|\\;|\\$|\\[|\\]|\\>|\\<|\\#|\\*|\\?|\\.|\\!|\\,|\\:|\\(|\\)|\\/|\\=|\\—|\\-|\\~', \" \", text)\n",
        "    temp = [ t for t in text.split() if t.startswith('@') ]\n",
        "    for j in range(len(temp)):\n",
        "      text = re.sub(temp[j], \"someone\", text)\n",
        "    temp = pd.DataFrame([Train_Data.loc[i]['label']/2, text])\n",
        "    new_Train_Data.append(temp, ignore_index=True)\n",
        "    i += 1\n",
        "    j += 1\n",
        "  print(i/N, \" %\")\n"
      ],
      "execution_count": null,
      "outputs": []
    },
    {
      "cell_type": "code",
      "metadata": {
        "id": "LCOChlc7TSIL",
        "colab_type": "code",
        "colab": {}
      },
      "source": [
        "N = Train_Data.shape[0]\n",
        "\n",
        "while(i < N):\n",
        "  res = \"http://\" in Train_Data.loc[i]['sentence']\n",
        "  if res == True:\n",
        "    Train_Data = Train_Data.drop(i)\n",
        "  else:\n",
        "    text = Train_Data.loc[i]['sentence']\n",
        "    text = text.lower()\n",
        "    text = re.sub(\"#\", \"\", text)\n",
        "    text = re.sub('\\%|\\{|\\}|\\;|\\$|\\[|\\]|\\>|\\<|\\#|\\*|\\?|\\.|\\!|\\,|\\:|\\(|\\)|\\/|\\=|\\—|\\-', \" \", text)\n",
        "    temp = [ t for t in text.split() if t.startswith('@') ]\n",
        "    for j in range(len(temp)):\n",
        "      text = re.sub(temp[j], \"someone\", text)\n",
        "    Train_Data.at[i, 'sentence'] = text\n",
        "    if Train_Data.loc[i]['label'] == 2:\n",
        "      Train_Data.at[i, \"label\"] = 1\n",
        "    elif Train_Data.loc[i]['label'] == 4:\n",
        "      Train_Data.at[i, \"label\"] = 2\n",
        "    print(i/N, \" %\")\n",
        "  i += 1"
      ],
      "execution_count": null,
      "outputs": []
    },
    {
      "cell_type": "code",
      "metadata": {
        "id": "2kO6YLJ7iOz2",
        "colab_type": "code",
        "colab": {}
      },
      "source": [
        "N = Test_Data.shape[0]\n",
        "i = 0\n",
        "while(i < N):\n",
        "  res = \"http://\" in Test_Data.loc[i]['sentence']\n",
        "  if res == True:\n",
        "    Test_Data = Test_Data.drop(i)\n",
        "  else:\n",
        "    text = Test_Data.loc[i]['sentence']\n",
        "    text = text.lower()\n",
        "    text = re.sub(\"#\", \"\", text)\n",
        "    text = re.sub('\\%|\\{|\\}|\\;|\\$|\\[|\\]|\\>|\\<|\\#|\\*|\\?|\\.|\\!|\\,|\\:|\\(|\\)|\\/|\\=|\\—|\\-', \" \", text)\n",
        "    temp = [ t for t in text.split() if t.startswith('@') ]\n",
        "    for j in range(len(temp)):\n",
        "      text = re.sub(temp[j], \"someone\", text)\n",
        "    Test_Data.at[i, 'sentence'] = text\n",
        "    if Test_Data.loc[i]['label'] == 2:\n",
        "      Test_Data.at[i, \"label\"] = 1\n",
        "    elif Test_Data.loc[i]['label'] == 4:\n",
        "      Test_Data.at[i, \"label\"] = 2\n",
        "    print(i/N, \" %\")\n",
        "  i += 1"
      ],
      "execution_count": null,
      "outputs": []
    },
    {
      "cell_type": "code",
      "metadata": {
        "id": "obiAa8ZqF7Q0",
        "colab_type": "code",
        "colab": {}
      },
      "source": [
        "Temp_Train.to_csv(\"/content/drive/My Drive/Deep Learning Course Spring 99/DataSets/HW3-DataSet/Q1/Data/TrainD.csv\", index=False, header=False)\n",
        "Temp_Test.to_csv(\"/content/drive/My Drive/Deep Learning Course Spring 99/DataSets/HW3-DataSet/Q1/Data/TestD.csv\", index=False, header=False)"
      ],
      "execution_count": null,
      "outputs": []
    },
    {
      "cell_type": "code",
      "metadata": {
        "id": "A9MlCqMuczPL",
        "colab_type": "code",
        "colab": {}
      },
      "source": [
        "Test_Data.to_csv(\"/content/drive/My Drive/Deep Learning Course Spring 99/DataSets/HW3-DataSet/Q1/Data/TestD.csv\", index=False, header=False)"
      ],
      "execution_count": null,
      "outputs": []
    },
    {
      "cell_type": "code",
      "metadata": {
        "id": "zHCfLf7NIzZ6",
        "colab_type": "code",
        "colab": {}
      },
      "source": [
        "def make_dict(INPUT_PTH):\n",
        "    word_dict = {}\n",
        "    with open(INPUT_PTH, 'r') as my_file:\n",
        "        for sentence in tqdm(my_file):\n",
        "          sentence = sentence[:-1]\n",
        "          line = sentence.split(\" \", 1)\n",
        "          word = line[0]\n",
        "          value = line[1]\n",
        "          word_dict[word] = value\n",
        "    with open('/content/drive/My Drive/Deep Learning Course Spring 99/DataSets/HW3-DataSet/Q1/glove.json', 'w') as my_file:\n",
        "        json.dump(word_dict, my_file)   \n",
        "    return word_dict"
      ],
      "execution_count": null,
      "outputs": []
    },
    {
      "cell_type": "code",
      "metadata": {
        "id": "2CYf4UA7bv83",
        "colab_type": "code",
        "colab": {
          "base_uri": "https://localhost:8080/",
          "height": 65,
          "referenced_widgets": [
            "47a414a05f19441eb097eea9c095c981",
            "fe794a1479f249a2a21ff412ad5f95dc",
            "d6792b11aaa24861993ab3dc0e339017",
            "ebbf8ce426764169907054396cbbc28d",
            "69afbf241560478ea5f1ff5e0e0af8db",
            "dde4d3062a8f4166a758940c5c040c43",
            "ea1caee6e68b4ca8a2c5a0642c625985",
            "307fa87692cf43d0be8792ac1ceba8da"
          ]
        },
        "outputId": "3dc95487-c3fc-4dfe-92fd-6cb46e03253a"
      },
      "source": [
        "My_dict = make_dict('/content/drive/My Drive/Deep Learning Course Spring 99/DataSets/HW3-DataSet/Q1/glove.42B.300d.txt')"
      ],
      "execution_count": null,
      "outputs": [
        {
          "output_type": "display_data",
          "data": {
            "application/vnd.jupyter.widget-view+json": {
              "model_id": "47a414a05f19441eb097eea9c095c981",
              "version_minor": 0,
              "version_major": 2
            },
            "text/plain": [
              "HBox(children=(FloatProgress(value=1.0, bar_style='info', max=1.0), HTML(value='')))"
            ]
          },
          "metadata": {
            "tags": []
          }
        },
        {
          "output_type": "stream",
          "text": [
            "\n"
          ],
          "name": "stdout"
        }
      ]
    },
    {
      "cell_type": "code",
      "metadata": {
        "id": "9NRPMaBLd3HZ",
        "colab_type": "code",
        "colab": {}
      },
      "source": [
        "Temp_Test = pd.read_csv('/content/drive/My Drive/Deep Learning Course Spring 99/DataSets/HW3-DataSet/Q1/Data/TestD.csv', header = None, encoding = \"ISO-8859-1\")\n",
        "Temp_Train = pd.read_csv('/content/drive/My Drive/Deep Learning Course Spring 99/DataSets/HW3-DataSet/Q1/Data/TrainD.csv', header = None, encoding = \"ISO-8859-1\")[0:500000]\n",
        "Temp_Train.columns = ['label', 'sentence']\n",
        "Temp_Test.columns = ['label', 'sentence']"
      ],
      "execution_count": null,
      "outputs": []
    },
    {
      "cell_type": "code",
      "metadata": {
        "id": "wLv3sxtWcBqm",
        "colab_type": "code",
        "colab": {}
      },
      "source": [
        "Test_Data = pd.read_csv('/content/drive/My Drive/Deep Learning Course Spring 99/DataSets/HW3-DataSet/Q1/Data/TestD.csv', header = None, encoding = \"ISO-8859-1\")\n",
        "Train_Data = pd.read_csv('/content/drive/My Drive/Deep Learning Course Spring 99/DataSets/HW3-DataSet/Q1/Data/TrainD.csv', header = None, encoding = \"ISO-8859-1\")#[0:500000]\n",
        "Train_Data.columns = ['label', 'sentence']\n",
        "Test_Data.columns = ['label', 'sentence']"
      ],
      "execution_count": null,
      "outputs": []
    },
    {
      "cell_type": "code",
      "metadata": {
        "id": "1oran9djMzBW",
        "colab_type": "code",
        "colab": {}
      },
      "source": [
        "#for i in range(Temp_Train.shape[0]):\n",
        "N = Temp_Test.shape[0]\n",
        "i = 0\n",
        "while(i < N):\n",
        "  res = \"http://\" in Temp_Test.loc[i]['sentence']\n",
        "  if res == True:\n",
        "    Temp_Test = Temp_Test.drop(i)\n",
        "  else:\n",
        "    text = Temp_Test.loc[i]['sentence']\n",
        "    text = text.lower()\n",
        "    text = re.sub(\"#\", \"\", text)\n",
        "    text = re.sub('\\%|\\{|\\}|\\;|\\$|\\[|\\]|\\>|\\<|\\#|\\*|\\?|\\.|\\!|\\,|\\:|\\(|\\)|\\/|\\=|\\—|\\-', \" \", text)\n",
        "    temp = [ t for t in text.split() if t.startswith('@') ]\n",
        "    for j in range(len(temp)):\n",
        "      text = re.sub(temp[j], \"someone\", text)\n",
        "    Temp_Test.at[i, 'sentence'] = text\n",
        "    if Temp_Test.loc[i]['label'] == 2:\n",
        "      Temp_Test.at[i, \"label\"] = 1\n",
        "    elif Temp_Test.loc[i]['label'] == 4:\n",
        "      Temp_Test.at[i, \"label\"] = 2\n",
        "    print(i/N, \" %\")\n",
        "    print(i/N, \" %\")\n",
        "  i += 1"
      ],
      "execution_count": null,
      "outputs": []
    }
  ]
}