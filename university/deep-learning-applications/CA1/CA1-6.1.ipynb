{
  "nbformat": 4,
  "nbformat_minor": 0,
  "metadata": {
    "colab": {
      "name": "Q6_1.ipynb",
      "provenance": [],
      "collapsed_sections": [],
      "authorship_tag": "ABX9TyPADJRxTgucNS09OmpQrTK6",
      "include_colab_link": true
    },
    "kernelspec": {
      "name": "python3",
      "display_name": "Python 3"
    }
  },
  "cells": [
    {
      "cell_type": "markdown",
      "metadata": {
        "id": "view-in-github",
        "colab_type": "text"
      },
      "source": [
        "<a href=\"https://colab.research.google.com/github/aminfadaei116/Deep-Learning-Course/blob/master/CA1/Q6_1.ipynb\" target=\"_parent\"><img src=\"https://colab.research.google.com/assets/colab-badge.svg\" alt=\"Open In Colab\"/></a>"
      ]
    },
    {
      "cell_type": "code",
      "metadata": {
        "id": "c1QVG_3hyLtt",
        "colab_type": "code",
        "colab": {
          "base_uri": "https://localhost:8080/",
          "height": 121
        },
        "outputId": "149aafbd-7009-42d0-947e-ccd26f71c431"
      },
      "source": [
        "from google.colab import drive\n",
        "drive.mount('/content/drive')"
      ],
      "execution_count": null,
      "outputs": [
        {
          "output_type": "stream",
          "text": [
            "Go to this URL in a browser: https://accounts.google.com/o/oauth2/auth?client_id=947318989803-6bn6qk8qdgf4n4g3pfee6491hc0brc4i.apps.googleusercontent.com&redirect_uri=urn%3aietf%3awg%3aoauth%3a2.0%3aoob&response_type=code&scope=email%20https%3a%2f%2fwww.googleapis.com%2fauth%2fdocs.test%20https%3a%2f%2fwww.googleapis.com%2fauth%2fdrive%20https%3a%2f%2fwww.googleapis.com%2fauth%2fdrive.photos.readonly%20https%3a%2f%2fwww.googleapis.com%2fauth%2fpeopleapi.readonly\n",
            "\n",
            "Enter your authorization code:\n",
            "··········\n",
            "Mounted at /content/drive\n"
          ],
          "name": "stdout"
        }
      ]
    },
    {
      "cell_type": "code",
      "metadata": {
        "id": "Edy6Dn1caqCB",
        "colab_type": "code",
        "colab": {}
      },
      "source": [
        "import pandas as pd\n",
        "import numpy as np"
      ],
      "execution_count": null,
      "outputs": []
    },
    {
      "cell_type": "code",
      "metadata": {
        "id": "hO6GjSm7ar8w",
        "colab_type": "code",
        "colab": {}
      },
      "source": [
        "Test_data = pd.read_csv('/content/drive/My Drive/Deep Learning Course Spring 99/DataSets/Fashion-MNIST/Reduced_Test_Data.csv', header = None)\n",
        "Test_label = pd.read_csv('/content/drive/My Drive/Deep Learning Course Spring 99/DataSets/Fashion-MNIST/testLabels.csv', header = None)\n",
        "Train_data = pd.read_csv('/content/drive/My Drive/Deep Learning Course Spring 99/DataSets/Fashion-MNIST/Reduced_Train_Data.csv', header = None)\n",
        "Train_label = pd.read_csv('/content/drive/My Drive/Deep Learning Course Spring 99/DataSets/Fashion-MNIST/trainLabels.csv', header = None)\n"
      ],
      "execution_count": null,
      "outputs": []
    },
    {
      "cell_type": "code",
      "metadata": {
        "id": "O_mPQ6QAawHv",
        "colab_type": "code",
        "colab": {}
      },
      "source": [
        "Test_data = Test_data.to_numpy()\n",
        "Test_label = Test_label.to_numpy()\n",
        "Train_data = Train_data.to_numpy()\n",
        "Train_label = Train_label.to_numpy()"
      ],
      "execution_count": null,
      "outputs": []
    },
    {
      "cell_type": "code",
      "metadata": {
        "id": "FsHemF65awp_",
        "colab_type": "code",
        "colab": {}
      },
      "source": [
        "maxD = np.max(Train_data, axis=0)\n",
        "minD = np.min(Train_data, axis=0)\n",
        "delta = maxD - minD\n",
        "Train_data = Train_data - minD\n",
        "Test_data = Test_data - minD\n",
        "Train_data = 2 * (Train_data/delta) - 1\n",
        "Test_data = 2 * (Test_data/delta) - 1"
      ],
      "execution_count": null,
      "outputs": []
    },
    {
      "cell_type": "code",
      "metadata": {
        "id": "hWt3M189a0Dx",
        "colab_type": "code",
        "colab": {}
      },
      "source": [
        "def relu(x):\n",
        "  return np.maximum(x, np.zeros_like(x))\n",
        "\n",
        "def Cal_accuracy(True_label, Estimated_label):\n",
        "  return np.count_nonzero(np.transpose(True_label)==np.array(Estimated_label))/True_label.size\n",
        "\n",
        "def step(x):\n",
        "  return 1*(x > np.zeros_like(x))\n",
        "\n",
        "def encode(vect, idx):\n",
        "  temp = step(vect)\n",
        "  temp[idx] = 0\n",
        "  n = np.sum(temp)\n",
        "  for i in range(len(temp)):\n",
        "    if temp[i] == 1:\n",
        "      temp[i] = -1\n",
        "  temp[idx] = n\n",
        "  return temp\n"
      ],
      "execution_count": null,
      "outputs": []
    },
    {
      "cell_type": "code",
      "metadata": {
        "id": "d619N8vbbRxi",
        "colab_type": "code",
        "colab": {}
      },
      "source": [
        "class Network:\n",
        "  def __init__(self, input_node, hidden_layer, hidden_node, output_node):\n",
        "    self.number_input_node = input_node\n",
        "    self.number_hidden_layer = hidden_layer\n",
        "    self.number_hidden_node = hidden_node\n",
        "    self.number_class_output = output_node\n",
        "    self.weight = {}\n",
        "    self.layer = {}\n",
        "    self.batch_data = {}\n",
        "    self.batch_label = {}\n",
        "    self.diff_weight = {}\n",
        "    self.score = []\n",
        "    self.result = []\n",
        "    self.init_weight()\n",
        "    self.loss = []\n",
        "    self.back_prob_output = []\n",
        "    for i in range(self.number_hidden_layer + 1):\n",
        "      self.diff_weight[\"w\" + str(i) + \"_prev\"] = 0\n",
        "      self.diff_weight[\"b\" + str(i) + \"_prev\"] = 0\n",
        "    self.momentum = 0.9\n",
        "    self.learning_rate = 0.01\n",
        "    self.number_turn = 100\n",
        "    self.batchS = 128\n",
        "    self.accuracy_graph = []\n",
        "    self.loss_graph = []\n",
        "    self.attack_rate = 0.01\n",
        "\n",
        "  def set_turn(self, x):\n",
        "    self.number_turn = x\n",
        "\n",
        "  def set_learning_rate(self, x):\n",
        "    self.learning_rate = x\n",
        "\n",
        "  def set_batch_size(self, x):\n",
        "    self.batchS = x\n",
        "  \n",
        "  def load_weights(self):\n",
        "    for i in range(self.number_hidden_layer + 1):\n",
        "      self.weight[\"w\" + str(i)] = (pd.read_csv(\"/content/drive/My Drive/Deep Learning Course Spring 99/DataSets/Fashion-MNIST/w\" + str(i) + \".csv\", header=None)).to_numpy()\n",
        "      self.weight[\"b\" + str(i)] = (pd.read_csv(\"/content/drive/My Drive/Deep Learning Course Spring 99/DataSets/Fashion-MNIST/b\" + str(i) + \".csv\", header=None)).to_numpy()\n",
        "\n",
        "  def init_weight(self):\n",
        "    self.weight[\"w0\"] = np.random.normal(loc=0, scale=0.14, size=(self.number_hidden_node[0], self.number_input_node))\n",
        "    self.weight[\"b0\"] = np.random.normal(loc=0, scale=0.14, size=(self.number_hidden_node[0], 1))\n",
        "    for i in range(self.number_hidden_layer - 1):\n",
        "      self.weight[\"w\" + str(i+1)] = (np.random.normal(loc=0, scale=0.14, size=(self.number_hidden_node[i+1], self.number_hidden_node[i])))\n",
        "      self.weight[\"b\" + str(i+1)] = (np.random.normal(loc=0, scale=0.14, size=(self.number_hidden_node[i+1], 1)))\n",
        "    self.weight[\"w\" + str(self.number_hidden_layer)] = np.random.normal(loc=0, scale=0.14, size=(self.number_class_output, self.number_hidden_node[self.number_hidden_layer-1]))\n",
        "    self.weight[\"b\" + str(self.number_hidden_layer)] = np.random.normal(loc=0, scale=0.14, size=(self.number_class_output, 1))\n",
        "    \n",
        "  def forward(self, data):\n",
        "    self.layer.clear()\n",
        "    self.layer[\"input\"] = data\n",
        "    if len(data) == data.size:\n",
        "      self.layer[\"z0\"] = (np.matmul(self.weight[\"w0\"],np.transpose(data))).reshape((len(MyNetwork.weight[\"w0\"]),1))\n",
        "    else:\n",
        "      self.layer[\"z0\"] = (np.matmul(self.weight[\"w0\"], np.transpose(data)))\n",
        "    self.layer[\"z0\"] = np.add(self.layer[\"z0\"], self.weight[\"b0\"])\n",
        "    self.layer[\"r0\"] = relu(self.layer[\"z0\"])\n",
        "    self.layer[\"s0\"] = step(self.layer[\"z0\"])\n",
        "    for i in range(self.number_hidden_layer - 1):\n",
        "      self.layer[\"z\" + str(i + 1)] = np.matmul(self.weight[\"w\" + str(i + 1)], self.layer[\"r\" + str(i)])\n",
        "      self.layer[\"z\" + str(i + 1)] = np.add(self.layer[\"z\" + str(i + 1)], self.weight[\"b\" + str(i + 1)])\n",
        "      self.layer[\"r\" + str(i + 1)] = relu(self.layer[\"z\" + str(i + 1)])\n",
        "      self.layer[\"s\" + str(i + 1)] = step(self.layer[\"z\" + str(i + 1)])\n",
        "    self.layer[\"z\" + str(self.number_hidden_layer)] = np.matmul(self.weight[\"w\" + str(self.number_hidden_layer)], self.layer[\"r\" + str(self.number_hidden_layer - 1)])\n",
        "    self.layer[\"z\" + str(self.number_hidden_layer)] = np.add(self.layer[\"z\" + str(self.number_hidden_layer)], self.weight[\"b\" + str(self.number_hidden_layer)])\n",
        "    self.layer[\"r\" + str(self.number_hidden_layer)] = relu(self.layer[\"z\" + str(self.number_hidden_layer)])\n",
        "    self.layer[\"s\" + str(self.number_hidden_layer)] = step(self.layer[\"z\" + str(self.number_hidden_layer)])\n",
        "    self.score = self.layer[\"r\" + str(self.number_hidden_layer)]\n",
        "    temp = self.decide(self.score)\n",
        "    return temp\n",
        "  \n",
        "  def decide(self, data):\n",
        "    self.result = np.argmax(data, axis=0)\n",
        "    return self.result\n",
        "\n",
        "  def cal_loss(self, label):\n",
        "    self.loss.clear()\n",
        "    self.back_prob_output = []\n",
        "    temp = np.transpose(self.score)\n",
        "    for i in range(len(label)):\n",
        "      self.loss.append(np.sum(relu(temp[i] - temp[i][label[i]] + 1))-1)# inja ro bayad taghir bedi\n",
        "      self.back_prob_output.append(encode((temp[i] - temp[i][label[i]] + 1), label[i]))\n",
        "    self.back_prob_output = (np.transpose(self.back_prob_output))/len(label)\n",
        "    total_loss = np.sum(self.loss)/len(self.loss)\n",
        "    self.loss_graph.append(total_loss)\n",
        "    return total_loss\n",
        "\n",
        "  def batching(self, data, label):\n",
        "    self.batch_data.clear()\n",
        "    if len(data) == data.size:\n",
        "      batch[0] = data\n",
        "      return\n",
        "    batch_size = self.batchS\n",
        "    for i in range(int(len(data)/batch_size)):\n",
        "      self.batch_data[i] = data[i*batch_size:(i+1)*batch_size]\n",
        "      self.batch_label[i] = label[i*batch_size:(i+1)*batch_size]\n",
        "    if len(data)%batch_size != 0:\n",
        "      self.batch_data[int(len(data)/batch_size)] = data[int(len(data)/batch_size)*batch_size:len(data)]\n",
        "      self.batch_label[int(len(data)/batch_size)] = label[int(len(data)/batch_size)*batch_size:len(data)]\n",
        "\n",
        "  def back_prob(self):\n",
        "    temp = np.multiply(self.back_prob_output, self.layer[\"s\" + str(self.number_hidden_layer)])\n",
        "    for i in range(self.number_hidden_layer):\n",
        "      self.diff_weight[\"w\" + str(self.number_hidden_layer - i)] = np.matmul(temp, np.transpose(self.layer[\"r\"+ str(self.number_hidden_layer-1-i)]))\n",
        "      self.diff_weight[\"b\" + str(self.number_hidden_layer - i)] = np.matmul(temp, np.ones((len(temp[0]), 1)))\n",
        "      temp = np.matmul(np.transpose(self.weight[\"w\" + str(self.number_hidden_layer - i)]), temp)\n",
        "      temp = np.multiply(self.layer[\"s\" + str(self.number_hidden_layer - i - 1)], temp)\n",
        "    self.diff_weight[\"w0\"] = np.matmul(temp, self.layer[\"input\"])\n",
        "    self.diff_weight[\"b0\"] = np.matmul(temp, np.ones((len(temp[0]), 1)))\n",
        "\n",
        "    for i in range(self.number_hidden_layer + 1):\n",
        "      self.diff_weight[\"w\" + str(i) + \"_prev\"] = ((1 - self.momentum) * self.diff_weight[\"w\" + str(i)] + self.momentum * self.diff_weight[\"w\" + str(i) + \"_prev\"])\n",
        "      self.diff_weight[\"b\" + str(i) + \"_prev\"] = ((1 - self.momentum) * self.diff_weight[\"b\" + str(i)] + self.momentum * self.diff_weight[\"b\" + str(i) + \"_prev\"])\n",
        "\n",
        "    for i in range(self.number_hidden_layer + 1):\n",
        "      self.weight[\"w\" + str(i)] = self.weight[\"w\" + str(i)] + self.diff_weight[\"w\" + str(i) + \"_prev\"] * self.learning_rate\n",
        "      self.weight[\"b\" + str(i)] = self.weight[\"b\" + str(i)] + self.diff_weight[\"b\" + str(i) + \"_prev\"] * self.learning_rate\n",
        "\n",
        "  def Train_Network(self, data, label):\n",
        "    epoch = 0\n",
        "    for j in range(self.number_turn):\n",
        "      self.batching(data, label)\n",
        "      for i in range(len(self.batch_data)):\n",
        "        self.forward(self.batch_data[i])\n",
        "        self.accuracy_graph.append(Cal_accuracy(self.batch_label[i], self.forward(self.batch_data[i])))\n",
        "        print(self.cal_loss(self.batch_label[i]), \" step \", i,\" of the epoch \", j , \"the steps is: \", epoch)\n",
        "        self.back_prob()\n",
        "        epoch += 1\n",
        "\n",
        "  def Test_Network(self, data, label):\n",
        "    if(len(data) == data.size):\n",
        "      temp = self.batchS\n",
        "      self.batchS = 1\n",
        "      print(Cal_accuracy(label, MyNetwork.forward(data)))\n",
        "      self.batchS = temp\n",
        "    else:\n",
        "      print(Cal_accuracy(label, MyNetwork.forward(data)))\n",
        "\n",
        "  def attach_network(self, data, label):\n",
        "    self.forward(data)\n",
        "    print(self.cal_loss(label))\n",
        "    D_image = np.multiply(self.back_prob_output, self.layer[\"s\" + str(self.number_hidden_layer)])\n",
        "    for i in range(self.number_hidden_layer):\n",
        "      D_image = np.matmul(np.transpose(self.weight[\"w\" + str(self.number_hidden_layer - i)]), D_image)\n",
        "      D_image = np.multiply(self.layer[\"s\" + str(self.number_hidden_layer - i - 1)], D_image)\n",
        "    D_image = np.matmul(np.transpose(self.weight[\"w0\"]), D_image)\n",
        "    D_image = np.sign(D_image) \n",
        "    return data - self.attack_rate * D_image.reshape((-1,))\n",
        "      \n",
        "    \n"
      ],
      "execution_count": null,
      "outputs": []
    },
    {
      "cell_type": "code",
      "metadata": {
        "id": "WX8yMVGGb3z5",
        "colab_type": "code",
        "colab": {}
      },
      "source": [
        "MyNetwork = Network(128,1,[150] ,10)\n",
        "#MyNetwork.load_weights()"
      ],
      "execution_count": null,
      "outputs": []
    },
    {
      "cell_type": "code",
      "metadata": {
        "id": "9pdN40mia0uz",
        "colab_type": "code",
        "colab": {}
      },
      "source": [
        "MyNetwork.set_learning_rate(0.05)\n",
        "MyNetwork.set_turn(3)\n",
        "MyNetwork.set_batch_size(128)\n",
        "MyNetwork.Train_Network(Train_data, Train_label)"
      ],
      "execution_count": null,
      "outputs": []
    },
    {
      "cell_type": "code",
      "metadata": {
        "id": "AGwSehZfbhtr",
        "colab_type": "code",
        "colab": {
          "base_uri": "https://localhost:8080/",
          "height": 34
        },
        "outputId": "07511969-4896-49b5-bd00-12f2a46a63d3"
      },
      "source": [
        "MyNetwork.Test_Network(Test_data, Test_label)"
      ],
      "execution_count": null,
      "outputs": [
        {
          "output_type": "stream",
          "text": [
            "0.8396\n"
          ],
          "name": "stdout"
        }
      ]
    },
    {
      "cell_type": "code",
      "metadata": {
        "id": "dzS3EhmMozK5",
        "colab_type": "code",
        "colab": {}
      },
      "source": [
        "mini_dataSet, mini_labelSet = [],[]\n",
        "j = 0\n",
        "for i in range(100):\n",
        "  if MyNetwork.forward(Train_data[i]) == Train_label[i]:\n",
        "    mini_dataSet.append(Train_data[i])\n",
        "    mini_labelSet.append(Train_label[i])\n",
        "    j += 1\n",
        "  if j == 10:\n",
        "    break"
      ],
      "execution_count": null,
      "outputs": []
    },
    {
      "cell_type": "code",
      "metadata": {
        "id": "tCy1YkuMkQ2c",
        "colab_type": "code",
        "colab": {
          "base_uri": "https://localhost:8080/",
          "height": 185
        },
        "outputId": "664bec7a-13da-450d-b99a-795b568e8268"
      },
      "source": [
        "attacked_image = []\n",
        "for i in range(10):\n",
        "  attacked_image.append(MyNetwork.attach_network(mini_dataSet[i], mini_labelSet[i]))"
      ],
      "execution_count": null,
      "outputs": [
        {
          "output_type": "stream",
          "text": [
            "0.0\n",
            "0.0\n",
            "0.2184309381199918\n",
            "1.0214633663172488\n",
            "0.0\n",
            "0.3193349080628409\n",
            "0.0\n",
            "0.0\n",
            "0.0\n",
            "0.0\n"
          ],
          "name": "stdout"
        }
      ]
    },
    {
      "cell_type": "code",
      "metadata": {
        "id": "LxgIOYUXcoUF",
        "colab_type": "code",
        "colab": {
          "base_uri": "https://localhost:8080/",
          "height": 202
        },
        "outputId": "7c0657fa-f232-40a8-d455-76a161ae5479"
      },
      "source": [
        "score = 0\n",
        "for i in range(10):\n",
        "  print(\"The label for the\", i,\"th data is: \", MyNetwork.forward(mini_dataSet[i]), \"after attack it became: \", MyNetwork.forward(attacked_image[i].reshape((-1,))))\n",
        "  if MyNetwork.forward(mini_dataSet[i]) != MyNetwork.forward(attacked_image[i].reshape((-1,))):\n",
        "    score += 1\n",
        "print(\"The attacked accuracy was: \", score * 10)"
      ],
      "execution_count": null,
      "outputs": [
        {
          "output_type": "stream",
          "text": [
            "The label for the 0 th data is:  [9] after attack it became:  [9]\n",
            "The label for the 1 th data is:  [0] after attack it became:  [0]\n",
            "The label for the 2 th data is:  [0] after attack it became:  [0]\n",
            "The label for the 3 th data is:  [0] after attack it became:  [0]\n",
            "The label for the 4 th data is:  [2] after attack it became:  [2]\n",
            "The label for the 5 th data is:  [7] after attack it became:  [7]\n",
            "The label for the 6 th data is:  [2] after attack it became:  [2]\n",
            "The label for the 7 th data is:  [5] after attack it became:  [5]\n",
            "The label for the 8 th data is:  [5] after attack it became:  [5]\n",
            "The label for the 9 th data is:  [0] after attack it became:  [0]\n",
            "The attacked accuracy was:  0\n"
          ],
          "name": "stdout"
        }
      ]
    },
    {
      "cell_type": "code",
      "metadata": {
        "id": "rxU3scNBgt-E",
        "colab_type": "code",
        "colab": {}
      },
      "source": [
        "for i in range(MyNetwork.number_hidden_layer + 1):\n",
        "  pd.DataFrame(MyNetwork.weight[\"w\" + str(i)]).to_csv(\"/content/drive/My Drive/Deep Learning Course Spring 99/DataSets/Fashion-MNIST/w\" + str(i) + \".csv\", index=False, header=False)\n",
        "  pd.DataFrame(MyNetwork.weight[\"b\" + str(i)]).to_csv(\"/content/drive/My Drive/Deep Learning Course Spring 99/DataSets/Fashion-MNIST/b\" + str(i) + \".csv\", index=False, header=False)\n",
        "  pd.DataFrame(MyNetwork.accuracy_graph).to_csv(\"/content/drive/My Drive/Deep Learning Course Spring 99/DataSets/Fashion-MNIST/accuracy.csv\", index=False, header=False)\n",
        "  pd.DataFrame(MyNetwork.loss_graph).to_csv(\"/content/drive/My Drive/Deep Learning Course Spring 99/DataSets/Fashion-MNIST/loss.csv\", index=False, header=False)\n"
      ],
      "execution_count": null,
      "outputs": []
    },
    {
      "cell_type": "code",
      "metadata": {
        "id": "qYSQ4mR0kKLd",
        "colab_type": "code",
        "colab": {}
      },
      "source": [
        ""
      ],
      "execution_count": null,
      "outputs": []
    }
  ]
}