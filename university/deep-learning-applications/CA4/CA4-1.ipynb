{
  "nbformat": 4,
  "nbformat_minor": 0,
  "metadata": {
    "colab": {
      "name": "Part1_edu.ipynb",
      "provenance": [],
      "collapsed_sections": [],
      "include_colab_link": true
    },
    "kernelspec": {
      "name": "python3",
      "display_name": "Python 3"
    }
  },
  "cells": [
    {
      "cell_type": "markdown",
      "metadata": {
        "id": "view-in-github",
        "colab_type": "text"
      },
      "source": [
        "<a href=\"https://colab.research.google.com/github/aminfadaei116/Deep-Learning-Course/blob/master/CA4/Part1_edu.ipynb\" target=\"_parent\"><img src=\"https://colab.research.google.com/assets/colab-badge.svg\" alt=\"Open In Colab\"/></a>"
      ]
    },
    {
      "cell_type": "code",
      "metadata": {
        "id": "9Xrpb1uO7g2D",
        "colab_type": "code",
        "colab": {
          "base_uri": "https://localhost:8080/",
          "height": 122
        },
        "outputId": "c4aa5753-d329-4bfc-f203-11b93308c402"
      },
      "source": [
        "from google.colab import drive\n",
        "drive.mount('/content/drive')"
      ],
      "execution_count": null,
      "outputs": [
        {
          "output_type": "stream",
          "text": [
            "Go to this URL in a browser: https://accounts.google.com/o/oauth2/auth?client_id=947318989803-6bn6qk8qdgf4n4g3pfee6491hc0brc4i.apps.googleusercontent.com&redirect_uri=urn%3aietf%3awg%3aoauth%3a2.0%3aoob&response_type=code&scope=email%20https%3a%2f%2fwww.googleapis.com%2fauth%2fdocs.test%20https%3a%2f%2fwww.googleapis.com%2fauth%2fdrive%20https%3a%2f%2fwww.googleapis.com%2fauth%2fdrive.photos.readonly%20https%3a%2f%2fwww.googleapis.com%2fauth%2fpeopleapi.readonly\n",
            "\n",
            "Enter your authorization code:\n",
            "··········\n",
            "Mounted at /content/drive\n"
          ],
          "name": "stdout"
        }
      ]
    },
    {
      "cell_type": "markdown",
      "metadata": {
        "id": "hJs8ALxrALeu",
        "colab_type": "text"
      },
      "source": [
        "At the start you need to add the file in local part of the google colab\n"
      ]
    },
    {
      "cell_type": "code",
      "metadata": {
        "id": "cMr0LLyed9GX",
        "colab_type": "code",
        "colab": {
          "base_uri": "https://localhost:8080/",
          "height": 85
        },
        "outputId": "bfabe52a-d8d4-44f2-c2c0-d33c4b9ff809"
      },
      "source": [
        "!pip install torchaudio\n",
        "import cv2\n",
        "from scipy.io import loadmat\n",
        "import numpy as np\n",
        "import tqdm\n",
        "import torch\n",
        "import math\n",
        "import matplotlib.pyplot as plt\n",
        "import pandas as pd\n",
        "import numpy as np\n",
        "from numpy import linalg as LA\n",
        "import re\n",
        "from load_data import load_data\n",
        "from load_data2 import load_data2\n",
        "from tqdm.notebook import tqdm\n",
        "import json\n",
        "from sklearn.metrics import confusion_matrix\n",
        "import matplotlib.pyplot as plt\n",
        "# makes it easy to write user-friendly command-line interfaces\n",
        "import argparse\n",
        "# contains data structures for multi-dimensional tensors\n",
        "# and mathematical operations over theme\n",
        "import torch\n",
        "# helps us in creating and training of the neural network.\n",
        "import torch.nn as nn\n",
        "# contains all the functions in the torch.nn library\n",
        "import torch.nn.functional as F\n",
        "# implements various optimization algorithms\n",
        "import torch.optim as optim\n",
        "# contains datasets with almost similar API\n",
        "from torchvision import datasets\n",
        "# contains common image transformations\n",
        "from torchvision import transforms\n",
        "from torch.utils.data import Dataset, DataLoader\n",
        "# provides several methods to adjust the learning rate based on the number of epochs\n",
        "from torch.optim.lr_scheduler import StepLR\n",
        "from sklearn.metrics import accuracy_score\n",
        "import math"
      ],
      "execution_count": null,
      "outputs": [
        {
          "output_type": "stream",
          "text": [
            "Requirement already satisfied: torchaudio in /usr/local/lib/python3.6/dist-packages (0.5.0)\n",
            "Requirement already satisfied: torch==1.5.0 in /usr/local/lib/python3.6/dist-packages (from torchaudio) (1.5.0+cu101)\n",
            "Requirement already satisfied: numpy in /usr/local/lib/python3.6/dist-packages (from torch==1.5.0->torchaudio) (1.18.5)\n",
            "Requirement already satisfied: future in /usr/local/lib/python3.6/dist-packages (from torch==1.5.0->torchaudio) (0.16.0)\n"
          ],
          "name": "stdout"
        }
      ]
    },
    {
      "cell_type": "markdown",
      "metadata": {
        "id": "s9dW1snmraMY",
        "colab_type": "text"
      },
      "source": [
        "The Functions that are needed"
      ]
    },
    {
      "cell_type": "code",
      "metadata": {
        "id": "LGQ145mPrZs4",
        "colab_type": "code",
        "colab": {
          "base_uri": "https://localhost:8080/",
          "height": 51
        },
        "outputId": "05285105-887f-4323-8c30-cbf59bcd8788"
      },
      "source": [
        "PAD_CHAR = \"¶\"\n",
        "SOS_CHAR = \"§\"\n",
        "EOS_CHAR = \"¤\"\n",
        "!pip install python-Levenshtein\n",
        "import Levenshtein as Lev\n",
        "\n",
        "def cer(real, pred):\n",
        "  real, pred, = real.replace(' ', ''), pred.replace(' ', '')\n",
        "  return Lev.distance(real, pred) / len(real)\n",
        "  \n",
        "# used the link https://holianh.github.io/portfolio/Cach-tinh-WER/ for this function\n",
        "def wer(real, pred):\n",
        "    r = real.split()\n",
        "    h = pred.split()\n",
        "    costs = [[0 for inner in range(len(h)+1)] for outer in range(len(r)+1)]\n",
        "    backtrace = [[0 for inner in range(len(h)+1)] for outer in range(len(r)+1)]\n",
        "    OP_OK = 0\n",
        "    OP_SUB = 1\n",
        "    OP_INS = 2\n",
        "    OP_DEL = 3\n",
        "    DEL_PENALTY=1 \n",
        "    INS_PENALTY=1\n",
        "    SUB_PENALTY=1 \n",
        "    for i in range(1, len(r)+1):\n",
        "        costs[i][0] = DEL_PENALTY*i\n",
        "        backtrace[i][0] = OP_DEL\n",
        "\n",
        "    for j in range(1, len(h) + 1):\n",
        "        costs[0][j] = INS_PENALTY * j\n",
        "        backtrace[0][j] = OP_INS\n",
        "\n",
        "    for i in range(1, len(r)+1):\n",
        "        for j in range(1, len(h)+1):\n",
        "            if r[i-1] == h[j-1]:\n",
        "                costs[i][j] = costs[i-1][j-1]\n",
        "                backtrace[i][j] = OP_OK\n",
        "            else:\n",
        "                substitutionCost = costs[i-1][j-1] + SUB_PENALTY \n",
        "                insertionCost    = costs[i][j-1] + INS_PENALTY   \n",
        "                deletionCost     = costs[i-1][j] + DEL_PENALTY   \n",
        "\n",
        "                costs[i][j] = min(substitutionCost, insertionCost, deletionCost)\n",
        "                if costs[i][j] == substitutionCost:\n",
        "                    backtrace[i][j] = OP_SUB\n",
        "                elif costs[i][j] == insertionCost:\n",
        "                    backtrace[i][j] = OP_INS\n",
        "                else:\n",
        "                    backtrace[i][j] = OP_DEL\n",
        "\n",
        "    i = len(r)\n",
        "    j = len(h)\n",
        "    numSub = 0\n",
        "    numDel = 0\n",
        "    numIns = 0\n",
        "    numCor = 0\n",
        "    while i > 0 or j > 0:\n",
        "        if backtrace[i][j] == OP_OK:\n",
        "            numCor += 1\n",
        "            i-=1\n",
        "            j-=1\n",
        "        elif backtrace[i][j] == OP_SUB:\n",
        "            numSub +=1\n",
        "            i-=1\n",
        "            j-=1\n",
        "        elif backtrace[i][j] == OP_INS:\n",
        "            numIns += 1\n",
        "            j-=1\n",
        "        elif backtrace[i][j] == OP_DEL:\n",
        "            numDel += 1\n",
        "            i-=1\n",
        "    return (numSub + numDel + numIns) / (float) (len(r))\n",
        "\n",
        "def print_label(code_number):\n",
        "  for i, sentence in enumerate(code_number):\n",
        "    text = []\n",
        "    pre_char = \"\"\n",
        "    for charec in sentence:\n",
        "      temp = id2label.get(charec.item())\n",
        "      if temp in [PAD_CHAR, SOS_CHAR, EOS_CHAR]:\n",
        "        continue\n",
        "      elif pre_char == temp:\n",
        "        continue\n",
        "      else:\n",
        "        text.append(temp)\n",
        "        pre_char = temp\n",
        "    result = ''.join(text)\n",
        "    print(result)\n",
        "\n",
        "def print_result(output):\n",
        "  outscore = torch.exp(output)\n",
        "  outscore = outscore.permute(0, 2, 1)\n",
        "  state = torch.argmax(outscore, dim=1)\n",
        "  result = \"\"\n",
        "  for i, sentence in enumerate(state):\n",
        "    text = []\n",
        "    pre_char = \"\"\n",
        "    for charec in sentence:\n",
        "      temp = id2label.get(charec.item())\n",
        "      if temp in [PAD_CHAR, SOS_CHAR, EOS_CHAR]:\n",
        "        continue\n",
        "      elif pre_char == temp:\n",
        "        continue\n",
        "      else:\n",
        "        text.append(temp)\n",
        "        pre_char = temp\n",
        "    txt_tmp = ''.join(text)\n",
        "    print(txt_tmp)\n",
        "    result += txt_tmp\n",
        "    result += \"\\n\"\n",
        "  return result\n",
        "\n",
        "def calc_cer(output, code_number):\n",
        "  outscore = torch.exp(output)\n",
        "  outscore = outscore.permute(0, 2, 1)\n",
        "  state_out = torch.argmax(outscore, dim=1)\n",
        "  cerlst = []\n",
        "  werlst = []\n",
        "  for i in range(12):\n",
        "    text_out = []\n",
        "    text_lbl = []\n",
        "    pre_char = \"\"\n",
        "    for charec in state_out[i]:\n",
        "      temp = id2label.get(charec.item())\n",
        "      if temp in [PAD_CHAR, SOS_CHAR, EOS_CHAR]:\n",
        "        continue\n",
        "      elif pre_char == temp:\n",
        "        continue\n",
        "      else:\n",
        "        text_out.append(temp)\n",
        "        pre_char = temp\n",
        "    predtxt = ''.join(text_out)\n",
        "    pre_char = \"\"\n",
        "    for charec in code_number[i]:\n",
        "      temp = id2label.get(charec.item())\n",
        "      if temp in [PAD_CHAR, SOS_CHAR, EOS_CHAR]:\n",
        "        continue\n",
        "      elif pre_char == temp:\n",
        "        continue\n",
        "      else:\n",
        "        text_lbl.append(temp)\n",
        "        pre_char = temp\n",
        "    realtxt = ''.join(text_lbl)\n",
        "    cerlst.append(cer(realtxt, predtxt))\n",
        "    werlst.append(wer(realtxt, predtxt))\n",
        "    del realtxt\n",
        "    del predtxt\n",
        "  return (sum(cerlst)/len(cerlst)), (sum(werlst)/len(werlst))\n",
        "\n",
        "\n",
        "\n",
        "device = torch.device(\"cuda\" if torch.cuda.is_available() else \"cpu\")"
      ],
      "execution_count": null,
      "outputs": [
        {
          "output_type": "stream",
          "text": [
            "Requirement already satisfied: python-Levenshtein in /usr/local/lib/python3.6/dist-packages (0.12.0)\n",
            "Requirement already satisfied: setuptools in /usr/local/lib/python3.6/dist-packages (from python-Levenshtein) (47.1.1)\n"
          ],
          "name": "stdout"
        }
      ]
    },
    {
      "cell_type": "code",
      "metadata": {
        "id": "uOZIjk-29TAc",
        "colab_type": "code",
        "colab": {}
      },
      "source": [
        "val_data = pd.read_csv(\"/content/drive/My Drive/Academics/Deep Learning/DataSet/data_val.csv\", header = None)\n",
        "test_data = pd.read_csv(\"/content/drive/My Drive/Academics/Deep Learning/DataSet/data_test.csv\", header = None)\n",
        "train_data = pd.read_csv(\"/content/drive/My Drive/Academics/Deep Learning/DataSet/data_train.csv\", header = None)\n",
        "#new_train_data = pd.read_csv(\"/content/drive/My Drive/Academics/Deep Learning/DataSet/new_data_train.csv\", header = None)"
      ],
      "execution_count": null,
      "outputs": []
    },
    {
      "cell_type": "code",
      "metadata": {
        "id": "0hYO28d1q2RI",
        "colab_type": "code",
        "colab": {}
      },
      "source": [
        "del val_data\n",
        "del test_data\n",
        "del train_data"
      ],
      "execution_count": null,
      "outputs": []
    },
    {
      "cell_type": "code",
      "metadata": {
        "id": "2Br_FTUedWRF",
        "colab_type": "code",
        "colab": {}
      },
      "source": [
        "!python3 -m pip install --user --upgrade pip\n",
        "\n",
        "!export PATH=\"/root/.local/bin:$PATH\"\n",
        "\n",
        "!python3 -m pip --version\n",
        "\n",
        "!apt-get install python3-venv\n",
        "\n",
        "!python3 -m venv env\n",
        "\n",
        "!source env/bin/activate\n",
        "\n",
        "!source env/bin/activate; which python\n",
        "\n",
        "!source env/bin/activate; pip install -r req.txt\n",
        "\n",
        "\n",
        "!source env/bin/activate; bash download_prepare_data.sh\n",
        "\n",
        "\n",
        "#!zip -r data.zip data\n",
        "\n",
        "#!cp -av data.zip \"/content/drive/My Drive/Deep Learning Course Spring 99/DataSets/HW4-Dataset/\"\n",
        "\n"
      ],
      "execution_count": null,
      "outputs": []
    },
    {
      "cell_type": "code",
      "metadata": {
        "id": "9zTwK9MNHvQv",
        "colab_type": "code",
        "colab": {}
      },
      "source": [
        "import os\n",
        "df = pd.read_csv('data_train.csv', header = None)\n",
        "temp = []\n",
        "for idx, row in df.iterrows():\n",
        "  isFile1 = os.path.isfile(row[0])\n",
        "  isFile2 = os.path.isfile(row[1]) \n",
        "  if isFile1 == False:\n",
        "    temp.append(idx)\n",
        "  elif isFile2 == False:\n",
        "    temp.append(idx)\n",
        "clean_train_data = df.drop(temp)"
      ],
      "execution_count": null,
      "outputs": []
    },
    {
      "cell_type": "code",
      "metadata": {
        "id": "Q1hQve-dLDR2",
        "colab_type": "code",
        "colab": {}
      },
      "source": [
        "for idx, row in clean_train_data.iterrows():\n",
        "  isFile1 = os.path.isfile(row[0])\n",
        "  isFile2 = os.path.isfile(row[1]) \n",
        "  if isFile1 == False:\n",
        "    print(idx)\n",
        "  elif isFile2 == False:\n",
        "    print(idx)\n"
      ],
      "execution_count": null,
      "outputs": []
    },
    {
      "cell_type": "code",
      "metadata": {
        "id": "fbyGkEV7LcXl",
        "colab_type": "code",
        "colab": {}
      },
      "source": [
        "clean_train_data.to_csv('/content/clean_train_data.csv', header=None, index=None)"
      ],
      "execution_count": null,
      "outputs": []
    },
    {
      "cell_type": "code",
      "metadata": {
        "id": "liE3pZrcycsZ",
        "colab_type": "code",
        "colab": {}
      },
      "source": [
        "from zipfile import ZipFile \n",
        "  \n",
        "# specifying the zip file name \n",
        "file_name = \"/content/drive/My Drive/Academics/Deep Learning/DataSet/data.zip\"\n",
        "  \n",
        "# opening the zip file in READ mode \n",
        "with ZipFile(file_name, 'r') as zip: \n",
        "    # printing all the contents of the zip file \n",
        "    zip.printdir() \n",
        "  \n",
        "    # extracting all the files \n",
        "    print('Extracting all the files now...') \n",
        "    zip.extractall() \n",
        "    print('Done!') "
      ],
      "execution_count": null,
      "outputs": []
    },
    {
      "cell_type": "code",
      "metadata": {
        "id": "mc5VjtHNBX4I",
        "colab_type": "code",
        "colab": {}
      },
      "source": [
        "%cp -av \"/content/drive/My Drive/Academics/Deep Learning/DataSet/data_val.csv\" \"/content\"\n",
        "%cp -av \"/content/drive/My Drive/Academics/Deep Learning/DataSet/data_test.csv\" \"/content\"\n",
        "%cp -av \"/content/drive/My Drive/Academics/Deep Learning/DataSet/data_train.csv\" \"/content\"\n",
        "#%cp -av \"/content/drive/My Drive/Academics/Deep Learning/DataSet/new_data_train.csv\" \"/content\"\n"
      ],
      "execution_count": null,
      "outputs": []
    },
    {
      "cell_type": "code",
      "metadata": {
        "id": "QDDlTzVdAoAV",
        "colab_type": "code",
        "colab": {
          "base_uri": "https://localhost:8080/",
          "height": 34
        },
        "outputId": "63d7e57f-239e-4eb0-afde-3a800b142341"
      },
      "source": [
        "train_loader, val_loader, test_loader, label2id, id2label = load_data2(['clean_train_data.csv'],['data_val.csv'],['data_test.csv'])"
      ],
      "execution_count": null,
      "outputs": [
        {
          "output_type": "stream",
          "text": [
            "done !\n"
          ],
          "name": "stdout"
        }
      ]
    },
    {
      "cell_type": "code",
      "metadata": {
        "id": "J3Rdqv5obQY3",
        "colab_type": "code",
        "colab": {}
      },
      "source": [
        "class MultiHeadAttention(nn.Module):\n",
        "  def __init__(self, num_heads, dim_model, dim_key, dim_value, dropout=0.1):\n",
        "    super(MultiHeadAttention, self).__init__()\n",
        "    self.num_heads = num_heads\n",
        "    self.dim_model = dim_model\n",
        "    self.dim_key = dim_key\n",
        "    self.dim_value = dim_value\n",
        "    self.query_linear = nn.Linear(in_features=dim_model, out_features=num_heads * dim_key)\n",
        "    self.key_linear = nn.Linear(in_features=dim_model, out_features=num_heads * dim_key)\n",
        "    self.value_linear = nn.Linear(in_features=dim_model, out_features=num_heads * dim_value)\n",
        "    self.Attention = ScaledDotProductAttention(np.power(dim_key, 0.5), dropout=dropout)\n",
        "    self.layer_norm = nn.LayerNorm(dim_model, eps=1e-5)\n",
        "    self.output_linear = nn.Linear(in_features=num_heads * dim_value, out_features=dim_model)\n",
        "    self.D1 = nn.Dropout(dropout)\n",
        "\n",
        "  def forward(self, query, key, value):\n",
        "    batch_size, query_len, _ = query.size()\n",
        "    batch_size, key_len, _ = key.size()\n",
        "    batch_size, value_len, _ = value.size()\n",
        "    first_query = query\n",
        "    query = self.query_linear(query).view(batch_size, query_len, self.num_heads, self.dim_key) \n",
        "    key = self.key_linear(key).view(batch_size, key_len, self.num_heads, self.dim_key) \n",
        "    value = self.value_linear(value).view(batch_size, value_len, self.num_heads, self.dim_value) \n",
        "    query = query.permute(2, 0, 1, 3).contiguous().view(-1, query_len, self.dim_key) \n",
        "    key = key.permute(2, 0, 1, 3).contiguous().view(-1, key_len, self.dim_key) \n",
        "    value = value.permute(2, 0, 1, 3).contiguous().view(-1, value_len, self.dim_value) \n",
        "    output = self.Attention(query, key, value)\n",
        "    output = output.view(self.num_heads, batch_size, query_len, self.dim_value) \n",
        "    output = output.permute(1, 2, 0, 3).contiguous().view(batch_size, query_len, -1) \n",
        "    output = self.D1(self.output_linear(output)) \n",
        "    output = self.layer_norm(output + first_query)\n",
        "    return output"
      ],
      "execution_count": null,
      "outputs": []
    },
    {
      "cell_type": "code",
      "metadata": {
        "id": "mJ80E7B8fPyI",
        "colab_type": "code",
        "colab": {}
      },
      "source": [
        "class ScaledDotProductAttention(nn.Module):\n",
        "  def __init__(self, temp, dropout=0.1):\n",
        "    super().__init__()\n",
        "    self.temp = temp\n",
        "    self.dropout = nn.Dropout(dropout)\n",
        "    self.softmax = nn.Softmax(dim=2)\n",
        "\n",
        "  def forward(self, query, key, value):\n",
        "    attention = torch.bmm(query, key.transpose(1, 2))\n",
        "    attention = attention / self.temp\n",
        "    attention = self.dropout(self.softmax(attention))\n",
        "    output = torch.bmm(attention, value)\n",
        "    return output"
      ],
      "execution_count": null,
      "outputs": []
    },
    {
      "cell_type": "code",
      "metadata": {
        "id": "68Np5MADIkck",
        "colab_type": "code",
        "colab": {}
      },
      "source": [
        "class PositionalEncoding(nn.Module):\n",
        "  def __init__(self, dim_model, max_length=2100):\n",
        "    super(PositionalEncoding, self).__init__()\n",
        "    Position_Encoded = torch.zeros(max_length, dim_model)\n",
        "    pos = torch.arange(0, max_length).unsqueeze(1).float()\n",
        "    direr = np.power(0.0001, torch.arange(0, dim_model, 2).float()/dim_model)\n",
        "    Position_Encoded[:, 1::2] = torch.cos(pos * direr)\n",
        "    Position_Encoded[:, 0::2] = torch.sin(pos * direr)\n",
        "    Position_Encoded = Position_Encoded.unsqueeze(0)\n",
        "    self.register_buffer('Position_Encoded', Position_Encoded)\n",
        "\n",
        "  def forward(self, input):\n",
        "    return self.Position_Encoded[:, :input.size(1)]"
      ],
      "execution_count": null,
      "outputs": []
    },
    {
      "cell_type": "code",
      "metadata": {
        "id": "f5OdXgNthZZD",
        "colab_type": "code",
        "colab": {}
      },
      "source": [
        "class PositionwiseFeedForwardWithConv(nn.Module):\n",
        "  def __init__(self, dim_model, dim_inner, dropout=0.1):\n",
        "    super(PositionwiseFeedForwardWithConv, self).__init__()\n",
        "    self.conv1 = nn.Conv1d(dim_model, dim_inner, kernel_size=(1,), stride=(1,))\n",
        "    self.conv2 = nn.Conv1d(dim_inner, dim_model, kernel_size=(1,), stride=(1,))\n",
        "    self.D1 = nn.Dropout(dropout)\n",
        "    self.LN1 = nn.LayerNorm(dim_model)\n",
        "\n",
        "  def forward(self, position_input):\n",
        "    output = position_input.transpose(1, 2)\n",
        "    output = self.conv1(output)\n",
        "    output = self.conv2(F.relu(output))\n",
        "    output = output.transpose(1, 2)\n",
        "    output = self.D1(output)\n",
        "    output = self.LN1(output + position_input)\n",
        "    return output"
      ],
      "execution_count": null,
      "outputs": []
    },
    {
      "cell_type": "code",
      "metadata": {
        "id": "g1ieJWhQrItt",
        "colab_type": "code",
        "colab": {}
      },
      "source": [
        "class EncoderLayer(nn.Module):\n",
        "  def __init__(self, num_heads, dim_model, dim_inner, dim_key, dim_value, dropout=0.1):\n",
        "    super(EncoderLayer, self).__init__()\n",
        "    self.Self_Attention = MultiHeadAttention(num_heads, dim_model, dim_key, dim_value, dropout=dropout)\n",
        "    self.POSS_FNN = PositionwiseFeedForwardWithConv(dim_model, dim_inner, dropout=dropout)\n",
        "\n",
        "  def forward(self, encoder_input):\n",
        "    encoder_output = self.Self_Attention(encoder_input, encoder_input, encoder_input)\n",
        "    encoder_output = self.POSS_FNN(encoder_output)\n",
        "    return encoder_output"
      ],
      "execution_count": null,
      "outputs": []
    },
    {
      "cell_type": "code",
      "metadata": {
        "id": "MB-0e0YjquT8",
        "colab_type": "code",
        "colab": {}
      },
      "source": [
        "class Encoder(nn.Module):\n",
        "  def __init__(self, num_layers, num_heads, dim_model, dim_key, dim_value, dim_input, dim_inner, dropout=0.1, max_leng=1900):\n",
        "    super(Encoder, self).__init__()\n",
        "    self.D1 = nn.Dropout(dropout, inplace=False)\n",
        "    self.L1 = nn.Linear(in_features=dim_input, out_features=dim_model)\n",
        "    self.LN1 = nn.LayerNorm(dim_model, eps=1e-5)\n",
        "    self.PE = PositionalEncoding(dim_model, max_leng)\n",
        "    self.Multi_layers = nn.ModuleList([EncoderLayer(num_heads, dim_model, dim_inner, dim_key, dim_value, dropout=dropout) for _ in range(num_layers)])\n",
        "\n",
        "  def forward(self, encoder_input, input_lengths):\n",
        "    encoder_input = self.D1(encoder_input)\n",
        "    encoder_output = self.LN1(self.L1(encoder_input)) + self.PE(encoder_input) #according to the paper we need to add it as well\n",
        "    for layer in self.Multi_layers:\n",
        "      encoder_output = layer(encoder_output)\n",
        "    return encoder_output"
      ],
      "execution_count": null,
      "outputs": []
    },
    {
      "cell_type": "code",
      "metadata": {
        "id": "zr9FY3qCvYBB",
        "colab_type": "code",
        "colab": {}
      },
      "source": [
        "class HW4_Tansformer(nn.Module):\n",
        "  def __init__(self, encoder, dim_model, dim_output):\n",
        "    super(HW4_Tansformer, self).__init__()\n",
        "    self.encoder = encoder\n",
        "    self.conv1 = nn.Conv2d(1, 32, kernel_size=(41, 11), stride=(2, 2), padding=(0, 10))\n",
        "    self.bn1 = nn.BatchNorm2d(32, eps=1e-05, momentum=0.1)\n",
        "    self.ht1 = nn.Hardtanh(0, 20)\n",
        "    self.conv2 = nn.Conv2d(32, 32, kernel_size=(21, 11), stride=(2, 1))\n",
        "    self.bn2 = nn.BatchNorm2d(32, eps=1e-05, momentum=0.1)\n",
        "    self.ht2 = nn.Hardtanh(0, 20)\n",
        "    self.output_linear = nn.Linear(dim_model, dim_output)\n",
        "    self.unlinear_layer = nn.LogSoftmax(dim=2)\n",
        "    for p in self.parameters():\n",
        "      if p.dim() > 1:\n",
        "        nn.init.xavier_uniform_(p)\n",
        "\n",
        "  def forward(self, padded_input2, input_lengths, padded_target):\n",
        "    ## thsi part is for embedding\n",
        "    output = self.conv1(padded_input2)\n",
        "    output = self.bn1(output)\n",
        "    output = self.ht1(output)\n",
        "    output = self.conv2(output)\n",
        "    output = self.bn2(output)\n",
        "    output = self.ht2(output)\n",
        "    padded_input = output\n",
        "    ### this part is changing the dimension\n",
        "    dimensions = padded_input.size()\n",
        "    padded_input = padded_input.view(dimensions[0], dimensions[1] * dimensions[2], dimensions[3])\n",
        "    padded_input = padded_input.transpose(1, 2).contiguous()\n",
        "    ## this part is for the encoding part\n",
        "    encoder_padded_outputs = self.encoder(padded_input, input_lengths)\n",
        "    ## and we need to add some final layers for the model\n",
        "    encoder_padded_outputs = self.output_linear(encoder_padded_outputs)\n",
        "    encoder_padded_outputs = self.unlinear_layer(encoder_padded_outputs)\n",
        "    return encoder_padded_outputs\n",
        "    "
      ],
      "execution_count": null,
      "outputs": []
    },
    {
      "cell_type": "code",
      "metadata": {
        "id": "Cu9v-BnvthQD",
        "colab_type": "code",
        "colab": {}
      },
      "source": [
        "train_loss = []\n",
        "val_loss = []\n",
        "train_cer = []\n",
        "val_cer = []\n",
        "train_wer = []\n",
        "val_wer = []\n",
        "main_txt = \"\""
      ],
      "execution_count": null,
      "outputs": []
    },
    {
      "cell_type": "code",
      "metadata": {
        "id": "b0cwfLtYyqeH",
        "colab_type": "code",
        "colab": {}
      },
      "source": [
        "def Train_NetWork(model, epoch_number, d_model, warm_up, train_loss, val_loss, train_cer, val_cer, train_wer, val_wer, main_txt):\n",
        "  model.train()\n",
        "  step_num = 0\n",
        "  ctc_loss = nn.CTCLoss()\n",
        "  temp = np.power(d_model, -1/2)\n",
        "  temp_warm = np.power(warm_up, -3/2)\n",
        "  Val_idx = [i for i in range(0,4)]\n",
        "\n",
        "  for epoch in range(epoch_number):\n",
        "    in_step = 0\n",
        "    loss_val = []\n",
        "    cer_var = []\n",
        "    wer_var = []\n",
        "    The_Test = 4812\n",
        "    for i, (inputs, labels, input_percent, input_size, label_size) in enumerate(train_loader):\n",
        "      \n",
        "      if input_size[0] > 1000: #if there something gets too big we continue\n",
        "        continue\n",
        "      learning_rate = temp * np.minimum(np.power(step_num + 1, -1/2), (step_num + 1) * temp_warm)\n",
        "      optimizer = optim.Adam(params=model.parameters(), lr=learning_rate, betas=(0.9, 0.98), eps=1e-09)\n",
        "      inputs = inputs.to(device)\n",
        "      input_size = input_size.to(device)\n",
        "      labels = labels.to(device)\n",
        "      optimizer.zero_grad()\n",
        "      output2 = model.forward(inputs, input_size, labels)\n",
        "      loss = F.ctc_loss(output2.permute(1,0,2), labels, ((input_size - 9)/2), label_size)\n",
        "      if in_step == The_Test:\n",
        "        main_txt += print_result(output2)\n",
        "      if in_step % 500 == 0:\n",
        "        train_loss.append(loss.cpu())\n",
        "        cer_tmp, wer_tmp = calc_cer(output2, labels)\n",
        "        train_cer.append(cer_tmp)\n",
        "        train_wer.append(wer_tmp)\n",
        "      if in_step in Val_idx:\n",
        "        loss_val.append(loss.cpu())\n",
        "        cer_tmp, wer_tmp = calc_cer(output2, labels)\n",
        "        cer_var.append(cer_tmp)\n",
        "        wer_var.append(wer_tmp)\n",
        "        del cer_tmp\n",
        "        del wer_tmp\n",
        "        del inputs\n",
        "        del input_size\n",
        "        del labels\n",
        "        step_num += 1\n",
        "        in_step += 1\n",
        "        continue\n",
        "      del inputs\n",
        "      del input_size\n",
        "      del labels\n",
        "      loss.backward()\n",
        "      optimizer.step()\n",
        "      print(\"epoch: \", epoch, \"iteration: \", (step_num + 1), \"step of epoch\", in_step,  \" loss for batch: \", loss, \"lr: \", learning_rate)\n",
        "      step_num += 1\n",
        "      in_step += 1\n",
        "    val_loss.append(sum(loss_val)/len(loss_val))\n",
        "    val_cer.append(sum(cer_var)/len(cer_var))\n",
        "    val_wer.append(sum(wer_var)/len(wer_var))\n",
        "    del loss_val\n",
        "    del cer_var\n",
        "    del wer_var\n",
        "  return train_loss, val_loss, train_cer, val_cer, train_wer, val_wer, main_txt\n",
        "\n",
        "\n",
        "\n",
        "  "
      ],
      "execution_count": null,
      "outputs": []
    },
    {
      "cell_type": "code",
      "metadata": {
        "id": "ZW9StTzz_OW1",
        "colab_type": "code",
        "colab": {}
      },
      "source": [
        "train_loss = []\n",
        "val_loss = []\n",
        "train_cer = []\n",
        "val_cer = []\n",
        "train_wer = []\n",
        "val_wer = []\n",
        "main_txt = \"\""
      ],
      "execution_count": null,
      "outputs": []
    },
    {
      "cell_type": "code",
      "metadata": {
        "id": "HRqk6QqiZpm2",
        "colab_type": "code",
        "colab": {}
      },
      "source": [
        "sample_rate = 16000\n",
        "window_size = 0.02\n",
        "hidden_size = int(math.floor( (sample_rate * window_size) / 2) + 1)\n",
        "hidden_size = int(math.floor(hidden_size - 41) / 2 + 1)\n",
        "hidden_size = int(math.floor(hidden_size - 21) / 2 + 1)\n",
        "\n",
        "MyEncoder = Encoder(num_layers=4, num_heads=8, dim_model=256, dim_key=64, dim_value=64, dim_input=hidden_size*32,  dim_inner=1024)\n",
        "MyNetWork = HW4_Tansformer(MyEncoder, dim_model=256, dim_output=32)\n",
        "MyNetWork.to(device)"
      ],
      "execution_count": null,
      "outputs": []
    },
    {
      "cell_type": "code",
      "metadata": {
        "id": "pD4gUrFNZsyp",
        "colab_type": "code",
        "colab": {}
      },
      "source": [
        "train_loss, val_loss, train_cer, val_cer, train_wer, val_wer, main_txt = Train_NetWork(MyNetWork, 3, 512, 4000, train_loss, val_loss, train_cer, val_cer, train_wer, val_wer, main_txt)"
      ],
      "execution_count": null,
      "outputs": []
    },
    {
      "cell_type": "code",
      "metadata": {
        "id": "fU-9SbdDUqh2",
        "colab_type": "code",
        "colab": {}
      },
      "source": [
        "print(train_loss)\n",
        "print(val_loss)\n",
        "print(train_cer)\n",
        "print(val_cer)\n",
        "print(train_wer)\n",
        "print(val_wer)\n",
        "print(main_txt)"
      ],
      "execution_count": null,
      "outputs": []
    },
    {
      "cell_type": "code",
      "metadata": {
        "id": "-kFplIDERyWk",
        "colab_type": "code",
        "colab": {}
      },
      "source": [
        "num = \"7\"\n",
        "torch.save(train_loss, '/content/drive/My Drive/Academics/Deep Learning/DataSet/Loss/train_loss' + num + '.pt')\n",
        "torch.save(val_loss, '/content/drive/My Drive/Academics/Deep Learning/DataSet/Loss/val_loss' + num + '.pt')\n",
        "torch.save(train_cer, '/content/drive/My Drive/Academics/Deep Learning/DataSet/CER/train_cer' + num + '.pt')\n",
        "torch.save(val_cer, '/content/drive/My Drive/Academics/Deep Learning/DataSet/CER/val_cer' + num + '.pt')\n",
        "torch.save(train_wer, '/content/drive/My Drive/Academics/Deep Learning/DataSet/WER/train_wer' + num + '.pt')\n",
        "torch.save(val_wer, '/content/drive/My Drive/Academics/Deep Learning/DataSet/WER/val_wer' + num + '.pt')\n",
        "\n",
        "text_file = open('/content/drive/My Drive/Academics/Deep Learning/DataSet/Text/main' + num + '.txt', \"w\")\n",
        "n = text_file.write(main_txt)\n",
        "text_file.close()"
      ],
      "execution_count": null,
      "outputs": []
    },
    {
      "cell_type": "code",
      "metadata": {
        "id": "NYfANrfjwQBt",
        "colab_type": "code",
        "colab": {}
      },
      "source": [
        "torch.save(MyNetWork.state_dict(), \"/content/drive/My Drive/Academics/Deep Learning/DataSet/Model/model_ep\" + num + \".pt\")"
      ],
      "execution_count": null,
      "outputs": []
    },
    {
      "cell_type": "code",
      "metadata": {
        "id": "l-JTC3n9TVhb",
        "colab_type": "code",
        "colab": {}
      },
      "source": [
        "num = \"7\"\n",
        "train_loss = torch.load('/content/drive/My Drive/Academics/Deep Learning/DataSet/Loss/train_loss' + num + '.pt')\n",
        "val_loss = torch.load('/content/drive/My Drive/Academics/Deep Learning/DataSet/Loss/val_loss' + num + '.pt')\n",
        "train_cer = torch.load('/content/drive/My Drive/Academics/Deep Learning/DataSet/CER/train_cer' + num + '.pt')\n",
        "val_cer = torch.load('/content/drive/My Drive/Academics/Deep Learning/DataSet/CER/val_cer' + num + '.pt')\n",
        "train_wer = torch.load('/content/drive/My Drive/Academics/Deep Learning/DataSet/WER/train_wer' + num + '.pt')\n",
        "val_wer = torch.load('/content/drive/My Drive/Academics/Deep Learning/DataSet/WER/val_wer' + num + '.pt')\n",
        "\n",
        "file = open('/content/drive/My Drive/Academics/Deep Learning/DataSet/Text/main' + num + '.txt')\n",
        "main_txt = file.read()\n",
        "file.close()"
      ],
      "execution_count": null,
      "outputs": []
    },
    {
      "cell_type": "code",
      "metadata": {
        "id": "O3SGCgIcwiX6",
        "colab_type": "code",
        "colab": {
          "base_uri": "https://localhost:8080/",
          "height": 34
        },
        "outputId": "40e8ca33-26cf-4ff3-bd6e-e38b8bdc859a"
      },
      "source": [
        "\n",
        "MyNetWork.load_state_dict(torch.load(\"/content/drive/My Drive/Academics/Deep Learning/DataSet/Model/model_ep\" + num + \".pt\"))\n",
        "#torch.load('file.pt')"
      ],
      "execution_count": null,
      "outputs": [
        {
          "output_type": "execute_result",
          "data": {
            "text/plain": [
              "<All keys matched successfully>"
            ]
          },
          "metadata": {
            "tags": []
          },
          "execution_count": 16
        }
      ]
    },
    {
      "cell_type": "code",
      "metadata": {
        "id": "N3Pt9bQ4goNv",
        "colab_type": "code",
        "colab": {
          "base_uri": "https://localhost:8080/",
          "height": 1000
        },
        "outputId": "561935bf-e548-47bd-b23b-5e49fd7c54d6"
      },
      "source": [
        "def plot_acc(train_loss, val_loss, train_cer, val_cer, train_wer, val_wer):\n",
        "  plt.plot(np.arange(1,len(train_loss)+1), train_loss)\n",
        "  plt.ylabel('loss of Train')\n",
        "  plt.xlabel(\"number steps\")\n",
        "  plt.grid(True)\n",
        "  plt.show()\n",
        "  plt.plot(np.arange(1,len(val_loss)+1), val_loss)\n",
        "  plt.ylabel('loss of validation')\n",
        "  plt.xlabel(\"number epoch\")\n",
        "  plt.grid(True)\n",
        "  plt.show()\n",
        "  plt.plot(np.arange(1,len(train_cer)+1), train_cer)\n",
        "  plt.ylabel('CER train data')\n",
        "  plt.xlabel(\"number steps\")\n",
        "  plt.grid(True)\n",
        "  plt.show()\n",
        "  plt.plot(np.arange(1,len(val_cer)+1), val_cer)\n",
        "  plt.ylabel('CER Validation data')\n",
        "  plt.xlabel(\"number epoch\")\n",
        "  plt.grid(True)\n",
        "  plt.show()\n",
        "  plt.plot(np.arange(1,len(train_wer)+1), train_wer)\n",
        "  plt.ylabel('WER train data')\n",
        "  plt.xlabel(\"number steps\")\n",
        "  plt.grid(True)\n",
        "  plt.show()\n",
        "  plt.plot(np.arange(1,len(val_wer)+1), val_wer)\n",
        "  plt.ylabel('WER Validation data')\n",
        "  plt.xlabel(\"number epoch\")\n",
        "  plt.grid(True)\n",
        "  plt.show()\n",
        "\n",
        "plot_acc(train_loss, val_loss, train_cer, val_cer, train_wer, val_wer)\n"
      ],
      "execution_count": null,
      "outputs": [
        {
          "output_type": "display_data",
          "data": {
            "image/png": "[encoded data removed]",
            "text/plain": [
              "<Figure size 432x288 with 1 Axes>"
            ]
          },
          "metadata": {
            "tags": [],
            "needs_background": "light"
          }
        },
        {
          "output_type": "display_data",
          "data": {
            "image/png": "[encoded data removed]",
            "text/plain": [
              "<Figure size 432x288 with 1 Axes>"
            ]
          },
          "metadata": {
            "tags": [],
            "needs_background": "light"
          }
        },
        {
          "output_type": "display_data",
          "data": {
            "image/png": "[encoded data removed]",
            "text/plain": [
              "<Figure size 432x288 with 1 Axes>"
            ]
          },
          "metadata": {
            "tags": [],
            "needs_background": "light"
          }
        },
        {
          "output_type": "display_data",
          "data": {
            "image/png": "[encoded data removed]",
            "text/plain": [
              "<Figure size 432x288 with 1 Axes>"
            ]
          },
          "metadata": {
            "tags": [],
            "needs_background": "light"
          }
        },
        {
          "output_type": "display_data",
          "data": {
            "image/png": "[encoded data removed]",
            "text/plain": [
              "<Figure size 432x288 with 1 Axes>"
            ]
          },
          "metadata": {
            "tags": [],
            "needs_background": "light"
          }
        },
        {
          "output_type": "display_data",
          "data": {
            "image/png": "[encoded data removed]",
            "text/plain": [
              "<Figure size 432x288 with 1 Axes>"
            ]
          },
          "metadata": {
            "tags": [],
            "needs_background": "light"
          }
        }
      ]
    },
    {
      "cell_type": "code",
      "metadata": {
        "id": "lxM4cwL_rAZa",
        "colab_type": "code",
        "colab": {}
      },
      "source": [
        "!ln -sf /opt/bin/nvidia-smi /usr/bin/nvidia-smi\n",
        "!pip install gputil\n",
        "!pip install psutil\n",
        "!pip install humanize\n",
        "import psutil\n",
        "import humanize\n",
        "import os\n",
        "import GPUtil as GPU\n",
        "GPUs = GPU.getGPUs()\n",
        "# XXX: only one GPU on Colab and isn’t guaranteed\n",
        "gpu = GPUs[0]\n",
        "def printm():\n",
        " process = psutil.Process(os.getpid())\n",
        " print(\"Gen RAM Free: \" + humanize.naturalsize( psutil.virtual_memory().available ), \" | Proc size: \" + humanize.naturalsize( process.memory_info().rss))\n",
        " print(\"GPU RAM Free: {0:.0f}MB | Used: {1:.0f}MB | Util {2:3.0f}% | Total {3:.0f}MB\".format(gpu.memoryFree, gpu.memoryUsed, gpu.memoryUtil*100, gpu.memoryTotal))\n",
        "printm()"
      ],
      "execution_count": null,
      "outputs": []
    }
  ]
}