{
  "nbformat": 4,
  "nbformat_minor": 0,
  "metadata": {
    "colab": {
      "name": "PreData.ipynb",
      "provenance": [],
      "authorship_tag": "ABX9TyPVJeBsZATox9EFokX3XxlR",
      "include_colab_link": true
    },
    "kernelspec": {
      "name": "python3",
      "display_name": "Python 3"
    }
  },
  "cells": [
    {
      "cell_type": "markdown",
      "metadata": {
        "id": "view-in-github",
        "colab_type": "text"
      },
      "source": [
        "<a href=\"https://colab.research.google.com/github/aminfadaei116/Deep-Learning-Course/blob/master/CA4/PreData.ipynb\" target=\"_parent\"><img src=\"https://colab.research.google.com/assets/colab-badge.svg\" alt=\"Open In Colab\"/></a>"
      ]
    },
    {
      "cell_type": "code",
      "metadata": {
        "id": "8sLTaCNP2RGU",
        "colab_type": "code",
        "colab": {
          "base_uri": "https://localhost:8080/",
          "height": 122
        },
        "outputId": "19ecf747-05fc-450a-a924-f5c352a5f58c"
      },
      "source": [
        "from google.colab import drive\n",
        "drive.mount('/content/drive')"
      ],
      "execution_count": null,
      "outputs": [
        {
          "output_type": "stream",
          "text": [
            "Go to this URL in a browser: https://accounts.google.com/o/oauth2/auth?client_id=947318989803-6bn6qk8qdgf4n4g3pfee6491hc0brc4i.apps.googleusercontent.com&redirect_uri=urn%3aietf%3awg%3aoauth%3a2.0%3aoob&response_type=code&scope=email%20https%3a%2f%2fwww.googleapis.com%2fauth%2fdocs.test%20https%3a%2f%2fwww.googleapis.com%2fauth%2fdrive%20https%3a%2f%2fwww.googleapis.com%2fauth%2fdrive.photos.readonly%20https%3a%2f%2fwww.googleapis.com%2fauth%2fpeopleapi.readonly\n",
            "\n",
            "Enter your authorization code:\n",
            "··········\n",
            "Mounted at /content/drive\n"
          ],
          "name": "stdout"
        }
      ]
    },
    {
      "cell_type": "code",
      "metadata": {
        "id": "CNkDqMBGoV1R",
        "colab_type": "code",
        "colab": {}
      },
      "source": [
        "import cv2\n",
        "from scipy.io import loadmat\n",
        "import numpy as np\n",
        "import tqdm\n",
        "import torch\n",
        "import math\n",
        "import matplotlib.pyplot as plt\n",
        "import pandas as pd\n",
        "import numpy as np\n",
        "from numpy import linalg as LA\n",
        "import re\n",
        "from tqdm.notebook import tqdm\n",
        "import torch\n",
        "import json\n",
        "from sklearn.metrics import confusion_matrix\n",
        "import matplotlib.pyplot as plt"
      ],
      "execution_count": null,
      "outputs": []
    },
    {
      "cell_type": "code",
      "metadata": {
        "id": "ir7bLFRVOkKI",
        "colab_type": "code",
        "colab": {
          "base_uri": "https://localhost:8080/",
          "height": 153
        },
        "outputId": "04f818a4-7aa1-4064-e3d3-27fe892335ba"
      },
      "source": [
        "!pip install torchaudio\n",
        "from load_data import load_data"
      ],
      "execution_count": null,
      "outputs": [
        {
          "output_type": "stream",
          "text": [
            "Collecting torchaudio\n",
            "\u001b[?25l  Downloading https://files.pythonhosted.org/packages/9c/7d/8e01e21175dd2c9bb1b7e014e0c56cdd02618e2db5bebb4f52f6fdf253cb/torchaudio-0.5.0-cp36-cp36m-manylinux1_x86_64.whl (3.2MB)\n",
            "\u001b[K     |████████████████████████████████| 3.2MB 3.3MB/s \n",
            "\u001b[?25hRequirement already satisfied: torch==1.5.0 in /usr/local/lib/python3.6/dist-packages (from torchaudio) (1.5.0+cu101)\n",
            "Requirement already satisfied: future in /usr/local/lib/python3.6/dist-packages (from torch==1.5.0->torchaudio) (0.16.0)\n",
            "Requirement already satisfied: numpy in /usr/local/lib/python3.6/dist-packages (from torch==1.5.0->torchaudio) (1.18.5)\n",
            "Installing collected packages: torchaudio\n",
            "Successfully installed torchaudio-0.5.0\n"
          ],
          "name": "stdout"
        }
      ]
    },
    {
      "cell_type": "code",
      "metadata": {
        "id": "225X_hnBXV0V",
        "colab_type": "code",
        "colab": {}
      },
      "source": [
        "!python3 -m pip install --user --upgrade pip\n",
        "\n",
        "!export PATH=\"/root/.local/bin:$PATH\"\n",
        "\n",
        "!python3 -m pip --version\n",
        "\n",
        "!apt-get install python3-venv\n",
        "\n",
        "!python3 -m venv env\n",
        "\n",
        "!source env/bin/activate\n",
        "\n",
        "!source env/bin/activate; which python\n",
        "\n",
        "!source env/bin/activate; pip install -r req.txt\n",
        "\n",
        "\n",
        "!source env/bin/activate; bash download_prepare_data.sh\n",
        "\n",
        "\n",
        "#!zip -r data.zip data\n",
        "\n",
        "#!cp -av data.zip \"/content/drive/My Drive/Deep Learning Course Spring 99/DataSets/HW4-Dataset/\"\n",
        "\n"
      ],
      "execution_count": null,
      "outputs": []
    },
    {
      "cell_type": "code",
      "metadata": {
        "id": "e8wzBCkKHpQn",
        "colab_type": "code",
        "colab": {}
      },
      "source": [
        "import os\n",
        "df = pd.read_csv('data_train.csv', header = None)\n",
        "missed = []\n",
        "for idx, row in df.iterrows():\n",
        "    if idx >= 10000:\n",
        "        try:\n",
        "            os.remove(row[0])\n",
        "            os.remove(row[1])\n",
        "        except:\n",
        "            if idx < 10008:\n",
        "                missed.append(idx)\n",
        "    if idx % 10000 == 0:\n",
        "        print(idx)"
      ],
      "execution_count": null,
      "outputs": []
    },
    {
      "cell_type": "code",
      "metadata": {
        "id": "ChFhhq5OW8V4",
        "colab_type": "code",
        "colab": {}
      },
      "source": [
        "for idx, row in df.iterrows():\n",
        "  isFile1 = os.path.isfile(row[0])\n",
        "  isFile2 = os.path.isfile(row[1])  \n",
        "  if idx < 5000:\n",
        "    print(idx, isFile1, isFile2)"
      ],
      "execution_count": null,
      "outputs": []
    },
    {
      "cell_type": "code",
      "metadata": {
        "id": "XHV4K_SLpkVb",
        "colab_type": "code",
        "colab": {}
      },
      "source": [
        "dim_model = 256\n",
        "torch.exp(torch.arange(0, dim_model, 2).float() * -(np.log(10000.0) / dim_model))"
      ],
      "execution_count": null,
      "outputs": []
    },
    {
      "cell_type": "code",
      "metadata": {
        "id": "FSzwdFLDsYIj",
        "colab_type": "code",
        "colab": {}
      },
      "source": [
        "np.power(0.0001, torch.arange(0, dim_model, 2).float()/dim_model)"
      ],
      "execution_count": null,
      "outputs": []
    },
    {
      "cell_type": "code",
      "metadata": {
        "id": "QudqR3_uL5Ix",
        "colab_type": "code",
        "colab": {
          "base_uri": "https://localhost:8080/",
          "height": 85
        },
        "outputId": "4151690b-2ef2-40b4-9c1d-00887e1a47e8"
      },
      "source": [
        "%cp -av \"/content/drive/My Drive/Deep Learning Course Spring 99/DataSets/HW4-Dataset/data_val.csv\" \"/content\"\n",
        "%cp -av \"/content/drive/My Drive/Deep Learning Course Spring 99/DataSets/HW4-Dataset/data_test.csv\" \"/content\"\n",
        "%cp -av \"/content/drive/My Drive/Deep Learning Course Spring 99/DataSets/HW4-Dataset/data_train.csv\" \"/content\"\n",
        "%cp -av \"/content/drive/My Drive/Deep Learning Course Spring 99/DataSets/HW4-Dataset/data_train1k.csv\" \"/content\""
      ],
      "execution_count": null,
      "outputs": [
        {
          "output_type": "stream",
          "text": [
            "'/content/drive/My Drive/Deep Learning Course Spring 99/DataSets/HW4-Dataset/data_val.csv' -> '/content/data_val.csv'\n",
            "'/content/drive/My Drive/Deep Learning Course Spring 99/DataSets/HW4-Dataset/data_test.csv' -> '/content/data_test.csv'\n",
            "'/content/drive/My Drive/Deep Learning Course Spring 99/DataSets/HW4-Dataset/data_train.csv' -> '/content/data_train.csv'\n",
            "'/content/drive/My Drive/Deep Learning Course Spring 99/DataSets/HW4-Dataset/data_train1k.csv' -> '/content/data_train1k.csv'\n"
          ],
          "name": "stdout"
        }
      ]
    },
    {
      "cell_type": "code",
      "metadata": {
        "id": "N0cLtXj4qI32",
        "colab_type": "code",
        "colab": {
          "base_uri": "https://localhost:8080/"
        },
        "outputId": "132b1c56-27f8-4ac5-87a0-10648a084cb1"
      },
      "source": [
        "!cp -av data_test.csv \"/content/drive/My Drive/Deep Learning Course Spring 99/DataSets/HW4-Dataset/\"\n",
        "!cp -av data_train.csv \"/content/drive/My Drive/Deep Learning Course Spring 99/DataSets/HW4-Dataset/\"\n",
        "!cp -av data_val.csv \"/content/drive/My Drive/Deep Learning Course Spring 99/DataSets/HW4-Dataset/\"\n"
      ],
      "execution_count": null,
      "outputs": [
        {
          "output_type": "stream",
          "text": [
            "'data_test.csv' -> '/content/drive/My Drive/Deep Learning Course Spring 99/DataSets/HW4-Dataset/data_test.csv'\n",
            "'data_train.csv' -> '/content/drive/My Drive/Deep Learning Course Spring 99/DataSets/HW4-Dataset/data_train.csv'\n",
            "'data_val.csv' -> '/content/drive/My Drive/Deep Learning Course Spring 99/DataSets/HW4-Dataset/data_val.csv'\n"
          ],
          "name": "stdout"
        }
      ]
    },
    {
      "cell_type": "code",
      "metadata": {
        "id": "NGiDFuGvoOI9",
        "colab_type": "code",
        "colab": {}
      },
      "source": [
        "val_data = pd.read_csv('/content/drive/My Drive/Deep Learning Course Spring 99/DataSets/HW4-Dataset/data_val.csv', header = None)\n",
        "test_data = pd.read_csv('/content/drive/My Drive/Deep Learning Course Spring 99/DataSets/HW4-Dataset/data_test.csv', header = None)\n",
        "train_data = pd.read_csv('/content/drive/My Drive/Deep Learning Course Spring 99/DataSets/HW4-Dataset/data_train.csv', header = None)"
      ],
      "execution_count": null,
      "outputs": []
    },
    {
      "cell_type": "code",
      "metadata": {
        "id": "7wUaHVBcoRtp",
        "colab_type": "code",
        "colab": {}
      },
      "source": [
        "Train_data1k = train_data[0:1200]\n",
        "Train_data12k = train_data[0:12000]"
      ],
      "execution_count": null,
      "outputs": []
    },
    {
      "cell_type": "code",
      "metadata": {
        "id": "BsUTipa6tlrc",
        "colab_type": "code",
        "colab": {}
      },
      "source": [
        "Train_data1k.to_csv('/content/drive/My Drive/Deep Learning Course Spring 99/DataSets/HW4-Dataset/data_train1k.csv')\n",
        "Train_data12k.to_csv('/content/drive/My Drive/Deep Learning Course Spring 99/DataSets/HW4-Dataset/data_train12k.csv')"
      ],
      "execution_count": null,
      "outputs": []
    },
    {
      "cell_type": "code",
      "metadata": {
        "id": "HH1Z1MH5uGVc",
        "colab_type": "code",
        "colab": {}
      },
      "source": [
        "import os\n",
        "df = pd.read_csv('data_train.csv', header = None)\n",
        "for idx, row in df.iterrows():\n",
        "  isFile1 = os.path.isfile(row[0])\n",
        "  isFile2 = os.path.isfile(row[1])  \n",
        "  if isFile1 == False:\n",
        "    print(idx, isFile1, isFile2)\n",
        "  if isFile2 == False:\n",
        "    print(idx, isFile1, isFile2)"
      ],
      "execution_count": null,
      "outputs": []
    },
    {
      "cell_type": "code",
      "metadata": {
        "id": "RzFUHznBvHEv",
        "colab_type": "code",
        "colab": {}
      },
      "source": [
        "new_train_data = train_data.drop([i for i in range(43341, 43560)])"
      ],
      "execution_count": null,
      "outputs": []
    },
    {
      "cell_type": "code",
      "metadata": {
        "id": "MZrTsjH8vIE-",
        "colab_type": "code",
        "colab": {}
      },
      "source": [
        "new_train_data.to_csv('/content/drive/My Drive/Deep Learning Course Spring 99/DataSets/HW4-Dataset/new_data_train.csv', header=None, index=None)"
      ],
      "execution_count": null,
      "outputs": []
    }
  ]
}