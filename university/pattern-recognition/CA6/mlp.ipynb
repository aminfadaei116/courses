{
  "nbformat": 4,
  "nbformat_minor": 0,
  "metadata": {
    "colab": {
      "name": "mlp.ipynb",
      "version": "0.3.2",
      "provenance": [],
      "collapsed_sections": [],
      "toc_visible": true
    },
    "language_info": {
      "codemirror_mode": {
        "name": "ipython",
        "version": 3
      },
      "file_extension": ".py",
      "mimetype": "text/x-python",
      "name": "python",
      "nbconvert_exporter": "python",
      "pygments_lexer": "ipython3",
      "version": "3.7.1"
    },
    "kernelspec": {
      "display_name": ".env",
      "language": "python",
      "name": ".env"
    }
  },
  "cells": [
    {
      "cell_type": "code",
      "metadata": {
        "id": "f0aQi2t5DUAX",
        "colab_type": "code",
        "colab": {
          "base_uri": "https://localhost:8080/",
          "height": 54
        },
        "outputId": "d326823d-0a06-4c3f-b07b-ca517d950830"
      },
      "source": [
        "# Run this cell to mount your Google Drive.\n",
        "from google.colab import drive\n",
        "drive.mount('/content/drive')"
      ],
      "execution_count": 4,
      "outputs": [
        {
          "output_type": "stream",
          "text": [
            "Drive already mounted at /content/drive; to attempt to forcibly remount, call drive.mount(\"/content/drive\", force_remount=True).\n"
          ],
          "name": "stdout"
        }
      ]
    },
    {
      "cell_type": "code",
      "metadata": {
        "id": "6eJtDZjz9Awo",
        "colab_type": "code",
        "colab": {
          "base_uri": "https://localhost:8080/",
          "height": 255
        },
        "outputId": "0e77d07e-91f0-4882-efcd-65c5eb93cce7"
      },
      "source": [
        "# !pip3 install pydrive\n",
        "\n",
        "# from pydrive.auth import GoogleAuth\n",
        "# from pydrive.drive import GoogleDrive\n",
        "# from google.colab import auth\n",
        "# from oauth2client.client import GoogleCredentials\n",
        "\n",
        "# auth.authenticate_user()\n",
        "# gauth = GoogleAuth()\n",
        "# gauth.credentials = GoogleCredentials.get_application_default()\n",
        "# drive = GoogleDrive(gauth)"
      ],
      "execution_count": 5,
      "outputs": [
        {
          "output_type": "stream",
          "text": [
            "Requirement already satisfied: pydrive in /usr/local/lib/python3.6/dist-packages (1.3.1)\n",
            "Requirement already satisfied: google-api-python-client>=1.2 in /usr/local/lib/python3.6/dist-packages (from pydrive) (1.7.9)\n",
            "Requirement already satisfied: oauth2client>=4.0.0 in /usr/local/lib/python3.6/dist-packages (from pydrive) (4.1.3)\n",
            "Requirement already satisfied: PyYAML>=3.0 in /usr/local/lib/python3.6/dist-packages (from pydrive) (3.13)\n",
            "Requirement already satisfied: six<2dev,>=1.6.1 in /usr/local/lib/python3.6/dist-packages (from google-api-python-client>=1.2->pydrive) (1.12.0)\n",
            "Requirement already satisfied: google-auth>=1.4.1 in /usr/local/lib/python3.6/dist-packages (from google-api-python-client>=1.2->pydrive) (1.4.2)\n",
            "Requirement already satisfied: google-auth-httplib2>=0.0.3 in /usr/local/lib/python3.6/dist-packages (from google-api-python-client>=1.2->pydrive) (0.0.3)\n",
            "Requirement already satisfied: httplib2<1dev,>=0.9.2 in /usr/local/lib/python3.6/dist-packages (from google-api-python-client>=1.2->pydrive) (0.11.3)\n",
            "Requirement already satisfied: uritemplate<4dev,>=3.0.0 in /usr/local/lib/python3.6/dist-packages (from google-api-python-client>=1.2->pydrive) (3.0.0)\n",
            "Requirement already satisfied: rsa>=3.1.4 in /usr/local/lib/python3.6/dist-packages (from oauth2client>=4.0.0->pydrive) (4.0)\n",
            "Requirement already satisfied: pyasn1-modules>=0.0.5 in /usr/local/lib/python3.6/dist-packages (from oauth2client>=4.0.0->pydrive) (0.2.5)\n",
            "Requirement already satisfied: pyasn1>=0.1.7 in /usr/local/lib/python3.6/dist-packages (from oauth2client>=4.0.0->pydrive) (0.4.5)\n",
            "Requirement already satisfied: cachetools>=2.0.0 in /usr/local/lib/python3.6/dist-packages (from google-auth>=1.4.1->google-api-python-client>=1.2->pydrive) (3.1.1)\n"
          ],
          "name": "stdout"
        }
      ]
    },
    {
      "cell_type": "markdown",
      "metadata": {
        "id": "0wQdGi4O3Y2r",
        "colab_type": "text"
      },
      "source": [
        "# 1- Implementation a Neural Network\n",
        "In this problem you should train an artificial neural network (MLP and RBF) for classification of the given dataset.<br>\n",
        "you should fill the missing sections to complete your neural network implementation.<br>\n",
        "in this exercise you will:\n",
        "- Tune the learning rate and regularization weight\n",
        "- Implement the loss function for MLP\n",
        "- Implement the forward pass and backward pass \n",
        "- visualize the train and validation accuracy versuse iteration\n"
      ]
    },
    {
      "cell_type": "code",
      "metadata": {
        "id": "WEFZLMfc_WVi",
        "colab_type": "code",
        "colab": {}
      },
      "source": [
        "# your_module = drive.CreateFile({'id':'1YdrgOkW-jUJT6PXYEC-ZhZU3Q2uBzO-0'})\n",
        "# your_module.GetContentFile('neural_net.py')"
      ],
      "execution_count": 0,
      "outputs": []
    },
    {
      "cell_type": "code",
      "metadata": {
        "id": "jnOZ0HSu3Y2u",
        "colab_type": "code",
        "colab": {}
      },
      "source": [
        "# initialization\n",
        "\n",
        "import numpy as np\n",
        "import matplotlib.pyplot as plt\n",
        "\n",
        "from neural_net import MLPNet\n",
        "\n",
        "%matplotlib inline\n",
        "plt.rcParams['figure.figsize'] = (10.0, 8.0) # set default size of plots\n",
        "plt.rcParams['image.interpolation'] = 'nearest'\n",
        "plt.rcParams['image.cmap'] = 'gray'\n",
        "\n",
        "# for auto-reloading external modules\n",
        "%load_ext autoreload\n",
        "%autoreload 2\n",
        "\n",
        "def rel_error(x, y):\n",
        "  return np.max(np.abs(x - y) / (np.maximum(1e-8, np.abs(x) + np.abs(y))))"
      ],
      "execution_count": 0,
      "outputs": []
    },
    {
      "cell_type": "markdown",
      "metadata": {
        "id": "MrAezxsr3Y23",
        "colab_type": "text"
      },
      "source": [
        "## 1-1-1 Create a toy dataset\n",
        "In this section we create a toy dataset containing 5 samples with 5 features.\n",
        "The network has 6 neurons in the hidden layer and there are 3 classes in the output.\n",
        "MLPNet class in the file neural_net.py will be used to instantiate our network . We use toy dataset with small size to check your implementaion and to see what happens to network weights during training."
      ]
    },
    {
      "cell_type": "code",
      "metadata": {
        "id": "xUj8ng2m3Y25",
        "colab_type": "code",
        "colab": {}
      },
      "source": [
        "# Create our network and toy dataset\n",
        "\n",
        "features = 5\n",
        "hidden_size = 6\n",
        "classes = 3\n",
        "inputs = 5\n",
        "np.random.seed(0)\n",
        "\n",
        "net = MLPNet(features, hidden_size, classes, std=1e-1)\n",
        "X = 10 * np.random.randn(inputs, features)\n",
        "y = np.array([1, 0, 0, 2, 1])"
      ],
      "execution_count": 0,
      "outputs": []
    },
    {
      "cell_type": "markdown",
      "metadata": {
        "id": "GVES-uLG3Y29",
        "colab_type": "text"
      },
      "source": [
        "## 1-1-2- Forward pass\n",
        "To run the following section, you should complete the loss function in the neural_net.py to compute scores . The output is a 5*3 matrix that contains the class score for each sample."
      ]
    },
    {
      "cell_type": "code",
      "metadata": {
        "id": "_gpSQbKq3Y2_",
        "colab_type": "code",
        "outputId": "37bb4f29-e3b0-4a78-9dd9-65ed68e02c36",
        "colab": {
          "base_uri": "https://localhost:8080/",
          "height": 118
        }
      },
      "source": [
        "scores = net.loss(X)\n",
        "print ('Your scores:\\n',scores)"
      ],
      "execution_count": 28,
      "outputs": [
        {
          "output_type": "stream",
          "text": [
            "Your scores:\n",
            " [[ 0.53925742 -1.13732454  1.33071509]\n",
            " [ 0.21951616 -0.26072075  0.64730221]\n",
            " [ 0.43493318 -0.6477387   0.77415062]\n",
            " [ 1.00057299 -0.65759463  1.40035202]\n",
            " [ 0.06459671  0.17639074  0.24715522]]\n"
          ],
          "name": "stdout"
        }
      ]
    },
    {
      "cell_type": "markdown",
      "metadata": {
        "id": "Ob2wbtUz3Y3G",
        "colab_type": "text"
      },
      "source": [
        "## 1-1-3- Forward pass\n",
        "Now you should complete the second missing part in loss function in the neural_net.py , the output shows the loss of your network"
      ]
    },
    {
      "cell_type": "code",
      "metadata": {
        "id": "-0bgtZKj3Y3H",
        "colab_type": "code",
        "outputId": "3e0ffb6a-09e8-42a9-f8ed-ec6fed8ec3e9",
        "colab": {
          "base_uri": "https://localhost:8080/",
          "height": 34
        }
      },
      "source": [
        "loss, _ = net.loss(X, y, reg=0.1)\n",
        "print(\"your network loss is:\",loss)"
      ],
      "execution_count": 29,
      "outputs": [
        {
          "output_type": "stream",
          "text": [
            "your network loss is: 1.3460591018922545\n"
          ],
          "name": "stdout"
        }
      ]
    },
    {
      "cell_type": "markdown",
      "metadata": {
        "id": "gd4BYWKd3Y3M",
        "colab_type": "text"
      },
      "source": [
        "## 1-1-4- Backward pass\n",
        "compute the gradient according to weights and biases. "
      ]
    },
    {
      "cell_type": "code",
      "metadata": {
        "id": "npxkjgv_3Y3O",
        "colab_type": "code",
        "outputId": "e4351224-e746-4055-9a7c-28b9a37aa55c",
        "colab": {
          "base_uri": "https://localhost:8080/",
          "height": 302
        }
      },
      "source": [
        "loss, grads = net.loss(X, y, reg=0.1)\n",
        "print('grads of W1\\n',grads['W1'])\n",
        "print('grads of b1\\n',grads['b1'])\n",
        "print('grads of W2\\n',grads['W2'])\n",
        "print('grads of b2\\n',grads['b2'])"
      ],
      "execution_count": 30,
      "outputs": [
        {
          "output_type": "stream",
          "text": [
            "grads of W1\n",
            " [[ 0.39068754 -0.09228415  0.47930205  0.08490173  0.87758962 -0.64311906]\n",
            " [ 0.0887396  -0.12785218  0.12799381  0.06972022 -0.00088163 -0.11762764]\n",
            " [ 0.07258278 -0.00844352  0.08749028  0.0117301   0.17918078 -0.12165874]\n",
            " [-0.2081171   0.1766417  -0.27810842 -0.10517318 -0.22922798  0.30909018]\n",
            " [ 0.06978857 -0.26031855  0.12926901  0.13018432 -0.29983986 -0.05006071]]\n",
            "grads of b1\n",
            " [-0.03810161  0.02720594 -0.04999891 -0.0168509  -0.05153433  0.05791585]\n",
            "grads of W2\n",
            " [[ 0.26712324  0.50820436 -0.77491245]\n",
            " [-0.17423266  0.32380449 -0.1493796 ]\n",
            " [ 0.09839409  0.6616184  -0.7597782 ]\n",
            " [-0.12476734  0.72452763 -0.59931944]\n",
            " [ 0.08178675  0.54709138 -0.62840125]\n",
            " [ 0.35545831 -0.30105655 -0.05411357]]\n",
            "grads of b2\n",
            " [-0.06984928 -0.24342562  0.31330403]\n"
          ],
          "name": "stdout"
        }
      ]
    },
    {
      "cell_type": "markdown",
      "metadata": {
        "collapsed": true,
        "id": "Zvubux5G3Y3T",
        "colab_type": "text"
      },
      "source": [
        "## 1-1-5- Train the network\n",
        "Fill the missing section in train and predict function of MLPNet class . After you correctly implement those function you build a two layer neural network that can feed data to it. The result of the following section shows Final training loss of your network and training loss versus iteration ."
      ]
    },
    {
      "cell_type": "code",
      "metadata": {
        "id": "QdmGFOS93Y3U",
        "colab_type": "code",
        "outputId": "a2b703bb-c8b8-4749-b5b0-b02480abc553",
        "colab": {
          "base_uri": "https://localhost:8080/",
          "height": 546
        }
      },
      "source": [
        "net = MLPNet(features, hidden_size, classes, std=1e-1)\n",
        "stats = net.train(X, y, X, y,\n",
        "            learning_rate=1e-1, reg=1e-5,\n",
        "            num_iters=100)\n",
        "\n",
        "print ('Final training loss: ', stats['loss_train'][-1])\n",
        "\n",
        "# plot the loss history\n",
        "plt.plot(stats['loss_train'])\n",
        "plt.xlabel('iteration')\n",
        "plt.ylabel('training loss')\n",
        "plt.title('Training Loss history')\n",
        "plt.show()"
      ],
      "execution_count": 31,
      "outputs": [
        {
          "output_type": "stream",
          "text": [
            "iteration 0 / 100: loss 1.211979\n",
            "Final training loss:  0.09778450846649253\n"
          ],
          "name": "stdout"
        },
        {
          "output_type": "display_data",
          "data": {
            "image/png": "[encoded data removed]",
            "text/plain": [
              "<Figure size 720x576 with 1 Axes>"
            ]
          },
          "metadata": {
            "tags": []
          }
        }
      ]
    },
    {
      "cell_type": "markdown",
      "metadata": {
        "id": "hjlPcdWf3Y3Z",
        "colab_type": "text"
      },
      "source": [
        "## 1-1-6- Load data MNIST\n",
        "In this section we use a real dataset.change root variable in dataloader.py to your dataset path."
      ]
    },
    {
      "cell_type": "code",
      "metadata": {
        "id": "qvb1i0OvAjqN",
        "colab_type": "code",
        "colab": {}
      },
      "source": [
        "# your_module = drive.CreateFile({'id':'1XV9NYpjIm4j_EmS46Ti9A_LZn1S-9_Bx'})\n",
        "# your_module.GetContentFile('dataloader.py')"
      ],
      "execution_count": 0,
      "outputs": []
    },
    {
      "cell_type": "code",
      "metadata": {
        "id": "aO0Y-yYY3Y3b",
        "colab_type": "code",
        "outputId": "ba293b76-8501-412e-8782-a84dc30e62d4",
        "colab": {
          "base_uri": "https://localhost:8080/",
          "height": 118
        }
      },
      "source": [
        "from dataloader import select_features\n",
        "import numpy as np\n",
        "import os\n",
        "from matplotlib.pyplot import imread\n",
        "import cv2\n",
        "import matplotlib.pyplot as plt\n",
        "import matplotlib\n",
        "val_num = 1000\n",
        "train_num = 49000\n",
        "test_num = 10000\n",
        "train_data, train_labels, test_data, test_labels,\\\n",
        "    class_names, n_train, n_test, n_class, n_features = select_features(root='./drive/My Drive/Colab Notebooks/Fashion-MNIST/')\n",
        "\n",
        "\n",
        "# Subsample the data\n",
        "mask = range(train_num, n_train)\n",
        "X_val = train_data[mask]\n",
        "y_val = train_labels[mask]\n",
        "mask = range(train_num)\n",
        "X_train = train_data[mask]\n",
        "y_train = train_labels[mask]\n",
        "mask = range(test_num)\n",
        "X_test = test_data[mask]\n",
        "y_test = test_labels[mask]\n",
        "\n",
        "# # Normalize the data: subtract the mean image\n",
        "# mean_image = np.mean(X_train, axis=0)\n",
        "# X_train -= mean_image\n",
        "# X_val -= mean_image\n",
        "# X_test -= mean_image\n",
        "\n",
        "print ('Train data shape: ', X_train.shape)\n",
        "print ('Train labels shape: ', y_train.shape)\n",
        "print ('Validation data shape: ', X_val.shape)\n",
        "print ('Validation labels shape: ', y_val.shape)\n",
        "print ('Test data shape: ', X_test.shape)\n",
        "print ('Test labels shape: ', y_test.shape)"
      ],
      "execution_count": 11,
      "outputs": [
        {
          "output_type": "stream",
          "text": [
            "Train data shape:  (49000, 784)\n",
            "Train labels shape:  (49000,)\n",
            "Validation data shape:  (11000, 784)\n",
            "Validation labels shape:  (11000,)\n",
            "Test data shape:  (10000, 784)\n",
            "Test labels shape:  (10000,)\n"
          ],
          "name": "stdout"
        }
      ]
    },
    {
      "cell_type": "markdown",
      "metadata": {
        "id": "CazLQhqe3Y3h",
        "colab_type": "text"
      },
      "source": [
        "## 1-1-7- Train \n",
        "For training our neural network we will use SGD(Stochastic Gradient descent).The loss of your network must decrease during epochs."
      ]
    },
    {
      "cell_type": "code",
      "metadata": {
        "id": "hSTMM0_n3Y3i",
        "colab_type": "code",
        "outputId": "a392d00c-81bd-4369-aefe-acf3351fc509",
        "colab": {
          "base_uri": "https://localhost:8080/",
          "height": 118
        }
      },
      "source": [
        "input_size = n_features\n",
        "print(input_size)\n",
        "hidden_size = 20\n",
        "num_classes = 10\n",
        "net = MLPNet(input_size, hidden_size, num_classes,std=1e-2)\n",
        "\n",
        "# Train the network\n",
        "stats = net.train(X_train, y_train, X_val, y_val,\n",
        "            num_iters=20, batch_size=50,\n",
        "            learning_rate=1e-4, learning_rate_decay=0.95,\n",
        "            reg=0.5)\n",
        "\n",
        "# Predict on the validation set\n",
        "val_acc = (net.predict(X_val) == y_val).mean()\n",
        "print ('Validation accuracy: ', val_acc)\n"
      ],
      "execution_count": 31,
      "outputs": [
        {
          "output_type": "stream",
          "text": [
            "784\n",
            "iteration 0 / 20: loss 3.420001\n",
            "iteration 5 / 20: loss 2.671587\n",
            "iteration 10 / 20: loss 2.452572\n",
            "iteration 15 / 20: loss 2.330771\n",
            "Validation accuracy:  0.18745454545454546\n"
          ],
          "name": "stdout"
        }
      ]
    },
    {
      "cell_type": "markdown",
      "metadata": {
        "id": "T1C1saqR3Y3n",
        "colab_type": "text"
      },
      "source": [
        "the below plots show loss during epochs and training and validatino accuracy versus epochs. The loss should decreas over time. ***according to second plot what is the best iteration number to terminate training?***"
      ]
    },
    {
      "cell_type": "code",
      "metadata": {
        "id": "F5L9pFTJ3Y3o",
        "colab_type": "code",
        "outputId": "6dca2016-3c19-439a-d42a-4256b513b0ef",
        "colab": {
          "base_uri": "https://localhost:8080/",
          "height": 513
        }
      },
      "source": [
        "# Plot the loss function and train / validation accuracies\n",
        "plt.subplot(2, 1, 1)\n",
        "plt.plot(stats['loss_train'])\n",
        "plt.title('Loss')\n",
        "plt.xlabel('Iteration')\n",
        "plt.ylabel('Loss')\n",
        "\n",
        "plt.subplot(2, 1, 2)\n",
        "plt.plot(stats['train_acc'], label='train')\n",
        "plt.plot(stats['val_acc'], label='val')\n",
        "plt.title('Classification accuracy ')\n",
        "plt.xlabel('Epoch')\n",
        "plt.ylabel('Accuracy')\n",
        "plt.show()"
      ],
      "execution_count": 33,
      "outputs": [
        {
          "output_type": "display_data",
          "data": {
            "image/png": "[encoded data removed]",
            "text/plain": [
              "<Figure size 720x576 with 2 Axes>"
            ]
          },
          "metadata": {
            "tags": []
          }
        }
      ]
    },
    {
      "cell_type": "markdown",
      "metadata": {
        "id": "-gyUoIUr3Y3r",
        "colab_type": "text"
      },
      "source": [
        "## 1-1-8- Tune network's hyperparameters\n",
        "As you know hidden layer size, learning rate and weight regularization are important in developing a neural network so you should tune them and get a better result and report the best hyperparameters."
      ]
    },
    {
      "cell_type": "code",
      "metadata": {
        "id": "C-vkSn_S3Y3s",
        "colab_type": "code",
        "colab": {}
      },
      "source": [
        "def train(num_iters=10, batch_size=10, hidden_size=10, learning_rate=1e-4, reg=0.5) :\n",
        "  input_size = n_features\n",
        "  num_classes = 10\n",
        "  net = MLPNet(input_size, hidden_size, num_classes,std=1e-2)\n",
        "\n",
        "  stats = net.train(X_train, y_train, X_val, y_val,\n",
        "            num_iters=num_iters, batch_size=batch_size,\n",
        "            learning_rate=learning_rate, learning_rate_decay=0.95,\n",
        "            reg=reg)\n",
        "\n",
        "  val_acc = (net.predict(X_val) == y_val).mean()\n",
        "  print ('Validation accuracy: ', val_acc)\n",
        "  return val_acc"
      ],
      "execution_count": 0,
      "outputs": []
    },
    {
      "cell_type": "code",
      "metadata": {
        "id": "v8LFLKKkOqPU",
        "colab_type": "code",
        "outputId": "d8449c85-6c45-4020-fe2e-12ed6b002933",
        "colab": {
          "base_uri": "https://localhost:8080/",
          "height": 487
        }
      },
      "source": [
        "from math import inf\n",
        "\n",
        "accs = [-inf for i in lrs]\n",
        "lrs = [1e-1, 1e-2, 1e-3, 1e-4, 1e-5]\n",
        "index = 0\n",
        "for lr in lrs :\n",
        "  try :\n",
        "    print('learning rate : ', lr)\n",
        "    accs[index] = train(learning_rate=lr)\n",
        "  \n",
        "  except :\n",
        "    pass\n",
        "  index += 1\n",
        "\n",
        "best_lr = lrs[accs.index(max(accs))]\n",
        "print('best learning rate :', best_lr)"
      ],
      "execution_count": 17,
      "outputs": [
        {
          "output_type": "stream",
          "text": [
            "learning rate :  0.1\n",
            "iteration 0 / 10: loss 2.799568\n"
          ],
          "name": "stdout"
        },
        {
          "output_type": "stream",
          "text": [
            "/content/neural_net.py:70: RuntimeWarning: overflow encountered in exp\n",
            "  exp_scores = np.exp(scores)\n",
            "/content/neural_net.py:76: RuntimeWarning: invalid value encountered in double_scalars\n",
            "  return -np.log(exp_scores[i][y[i]]/expSums[i])\n",
            "/content/neural_net.py:76: RuntimeWarning: divide by zero encountered in log\n",
            "  return -np.log(exp_scores[i][y[i]]/expSums[i])\n",
            "/content/neural_net.py:92: RuntimeWarning: overflow encountered in exp\n",
            "  this_exp_scores = np.exp(this_Scores)\n",
            "/content/neural_net.py:94: RuntimeWarning: invalid value encountered in double_scalars\n",
            "  this_sampleLoss = np.array(list(map(lambda i: -np.log(this_exp_scores[i][y[i]]/this_expSum[i]), range(N))))\n",
            "/content/neural_net.py:94: RuntimeWarning: divide by zero encountered in log\n",
            "  this_sampleLoss = np.array(list(map(lambda i: -np.log(this_exp_scores[i][y[i]]/this_expSum[i]), range(N))))\n"
          ],
          "name": "stderr"
        },
        {
          "output_type": "stream",
          "text": [
            "learning rate :  0.01\n",
            "iteration 0 / 10: loss 2.061497\n"
          ],
          "name": "stdout"
        },
        {
          "output_type": "stream",
          "text": [
            "/content/neural_net.py:87: RuntimeWarning: invalid value encountered in double_scalars\n",
            "  return (L(W1+dw1, W2+dw2, b1+db1, b2+db2) - L(W1, W2, b1, b2)) / d\n"
          ],
          "name": "stderr"
        },
        {
          "output_type": "stream",
          "text": [
            "learning rate :  0.001\n",
            "iteration 0 / 10: loss 2.475325\n",
            "Validation accuracy:  0.22618181818181818\n",
            "learning rate :  0.0001\n",
            "iteration 0 / 10: loss 2.568411\n",
            "Validation accuracy:  0.10581818181818183\n",
            "learning rate :  1e-05\n",
            "iteration 0 / 10: loss 2.357948\n",
            "Validation accuracy:  0.09145454545454546\n",
            "best learning rate : 0.001\n"
          ],
          "name": "stdout"
        }
      ]
    },
    {
      "cell_type": "code",
      "metadata": {
        "id": "9Q873NGYO_fR",
        "colab_type": "code",
        "outputId": "da631971-2641-40c8-c31c-34088076a121",
        "colab": {
          "base_uri": "https://localhost:8080/",
          "height": 722
        }
      },
      "source": [
        "accs = [-inf for i in range(10)]\n",
        "index = 0\n",
        "for rg in [i/10 for i in range(10)] :\n",
        "  try:\n",
        "    print('reg : ', rg)\n",
        "    accs[index] = train(learning_rate=best_lr, reg=rg)\n",
        "  \n",
        "  except :\n",
        "    pass\n",
        "  \n",
        "  index += 1\n",
        "\n",
        "best_rg = (accs.index(max(accs))) / 10\n",
        "print('best reg :', best_rg)"
      ],
      "execution_count": 18,
      "outputs": [
        {
          "output_type": "stream",
          "text": [
            "reg :  0.0\n",
            "iteration 0 / 10: loss 2.389048\n",
            "Validation accuracy:  0.10254545454545455\n",
            "reg :  0.1\n",
            "iteration 0 / 10: loss 2.302787\n",
            "Validation accuracy:  0.33954545454545454\n",
            "reg :  0.2\n",
            "iteration 0 / 10: loss 2.384941\n",
            "Validation accuracy:  0.29554545454545456\n",
            "reg :  0.3\n",
            "iteration 0 / 10: loss 4.553141\n"
          ],
          "name": "stdout"
        },
        {
          "output_type": "stream",
          "text": [
            "/content/neural_net.py:70: RuntimeWarning: overflow encountered in exp\n",
            "  exp_scores = np.exp(scores)\n",
            "/content/neural_net.py:76: RuntimeWarning: divide by zero encountered in log\n",
            "  return -np.log(exp_scores[i][y[i]]/expSums[i])\n",
            "/content/neural_net.py:76: RuntimeWarning: invalid value encountered in double_scalars\n",
            "  return -np.log(exp_scores[i][y[i]]/expSums[i])\n",
            "/content/neural_net.py:92: RuntimeWarning: overflow encountered in exp\n",
            "  this_exp_scores = np.exp(this_Scores)\n",
            "/content/neural_net.py:94: RuntimeWarning: divide by zero encountered in log\n",
            "  this_sampleLoss = np.array(list(map(lambda i: -np.log(this_exp_scores[i][y[i]]/this_expSum[i]), range(N))))\n",
            "/content/neural_net.py:94: RuntimeWarning: invalid value encountered in double_scalars\n",
            "  this_sampleLoss = np.array(list(map(lambda i: -np.log(this_exp_scores[i][y[i]]/this_expSum[i]), range(N))))\n"
          ],
          "name": "stderr"
        },
        {
          "output_type": "stream",
          "text": [
            "reg :  0.4\n",
            "iteration 0 / 10: loss 2.858733\n",
            "Validation accuracy:  0.24727272727272728\n",
            "reg :  0.5\n",
            "iteration 0 / 10: loss 2.125504\n",
            "Validation accuracy:  0.09654545454545455\n",
            "reg :  0.6\n",
            "iteration 0 / 10: loss 2.679777\n",
            "Validation accuracy:  0.33\n",
            "reg :  0.7\n",
            "iteration 0 / 10: loss 2.707671\n",
            "Validation accuracy:  0.09981818181818182\n",
            "reg :  0.8\n",
            "iteration 0 / 10: loss 2.538960\n",
            "Validation accuracy:  0.4239090909090909\n",
            "reg :  0.9\n",
            "iteration 0 / 10: loss 3.324409\n",
            "Validation accuracy:  0.1020909090909091\n",
            "best reg : 0.9\n"
          ],
          "name": "stdout"
        }
      ]
    },
    {
      "cell_type": "code",
      "metadata": {
        "id": "7KNi50LBO_52",
        "colab_type": "code",
        "outputId": "3b9df7e4-d582-4b5e-a55c-80b0e17c4d19",
        "colab": {
          "base_uri": "https://localhost:8080/",
          "height": 1000
        }
      },
      "source": [
        "accs = [-inf for i in range(41)]\n",
        "index = 0\n",
        "for hs in range(40+1) :\n",
        "  try :\n",
        "    print('hidden size : ', hs)\n",
        "    accs[index] = train(learning_rate=best_lr, reg=best_rg, hidden_size=hs)\n",
        "\n",
        "  except :\n",
        "    pass\n",
        "  index += 1\n",
        "  \n",
        "best_hs = accs.index(max(accs))\n",
        "print('best hidden size :', best_hs)"
      ],
      "execution_count": 23,
      "outputs": [
        {
          "output_type": "stream",
          "text": [
            "hidden size :  0\n",
            "iteration 0 / 10: loss 2.302585\n",
            "Validation accuracy:  0.10245454545454545\n",
            "hidden size :  1\n",
            "iteration 0 / 10: loss 2.418269\n",
            "Validation accuracy:  0.1821818181818182\n",
            "hidden size :  2\n",
            "iteration 0 / 10: loss 2.470045\n",
            "Validation accuracy:  0.2509090909090909\n",
            "hidden size :  3\n",
            "iteration 0 / 10: loss 2.491965\n",
            "Validation accuracy:  0.3246363636363636\n",
            "hidden size :  4\n",
            "iteration 0 / 10: loss 2.459642\n",
            "Validation accuracy:  0.22172727272727272\n",
            "hidden size :  5\n",
            "iteration 0 / 10: loss 2.309104\n",
            "Validation accuracy:  0.2569090909090909\n",
            "hidden size :  6\n",
            "iteration 0 / 10: loss 2.614935\n",
            "Validation accuracy:  0.3277272727272727\n",
            "hidden size :  7\n",
            "iteration 0 / 10: loss 2.749787\n",
            "Validation accuracy:  0.09972727272727273\n",
            "hidden size :  8\n",
            "iteration 0 / 10: loss 2.481297\n",
            "Validation accuracy:  0.097\n",
            "hidden size :  9\n",
            "iteration 0 / 10: loss 2.749597\n",
            "Validation accuracy:  0.3322727272727273\n",
            "hidden size :  10\n",
            "iteration 0 / 10: loss 2.720680\n",
            "Validation accuracy:  0.22427272727272726\n",
            "hidden size :  11\n",
            "iteration 0 / 10: loss 2.595238\n",
            "Validation accuracy:  0.34445454545454546\n",
            "hidden size :  12\n",
            "iteration 0 / 10: loss 2.759999\n",
            "Validation accuracy:  0.12236363636363637\n",
            "hidden size :  13\n",
            "iteration 0 / 10: loss 2.660466\n",
            "Validation accuracy:  0.1410909090909091\n",
            "hidden size :  14\n",
            "iteration 0 / 10: loss 3.080034\n",
            "Validation accuracy:  0.17036363636363636\n",
            "hidden size :  15\n",
            "iteration 0 / 10: loss 2.444031\n",
            "Validation accuracy:  0.0969090909090909\n",
            "hidden size :  16\n",
            "iteration 0 / 10: loss 2.390902\n",
            "Validation accuracy:  0.2649090909090909\n",
            "hidden size :  17\n",
            "iteration 0 / 10: loss 2.587097\n",
            "Validation accuracy:  0.118\n",
            "hidden size :  18\n",
            "iteration 0 / 10: loss 3.348223\n"
          ],
          "name": "stdout"
        },
        {
          "output_type": "stream",
          "text": [
            "/content/neural_net.py:70: RuntimeWarning: overflow encountered in exp\n",
            "  exp_scores = np.exp(scores)\n",
            "/content/neural_net.py:76: RuntimeWarning: divide by zero encountered in log\n",
            "  return -np.log(exp_scores[i][y[i]]/expSums[i])\n",
            "/content/neural_net.py:76: RuntimeWarning: invalid value encountered in double_scalars\n",
            "  return -np.log(exp_scores[i][y[i]]/expSums[i])\n",
            "/content/neural_net.py:92: RuntimeWarning: overflow encountered in exp\n",
            "  this_exp_scores = np.exp(this_Scores)\n",
            "/content/neural_net.py:94: RuntimeWarning: divide by zero encountered in log\n",
            "  this_sampleLoss = np.array(list(map(lambda i: -np.log(this_exp_scores[i][y[i]]/this_expSum[i]), range(N))))\n",
            "/content/neural_net.py:94: RuntimeWarning: invalid value encountered in double_scalars\n",
            "  this_sampleLoss = np.array(list(map(lambda i: -np.log(this_exp_scores[i][y[i]]/this_expSum[i]), range(N))))\n"
          ],
          "name": "stderr"
        },
        {
          "output_type": "stream",
          "text": [
            "hidden size :  19\n",
            "iteration 0 / 10: loss 3.198573\n",
            "Validation accuracy:  0.0959090909090909\n",
            "hidden size :  20\n",
            "iteration 0 / 10: loss 4.160770\n"
          ],
          "name": "stdout"
        },
        {
          "output_type": "stream",
          "text": [
            "/content/neural_net.py:87: RuntimeWarning: invalid value encountered in double_scalars\n",
            "  return (L(W1+dw1, W2+dw2, b1+db1, b2+db2) - L(W1, W2, b1, b2)) / d\n"
          ],
          "name": "stderr"
        },
        {
          "output_type": "stream",
          "text": [
            "hidden size :  21\n",
            "iteration 0 / 10: loss 2.481896\n",
            "Validation accuracy:  0.1859090909090909\n",
            "hidden size :  22\n",
            "iteration 0 / 10: loss 2.910534\n",
            "hidden size :  23\n",
            "iteration 0 / 10: loss 4.142318\n",
            "Validation accuracy:  0.10809090909090908\n",
            "hidden size :  24\n",
            "iteration 0 / 10: loss 3.478372\n",
            "Validation accuracy:  0.1660909090909091\n",
            "hidden size :  25\n",
            "iteration 0 / 10: loss 3.087664\n",
            "Validation accuracy:  0.10245454545454545\n",
            "hidden size :  26\n",
            "iteration 0 / 10: loss 2.484851\n",
            "hidden size :  27\n",
            "iteration 0 / 10: loss 3.547260\n",
            "Validation accuracy:  0.10227272727272728\n",
            "hidden size :  28\n",
            "iteration 0 / 10: loss 3.393141\n",
            "Validation accuracy:  0.097\n",
            "hidden size :  29\n",
            "iteration 0 / 10: loss 3.387115\n",
            "hidden size :  30\n",
            "iteration 0 / 10: loss 4.318133\n",
            "hidden size :  31\n",
            "iteration 0 / 10: loss 3.605383\n",
            "hidden size :  32\n",
            "iteration 0 / 10: loss 3.236794\n",
            "Validation accuracy:  0.15581818181818183\n",
            "hidden size :  33\n",
            "iteration 0 / 10: loss 3.661645\n",
            "Validation accuracy:  0.15245454545454545\n",
            "hidden size :  34\n",
            "iteration 0 / 10: loss 4.170892\n",
            "Validation accuracy:  0.15145454545454545\n",
            "hidden size :  35\n",
            "iteration 0 / 10: loss 5.196069\n",
            "hidden size :  36\n",
            "iteration 0 / 10: loss 4.687842\n",
            "hidden size :  37\n",
            "iteration 0 / 10: loss 2.549348\n",
            "Validation accuracy:  0.10245454545454545\n",
            "hidden size :  38\n",
            "iteration 0 / 10: loss 3.565936\n",
            "hidden size :  39\n",
            "iteration 0 / 10: loss 3.531796\n",
            "Validation accuracy:  0.10245454545454545\n",
            "hidden size :  40\n",
            "iteration 0 / 10: loss 3.390189\n",
            "best hidden size : 11\n"
          ],
          "name": "stdout"
        }
      ]
    },
    {
      "cell_type": "code",
      "metadata": {
        "id": "Z7HzQLiXmQ4t",
        "colab_type": "code",
        "colab": {
          "base_uri": "https://localhost:8080/",
          "height": 50
        },
        "outputId": "e139555e-6faf-4e3d-9797-ef43bdf7e655"
      },
      "source": [
        "best_net = MLPNet(input_size, best_hs, num_classes,std=1e-2)\n",
        "stats = best_net.train(X_train, y_train, X_val, y_val,\n",
        "            num_iters=200, batch_size=50,\n",
        "            learning_rate=best_lr, learning_rate_decay=0.95,\n",
        "            reg=best_rg)"
      ],
      "execution_count": 24,
      "outputs": [
        {
          "output_type": "stream",
          "text": [
            "iteration 0 / 200: loss 2.873100\n",
            "iteration 100 / 200: loss 0.823633\n"
          ],
          "name": "stdout"
        }
      ]
    },
    {
      "cell_type": "markdown",
      "metadata": {
        "id": "Upob6dRl3Y3w",
        "colab_type": "text"
      },
      "source": [
        "## 1-1-9- Test\n",
        "Now you find the best hyperparameters, Let's test your network on test dataset and evaluate your accuracy.\n",
        "**our baseline is 47% and for each 1% you get 1 extra bonus point**"
      ]
    },
    {
      "cell_type": "code",
      "metadata": {
        "id": "73PZxyCf3Y3x",
        "colab_type": "code",
        "colab": {
          "base_uri": "https://localhost:8080/",
          "height": 34
        },
        "outputId": "cd01bc2c-29d5-47ff-f17b-c3943214a5ed"
      },
      "source": [
        "test_acc = (best_net.predict(X_test) == y_test).mean()\n",
        "print ('Test accuracy: ', test_acc)"
      ],
      "execution_count": 25,
      "outputs": [
        {
          "output_type": "stream",
          "text": [
            "Test accuracy:  0.696\n"
          ],
          "name": "stdout"
        }
      ]
    },
    {
      "cell_type": "markdown",
      "metadata": {
        "id": "UWMgbI-Y3Y31",
        "colab_type": "text"
      },
      "source": [
        "## 1-2-1- Scikit-learn without normalization\n",
        "In this section you become familiar with Scikit-learn and implement an MLP network with that. Find the best parameters for best accuracy"
      ]
    },
    {
      "cell_type": "code",
      "metadata": {
        "id": "-fSIplnk3Y32",
        "colab_type": "code",
        "colab": {}
      },
      "source": [
        "import numpy as np\n",
        "from sklearn.neural_network import MLPClassifier\n",
        "from sklearn.metrics import accuracy_score\n",
        "\n",
        "def sktrain(num_iters=10, hidden_size=10, learning_rate=1e-4, reg=0.5) :\n",
        "  clf = MLPClassifier(learning_rate_init=learning_rate, max_iter=num_iters, hidden_layer_sizes=(hidden_size,), alpha=reg)\n",
        "  clf.fit(X_train, y_train)\n",
        "  accuracyScore = accuracy_score(y_val, clf.predict(X_val))\n",
        "  print(\"accuracy_score : \", accuracyScore)\n",
        "  return accuracyScore"
      ],
      "execution_count": 0,
      "outputs": []
    },
    {
      "cell_type": "code",
      "metadata": {
        "id": "GY3ilYlvwcrz",
        "colab_type": "code",
        "colab": {
          "base_uri": "https://localhost:8080/",
          "height": 390
        },
        "outputId": "ed378b63-333b-430d-def9-305e5fd1d7da"
      },
      "source": [
        "from math import inf\n",
        "\n",
        "lrs = [1e-1, 1e-2, 1e-3, 1e-4, 1e-5]\n",
        "accs = [-inf for i in lrs]\n",
        "index = 0\n",
        "for lr in lrs :\n",
        "  try :\n",
        "    print('learning rate : ', lr)\n",
        "    accs[index] = sktrain(learning_rate=lr)\n",
        "  \n",
        "  except :\n",
        "    pass\n",
        "  index += 1\n",
        "\n",
        "best_lr = lrs[accs.index(max(accs))]\n",
        "print('best learning rate :', best_lr)"
      ],
      "execution_count": 14,
      "outputs": [
        {
          "output_type": "stream",
          "text": [
            "learning rate :  0.1\n"
          ],
          "name": "stdout"
        },
        {
          "output_type": "stream",
          "text": [
            "/usr/local/lib/python3.6/dist-packages/sklearn/neural_network/multilayer_perceptron.py:566: ConvergenceWarning: Stochastic Optimizer: Maximum iterations (10) reached and the optimization hasn't converged yet.\n",
            "  % self.max_iter, ConvergenceWarning)\n"
          ],
          "name": "stderr"
        },
        {
          "output_type": "stream",
          "text": [
            "accuracy_score :  0.10245454545454545\n",
            "learning rate :  0.01\n"
          ],
          "name": "stdout"
        },
        {
          "output_type": "stream",
          "text": [
            "/usr/local/lib/python3.6/dist-packages/sklearn/neural_network/multilayer_perceptron.py:566: ConvergenceWarning: Stochastic Optimizer: Maximum iterations (10) reached and the optimization hasn't converged yet.\n",
            "  % self.max_iter, ConvergenceWarning)\n"
          ],
          "name": "stderr"
        },
        {
          "output_type": "stream",
          "text": [
            "accuracy_score :  0.09654545454545455\n",
            "learning rate :  0.001\n"
          ],
          "name": "stdout"
        },
        {
          "output_type": "stream",
          "text": [
            "/usr/local/lib/python3.6/dist-packages/sklearn/neural_network/multilayer_perceptron.py:566: ConvergenceWarning: Stochastic Optimizer: Maximum iterations (10) reached and the optimization hasn't converged yet.\n",
            "  % self.max_iter, ConvergenceWarning)\n"
          ],
          "name": "stderr"
        },
        {
          "output_type": "stream",
          "text": [
            "accuracy_score :  0.4318181818181818\n",
            "learning rate :  0.0001\n"
          ],
          "name": "stdout"
        },
        {
          "output_type": "stream",
          "text": [
            "/usr/local/lib/python3.6/dist-packages/sklearn/neural_network/multilayer_perceptron.py:566: ConvergenceWarning: Stochastic Optimizer: Maximum iterations (10) reached and the optimization hasn't converged yet.\n",
            "  % self.max_iter, ConvergenceWarning)\n"
          ],
          "name": "stderr"
        },
        {
          "output_type": "stream",
          "text": [
            "accuracy_score :  0.19863636363636364\n",
            "learning rate :  1e-05\n",
            "accuracy_score :  0.14672727272727273\n",
            "best learning rate : 0.001\n"
          ],
          "name": "stdout"
        },
        {
          "output_type": "stream",
          "text": [
            "/usr/local/lib/python3.6/dist-packages/sklearn/neural_network/multilayer_perceptron.py:566: ConvergenceWarning: Stochastic Optimizer: Maximum iterations (10) reached and the optimization hasn't converged yet.\n",
            "  % self.max_iter, ConvergenceWarning)\n"
          ],
          "name": "stderr"
        }
      ]
    },
    {
      "cell_type": "code",
      "metadata": {
        "id": "5Wmir0Q_wpyv",
        "colab_type": "code",
        "colab": {
          "base_uri": "https://localhost:8080/",
          "height": 726
        },
        "outputId": "494183a4-97fa-4c63-e043-7bd113332f96"
      },
      "source": [
        "accs = [-inf for i in range(10)]\n",
        "index = 0\n",
        "for rg in [i/10 for i in range(10)] :\n",
        "  try:\n",
        "    print('reg : ', rg)\n",
        "    accs[index] = sktrain(learning_rate=best_lr, reg=rg)\n",
        "  \n",
        "  except :\n",
        "    pass\n",
        "  \n",
        "  index += 1\n",
        "\n",
        "best_rg = (accs.index(max(accs))) / 10\n",
        "print('best reg :', best_rg)"
      ],
      "execution_count": 15,
      "outputs": [
        {
          "output_type": "stream",
          "text": [
            "reg :  0.0\n"
          ],
          "name": "stdout"
        },
        {
          "output_type": "stream",
          "text": [
            "/usr/local/lib/python3.6/dist-packages/sklearn/neural_network/multilayer_perceptron.py:566: ConvergenceWarning: Stochastic Optimizer: Maximum iterations (10) reached and the optimization hasn't converged yet.\n",
            "  % self.max_iter, ConvergenceWarning)\n"
          ],
          "name": "stderr"
        },
        {
          "output_type": "stream",
          "text": [
            "accuracy_score :  0.352\n",
            "reg :  0.1\n"
          ],
          "name": "stdout"
        },
        {
          "output_type": "stream",
          "text": [
            "/usr/local/lib/python3.6/dist-packages/sklearn/neural_network/multilayer_perceptron.py:566: ConvergenceWarning: Stochastic Optimizer: Maximum iterations (10) reached and the optimization hasn't converged yet.\n",
            "  % self.max_iter, ConvergenceWarning)\n"
          ],
          "name": "stderr"
        },
        {
          "output_type": "stream",
          "text": [
            "accuracy_score :  0.23154545454545455\n",
            "reg :  0.2\n"
          ],
          "name": "stdout"
        },
        {
          "output_type": "stream",
          "text": [
            "/usr/local/lib/python3.6/dist-packages/sklearn/neural_network/multilayer_perceptron.py:566: ConvergenceWarning: Stochastic Optimizer: Maximum iterations (10) reached and the optimization hasn't converged yet.\n",
            "  % self.max_iter, ConvergenceWarning)\n"
          ],
          "name": "stderr"
        },
        {
          "output_type": "stream",
          "text": [
            "accuracy_score :  0.24854545454545454\n",
            "reg :  0.3\n"
          ],
          "name": "stdout"
        },
        {
          "output_type": "stream",
          "text": [
            "/usr/local/lib/python3.6/dist-packages/sklearn/neural_network/multilayer_perceptron.py:566: ConvergenceWarning: Stochastic Optimizer: Maximum iterations (10) reached and the optimization hasn't converged yet.\n",
            "  % self.max_iter, ConvergenceWarning)\n"
          ],
          "name": "stderr"
        },
        {
          "output_type": "stream",
          "text": [
            "accuracy_score :  0.4359090909090909\n",
            "reg :  0.4\n"
          ],
          "name": "stdout"
        },
        {
          "output_type": "stream",
          "text": [
            "/usr/local/lib/python3.6/dist-packages/sklearn/neural_network/multilayer_perceptron.py:566: ConvergenceWarning: Stochastic Optimizer: Maximum iterations (10) reached and the optimization hasn't converged yet.\n",
            "  % self.max_iter, ConvergenceWarning)\n"
          ],
          "name": "stderr"
        },
        {
          "output_type": "stream",
          "text": [
            "accuracy_score :  0.3286363636363636\n",
            "reg :  0.5\n"
          ],
          "name": "stdout"
        },
        {
          "output_type": "stream",
          "text": [
            "/usr/local/lib/python3.6/dist-packages/sklearn/neural_network/multilayer_perceptron.py:566: ConvergenceWarning: Stochastic Optimizer: Maximum iterations (10) reached and the optimization hasn't converged yet.\n",
            "  % self.max_iter, ConvergenceWarning)\n"
          ],
          "name": "stderr"
        },
        {
          "output_type": "stream",
          "text": [
            "accuracy_score :  0.41454545454545455\n",
            "reg :  0.6\n"
          ],
          "name": "stdout"
        },
        {
          "output_type": "stream",
          "text": [
            "/usr/local/lib/python3.6/dist-packages/sklearn/neural_network/multilayer_perceptron.py:566: ConvergenceWarning: Stochastic Optimizer: Maximum iterations (10) reached and the optimization hasn't converged yet.\n",
            "  % self.max_iter, ConvergenceWarning)\n"
          ],
          "name": "stderr"
        },
        {
          "output_type": "stream",
          "text": [
            "accuracy_score :  0.2081818181818182\n",
            "reg :  0.7\n"
          ],
          "name": "stdout"
        },
        {
          "output_type": "stream",
          "text": [
            "/usr/local/lib/python3.6/dist-packages/sklearn/neural_network/multilayer_perceptron.py:566: ConvergenceWarning: Stochastic Optimizer: Maximum iterations (10) reached and the optimization hasn't converged yet.\n",
            "  % self.max_iter, ConvergenceWarning)\n"
          ],
          "name": "stderr"
        },
        {
          "output_type": "stream",
          "text": [
            "accuracy_score :  0.397\n",
            "reg :  0.8\n"
          ],
          "name": "stdout"
        },
        {
          "output_type": "stream",
          "text": [
            "/usr/local/lib/python3.6/dist-packages/sklearn/neural_network/multilayer_perceptron.py:566: ConvergenceWarning: Stochastic Optimizer: Maximum iterations (10) reached and the optimization hasn't converged yet.\n",
            "  % self.max_iter, ConvergenceWarning)\n"
          ],
          "name": "stderr"
        },
        {
          "output_type": "stream",
          "text": [
            "accuracy_score :  0.23172727272727273\n",
            "reg :  0.9\n",
            "accuracy_score :  0.10081818181818182\n",
            "best reg : 0.3\n"
          ],
          "name": "stdout"
        },
        {
          "output_type": "stream",
          "text": [
            "/usr/local/lib/python3.6/dist-packages/sklearn/neural_network/multilayer_perceptron.py:566: ConvergenceWarning: Stochastic Optimizer: Maximum iterations (10) reached and the optimization hasn't converged yet.\n",
            "  % self.max_iter, ConvergenceWarning)\n"
          ],
          "name": "stderr"
        }
      ]
    },
    {
      "cell_type": "code",
      "metadata": {
        "id": "LPKjfH73wsO8",
        "colab_type": "code",
        "colab": {
          "base_uri": "https://localhost:8080/",
          "height": 1000
        },
        "outputId": "4a6c58b0-7059-4357-8a5c-efe1d1ac7d8a"
      },
      "source": [
        "accs = [-inf for i in range(41)]\n",
        "index = 0\n",
        "for hs in range(40+1) :\n",
        "  try :\n",
        "    print('hidden size : ', hs)\n",
        "    accs[index] = sktrain(learning_rate=best_lr, reg=best_rg, hidden_size=hs)\n",
        "\n",
        "  except :\n",
        "    pass\n",
        "  index += 1\n",
        "  \n",
        "best_hs = accs.index(max(accs))\n",
        "print('best hidden size :', best_hs)"
      ],
      "execution_count": 16,
      "outputs": [
        {
          "output_type": "stream",
          "text": [
            "hidden size :  0\n",
            "hidden size :  1\n"
          ],
          "name": "stdout"
        },
        {
          "output_type": "stream",
          "text": [
            "/usr/local/lib/python3.6/dist-packages/sklearn/neural_network/multilayer_perceptron.py:566: ConvergenceWarning: Stochastic Optimizer: Maximum iterations (10) reached and the optimization hasn't converged yet.\n",
            "  % self.max_iter, ConvergenceWarning)\n"
          ],
          "name": "stderr"
        },
        {
          "output_type": "stream",
          "text": [
            "accuracy_score :  0.09654545454545455\n",
            "hidden size :  2\n"
          ],
          "name": "stdout"
        },
        {
          "output_type": "stream",
          "text": [
            "/usr/local/lib/python3.6/dist-packages/sklearn/neural_network/multilayer_perceptron.py:566: ConvergenceWarning: Stochastic Optimizer: Maximum iterations (10) reached and the optimization hasn't converged yet.\n",
            "  % self.max_iter, ConvergenceWarning)\n"
          ],
          "name": "stderr"
        },
        {
          "output_type": "stream",
          "text": [
            "accuracy_score :  0.09663636363636363\n",
            "hidden size :  3\n"
          ],
          "name": "stdout"
        },
        {
          "output_type": "stream",
          "text": [
            "/usr/local/lib/python3.6/dist-packages/sklearn/neural_network/multilayer_perceptron.py:566: ConvergenceWarning: Stochastic Optimizer: Maximum iterations (10) reached and the optimization hasn't converged yet.\n",
            "  % self.max_iter, ConvergenceWarning)\n"
          ],
          "name": "stderr"
        },
        {
          "output_type": "stream",
          "text": [
            "accuracy_score :  0.09663636363636363\n",
            "hidden size :  4\n"
          ],
          "name": "stdout"
        },
        {
          "output_type": "stream",
          "text": [
            "/usr/local/lib/python3.6/dist-packages/sklearn/neural_network/multilayer_perceptron.py:566: ConvergenceWarning: Stochastic Optimizer: Maximum iterations (10) reached and the optimization hasn't converged yet.\n",
            "  % self.max_iter, ConvergenceWarning)\n"
          ],
          "name": "stderr"
        },
        {
          "output_type": "stream",
          "text": [
            "accuracy_score :  0.09654545454545455\n",
            "hidden size :  5\n"
          ],
          "name": "stdout"
        },
        {
          "output_type": "stream",
          "text": [
            "/usr/local/lib/python3.6/dist-packages/sklearn/neural_network/multilayer_perceptron.py:566: ConvergenceWarning: Stochastic Optimizer: Maximum iterations (10) reached and the optimization hasn't converged yet.\n",
            "  % self.max_iter, ConvergenceWarning)\n"
          ],
          "name": "stderr"
        },
        {
          "output_type": "stream",
          "text": [
            "accuracy_score :  0.09672727272727273\n",
            "hidden size :  6\n"
          ],
          "name": "stdout"
        },
        {
          "output_type": "stream",
          "text": [
            "/usr/local/lib/python3.6/dist-packages/sklearn/neural_network/multilayer_perceptron.py:566: ConvergenceWarning: Stochastic Optimizer: Maximum iterations (10) reached and the optimization hasn't converged yet.\n",
            "  % self.max_iter, ConvergenceWarning)\n"
          ],
          "name": "stderr"
        },
        {
          "output_type": "stream",
          "text": [
            "accuracy_score :  0.18981818181818183\n",
            "hidden size :  7\n"
          ],
          "name": "stdout"
        },
        {
          "output_type": "stream",
          "text": [
            "/usr/local/lib/python3.6/dist-packages/sklearn/neural_network/multilayer_perceptron.py:566: ConvergenceWarning: Stochastic Optimizer: Maximum iterations (10) reached and the optimization hasn't converged yet.\n",
            "  % self.max_iter, ConvergenceWarning)\n"
          ],
          "name": "stderr"
        },
        {
          "output_type": "stream",
          "text": [
            "accuracy_score :  0.0969090909090909\n",
            "hidden size :  8\n"
          ],
          "name": "stdout"
        },
        {
          "output_type": "stream",
          "text": [
            "/usr/local/lib/python3.6/dist-packages/sklearn/neural_network/multilayer_perceptron.py:566: ConvergenceWarning: Stochastic Optimizer: Maximum iterations (10) reached and the optimization hasn't converged yet.\n",
            "  % self.max_iter, ConvergenceWarning)\n"
          ],
          "name": "stderr"
        },
        {
          "output_type": "stream",
          "text": [
            "accuracy_score :  0.25727272727272726\n",
            "hidden size :  9\n"
          ],
          "name": "stdout"
        },
        {
          "output_type": "stream",
          "text": [
            "/usr/local/lib/python3.6/dist-packages/sklearn/neural_network/multilayer_perceptron.py:566: ConvergenceWarning: Stochastic Optimizer: Maximum iterations (10) reached and the optimization hasn't converged yet.\n",
            "  % self.max_iter, ConvergenceWarning)\n"
          ],
          "name": "stderr"
        },
        {
          "output_type": "stream",
          "text": [
            "accuracy_score :  0.38745454545454544\n",
            "hidden size :  10\n"
          ],
          "name": "stdout"
        },
        {
          "output_type": "stream",
          "text": [
            "/usr/local/lib/python3.6/dist-packages/sklearn/neural_network/multilayer_perceptron.py:566: ConvergenceWarning: Stochastic Optimizer: Maximum iterations (10) reached and the optimization hasn't converged yet.\n",
            "  % self.max_iter, ConvergenceWarning)\n"
          ],
          "name": "stderr"
        },
        {
          "output_type": "stream",
          "text": [
            "accuracy_score :  0.3542727272727273\n",
            "hidden size :  11\n"
          ],
          "name": "stdout"
        },
        {
          "output_type": "stream",
          "text": [
            "/usr/local/lib/python3.6/dist-packages/sklearn/neural_network/multilayer_perceptron.py:566: ConvergenceWarning: Stochastic Optimizer: Maximum iterations (10) reached and the optimization hasn't converged yet.\n",
            "  % self.max_iter, ConvergenceWarning)\n"
          ],
          "name": "stderr"
        },
        {
          "output_type": "stream",
          "text": [
            "accuracy_score :  0.09663636363636363\n",
            "hidden size :  12\n"
          ],
          "name": "stdout"
        },
        {
          "output_type": "stream",
          "text": [
            "/usr/local/lib/python3.6/dist-packages/sklearn/neural_network/multilayer_perceptron.py:566: ConvergenceWarning: Stochastic Optimizer: Maximum iterations (10) reached and the optimization hasn't converged yet.\n",
            "  % self.max_iter, ConvergenceWarning)\n"
          ],
          "name": "stderr"
        },
        {
          "output_type": "stream",
          "text": [
            "accuracy_score :  0.3599090909090909\n",
            "hidden size :  13\n"
          ],
          "name": "stdout"
        },
        {
          "output_type": "stream",
          "text": [
            "/usr/local/lib/python3.6/dist-packages/sklearn/neural_network/multilayer_perceptron.py:566: ConvergenceWarning: Stochastic Optimizer: Maximum iterations (10) reached and the optimization hasn't converged yet.\n",
            "  % self.max_iter, ConvergenceWarning)\n"
          ],
          "name": "stderr"
        },
        {
          "output_type": "stream",
          "text": [
            "accuracy_score :  0.5412727272727272\n",
            "hidden size :  14\n"
          ],
          "name": "stdout"
        },
        {
          "output_type": "stream",
          "text": [
            "/usr/local/lib/python3.6/dist-packages/sklearn/neural_network/multilayer_perceptron.py:566: ConvergenceWarning: Stochastic Optimizer: Maximum iterations (10) reached and the optimization hasn't converged yet.\n",
            "  % self.max_iter, ConvergenceWarning)\n"
          ],
          "name": "stderr"
        },
        {
          "output_type": "stream",
          "text": [
            "accuracy_score :  0.2381818181818182\n",
            "hidden size :  15\n"
          ],
          "name": "stdout"
        },
        {
          "output_type": "stream",
          "text": [
            "/usr/local/lib/python3.6/dist-packages/sklearn/neural_network/multilayer_perceptron.py:566: ConvergenceWarning: Stochastic Optimizer: Maximum iterations (10) reached and the optimization hasn't converged yet.\n",
            "  % self.max_iter, ConvergenceWarning)\n"
          ],
          "name": "stderr"
        },
        {
          "output_type": "stream",
          "text": [
            "accuracy_score :  0.42872727272727273\n",
            "hidden size :  16\n"
          ],
          "name": "stdout"
        },
        {
          "output_type": "stream",
          "text": [
            "/usr/local/lib/python3.6/dist-packages/sklearn/neural_network/multilayer_perceptron.py:566: ConvergenceWarning: Stochastic Optimizer: Maximum iterations (10) reached and the optimization hasn't converged yet.\n",
            "  % self.max_iter, ConvergenceWarning)\n"
          ],
          "name": "stderr"
        },
        {
          "output_type": "stream",
          "text": [
            "accuracy_score :  0.5778181818181818\n",
            "hidden size :  17\n"
          ],
          "name": "stdout"
        },
        {
          "output_type": "stream",
          "text": [
            "/usr/local/lib/python3.6/dist-packages/sklearn/neural_network/multilayer_perceptron.py:566: ConvergenceWarning: Stochastic Optimizer: Maximum iterations (10) reached and the optimization hasn't converged yet.\n",
            "  % self.max_iter, ConvergenceWarning)\n"
          ],
          "name": "stderr"
        },
        {
          "output_type": "stream",
          "text": [
            "accuracy_score :  0.49218181818181816\n",
            "hidden size :  18\n"
          ],
          "name": "stdout"
        },
        {
          "output_type": "stream",
          "text": [
            "/usr/local/lib/python3.6/dist-packages/sklearn/neural_network/multilayer_perceptron.py:566: ConvergenceWarning: Stochastic Optimizer: Maximum iterations (10) reached and the optimization hasn't converged yet.\n",
            "  % self.max_iter, ConvergenceWarning)\n"
          ],
          "name": "stderr"
        },
        {
          "output_type": "stream",
          "text": [
            "accuracy_score :  0.5601818181818182\n",
            "hidden size :  19\n"
          ],
          "name": "stdout"
        },
        {
          "output_type": "stream",
          "text": [
            "/usr/local/lib/python3.6/dist-packages/sklearn/neural_network/multilayer_perceptron.py:566: ConvergenceWarning: Stochastic Optimizer: Maximum iterations (10) reached and the optimization hasn't converged yet.\n",
            "  % self.max_iter, ConvergenceWarning)\n"
          ],
          "name": "stderr"
        },
        {
          "output_type": "stream",
          "text": [
            "accuracy_score :  0.5602727272727273\n",
            "hidden size :  20\n"
          ],
          "name": "stdout"
        },
        {
          "output_type": "stream",
          "text": [
            "/usr/local/lib/python3.6/dist-packages/sklearn/neural_network/multilayer_perceptron.py:566: ConvergenceWarning: Stochastic Optimizer: Maximum iterations (10) reached and the optimization hasn't converged yet.\n",
            "  % self.max_iter, ConvergenceWarning)\n"
          ],
          "name": "stderr"
        },
        {
          "output_type": "stream",
          "text": [
            "accuracy_score :  0.3522727272727273\n",
            "hidden size :  21\n"
          ],
          "name": "stdout"
        },
        {
          "output_type": "stream",
          "text": [
            "/usr/local/lib/python3.6/dist-packages/sklearn/neural_network/multilayer_perceptron.py:566: ConvergenceWarning: Stochastic Optimizer: Maximum iterations (10) reached and the optimization hasn't converged yet.\n",
            "  % self.max_iter, ConvergenceWarning)\n"
          ],
          "name": "stderr"
        },
        {
          "output_type": "stream",
          "text": [
            "accuracy_score :  0.6644545454545454\n",
            "hidden size :  22\n"
          ],
          "name": "stdout"
        },
        {
          "output_type": "stream",
          "text": [
            "/usr/local/lib/python3.6/dist-packages/sklearn/neural_network/multilayer_perceptron.py:566: ConvergenceWarning: Stochastic Optimizer: Maximum iterations (10) reached and the optimization hasn't converged yet.\n",
            "  % self.max_iter, ConvergenceWarning)\n"
          ],
          "name": "stderr"
        },
        {
          "output_type": "stream",
          "text": [
            "accuracy_score :  0.49827272727272726\n",
            "hidden size :  23\n"
          ],
          "name": "stdout"
        },
        {
          "output_type": "stream",
          "text": [
            "/usr/local/lib/python3.6/dist-packages/sklearn/neural_network/multilayer_perceptron.py:566: ConvergenceWarning: Stochastic Optimizer: Maximum iterations (10) reached and the optimization hasn't converged yet.\n",
            "  % self.max_iter, ConvergenceWarning)\n"
          ],
          "name": "stderr"
        },
        {
          "output_type": "stream",
          "text": [
            "accuracy_score :  0.5743636363636364\n",
            "hidden size :  24\n"
          ],
          "name": "stdout"
        },
        {
          "output_type": "stream",
          "text": [
            "/usr/local/lib/python3.6/dist-packages/sklearn/neural_network/multilayer_perceptron.py:566: ConvergenceWarning: Stochastic Optimizer: Maximum iterations (10) reached and the optimization hasn't converged yet.\n",
            "  % self.max_iter, ConvergenceWarning)\n"
          ],
          "name": "stderr"
        },
        {
          "output_type": "stream",
          "text": [
            "accuracy_score :  0.35845454545454547\n",
            "hidden size :  25\n"
          ],
          "name": "stdout"
        },
        {
          "output_type": "stream",
          "text": [
            "/usr/local/lib/python3.6/dist-packages/sklearn/neural_network/multilayer_perceptron.py:566: ConvergenceWarning: Stochastic Optimizer: Maximum iterations (10) reached and the optimization hasn't converged yet.\n",
            "  % self.max_iter, ConvergenceWarning)\n"
          ],
          "name": "stderr"
        },
        {
          "output_type": "stream",
          "text": [
            "accuracy_score :  0.6195454545454545\n",
            "hidden size :  26\n"
          ],
          "name": "stdout"
        },
        {
          "output_type": "stream",
          "text": [
            "/usr/local/lib/python3.6/dist-packages/sklearn/neural_network/multilayer_perceptron.py:566: ConvergenceWarning: Stochastic Optimizer: Maximum iterations (10) reached and the optimization hasn't converged yet.\n",
            "  % self.max_iter, ConvergenceWarning)\n"
          ],
          "name": "stderr"
        },
        {
          "output_type": "stream",
          "text": [
            "accuracy_score :  0.7189090909090909\n",
            "hidden size :  27\n"
          ],
          "name": "stdout"
        },
        {
          "output_type": "stream",
          "text": [
            "/usr/local/lib/python3.6/dist-packages/sklearn/neural_network/multilayer_perceptron.py:566: ConvergenceWarning: Stochastic Optimizer: Maximum iterations (10) reached and the optimization hasn't converged yet.\n",
            "  % self.max_iter, ConvergenceWarning)\n"
          ],
          "name": "stderr"
        },
        {
          "output_type": "stream",
          "text": [
            "accuracy_score :  0.7124545454545455\n",
            "hidden size :  28\n"
          ],
          "name": "stdout"
        },
        {
          "output_type": "stream",
          "text": [
            "/usr/local/lib/python3.6/dist-packages/sklearn/neural_network/multilayer_perceptron.py:566: ConvergenceWarning: Stochastic Optimizer: Maximum iterations (10) reached and the optimization hasn't converged yet.\n",
            "  % self.max_iter, ConvergenceWarning)\n"
          ],
          "name": "stderr"
        },
        {
          "output_type": "stream",
          "text": [
            "accuracy_score :  0.6993636363636364\n",
            "hidden size :  29\n"
          ],
          "name": "stdout"
        },
        {
          "output_type": "stream",
          "text": [
            "/usr/local/lib/python3.6/dist-packages/sklearn/neural_network/multilayer_perceptron.py:566: ConvergenceWarning: Stochastic Optimizer: Maximum iterations (10) reached and the optimization hasn't converged yet.\n",
            "  % self.max_iter, ConvergenceWarning)\n"
          ],
          "name": "stderr"
        },
        {
          "output_type": "stream",
          "text": [
            "accuracy_score :  0.6703636363636364\n",
            "hidden size :  30\n"
          ],
          "name": "stdout"
        },
        {
          "output_type": "stream",
          "text": [
            "/usr/local/lib/python3.6/dist-packages/sklearn/neural_network/multilayer_perceptron.py:566: ConvergenceWarning: Stochastic Optimizer: Maximum iterations (10) reached and the optimization hasn't converged yet.\n",
            "  % self.max_iter, ConvergenceWarning)\n"
          ],
          "name": "stderr"
        },
        {
          "output_type": "stream",
          "text": [
            "accuracy_score :  0.6452727272727272\n",
            "hidden size :  31\n"
          ],
          "name": "stdout"
        },
        {
          "output_type": "stream",
          "text": [
            "/usr/local/lib/python3.6/dist-packages/sklearn/neural_network/multilayer_perceptron.py:566: ConvergenceWarning: Stochastic Optimizer: Maximum iterations (10) reached and the optimization hasn't converged yet.\n",
            "  % self.max_iter, ConvergenceWarning)\n"
          ],
          "name": "stderr"
        },
        {
          "output_type": "stream",
          "text": [
            "accuracy_score :  0.6973636363636364\n",
            "hidden size :  32\n"
          ],
          "name": "stdout"
        },
        {
          "output_type": "stream",
          "text": [
            "/usr/local/lib/python3.6/dist-packages/sklearn/neural_network/multilayer_perceptron.py:566: ConvergenceWarning: Stochastic Optimizer: Maximum iterations (10) reached and the optimization hasn't converged yet.\n",
            "  % self.max_iter, ConvergenceWarning)\n"
          ],
          "name": "stderr"
        },
        {
          "output_type": "stream",
          "text": [
            "accuracy_score :  0.7110909090909091\n",
            "hidden size :  33\n"
          ],
          "name": "stdout"
        },
        {
          "output_type": "stream",
          "text": [
            "/usr/local/lib/python3.6/dist-packages/sklearn/neural_network/multilayer_perceptron.py:566: ConvergenceWarning: Stochastic Optimizer: Maximum iterations (10) reached and the optimization hasn't converged yet.\n",
            "  % self.max_iter, ConvergenceWarning)\n"
          ],
          "name": "stderr"
        },
        {
          "output_type": "stream",
          "text": [
            "accuracy_score :  0.739909090909091\n",
            "hidden size :  34\n"
          ],
          "name": "stdout"
        },
        {
          "output_type": "stream",
          "text": [
            "/usr/local/lib/python3.6/dist-packages/sklearn/neural_network/multilayer_perceptron.py:566: ConvergenceWarning: Stochastic Optimizer: Maximum iterations (10) reached and the optimization hasn't converged yet.\n",
            "  % self.max_iter, ConvergenceWarning)\n"
          ],
          "name": "stderr"
        },
        {
          "output_type": "stream",
          "text": [
            "accuracy_score :  0.7811818181818182\n",
            "hidden size :  35\n"
          ],
          "name": "stdout"
        },
        {
          "output_type": "stream",
          "text": [
            "/usr/local/lib/python3.6/dist-packages/sklearn/neural_network/multilayer_perceptron.py:566: ConvergenceWarning: Stochastic Optimizer: Maximum iterations (10) reached and the optimization hasn't converged yet.\n",
            "  % self.max_iter, ConvergenceWarning)\n"
          ],
          "name": "stderr"
        },
        {
          "output_type": "stream",
          "text": [
            "accuracy_score :  0.7418181818181818\n",
            "hidden size :  36\n"
          ],
          "name": "stdout"
        },
        {
          "output_type": "stream",
          "text": [
            "/usr/local/lib/python3.6/dist-packages/sklearn/neural_network/multilayer_perceptron.py:566: ConvergenceWarning: Stochastic Optimizer: Maximum iterations (10) reached and the optimization hasn't converged yet.\n",
            "  % self.max_iter, ConvergenceWarning)\n"
          ],
          "name": "stderr"
        },
        {
          "output_type": "stream",
          "text": [
            "accuracy_score :  0.7457272727272727\n",
            "hidden size :  37\n"
          ],
          "name": "stdout"
        },
        {
          "output_type": "stream",
          "text": [
            "/usr/local/lib/python3.6/dist-packages/sklearn/neural_network/multilayer_perceptron.py:566: ConvergenceWarning: Stochastic Optimizer: Maximum iterations (10) reached and the optimization hasn't converged yet.\n",
            "  % self.max_iter, ConvergenceWarning)\n"
          ],
          "name": "stderr"
        },
        {
          "output_type": "stream",
          "text": [
            "accuracy_score :  0.6527272727272727\n",
            "hidden size :  38\n"
          ],
          "name": "stdout"
        },
        {
          "output_type": "stream",
          "text": [
            "/usr/local/lib/python3.6/dist-packages/sklearn/neural_network/multilayer_perceptron.py:566: ConvergenceWarning: Stochastic Optimizer: Maximum iterations (10) reached and the optimization hasn't converged yet.\n",
            "  % self.max_iter, ConvergenceWarning)\n"
          ],
          "name": "stderr"
        },
        {
          "output_type": "stream",
          "text": [
            "accuracy_score :  0.7161818181818181\n",
            "hidden size :  39\n"
          ],
          "name": "stdout"
        },
        {
          "output_type": "stream",
          "text": [
            "/usr/local/lib/python3.6/dist-packages/sklearn/neural_network/multilayer_perceptron.py:566: ConvergenceWarning: Stochastic Optimizer: Maximum iterations (10) reached and the optimization hasn't converged yet.\n",
            "  % self.max_iter, ConvergenceWarning)\n"
          ],
          "name": "stderr"
        },
        {
          "output_type": "stream",
          "text": [
            "accuracy_score :  0.7783636363636364\n",
            "hidden size :  40\n",
            "accuracy_score :  0.7146363636363636\n",
            "best hidden size : 34\n"
          ],
          "name": "stdout"
        },
        {
          "output_type": "stream",
          "text": [
            "/usr/local/lib/python3.6/dist-packages/sklearn/neural_network/multilayer_perceptron.py:566: ConvergenceWarning: Stochastic Optimizer: Maximum iterations (10) reached and the optimization hasn't converged yet.\n",
            "  % self.max_iter, ConvergenceWarning)\n"
          ],
          "name": "stderr"
        }
      ]
    },
    {
      "cell_type": "code",
      "metadata": {
        "id": "Kd5-7DHLwygL",
        "colab_type": "code",
        "colab": {
          "base_uri": "https://localhost:8080/",
          "height": 134
        },
        "outputId": "82c9c2c8-1ba6-45e3-fcf1-3e3d02c92087"
      },
      "source": [
        "best_clf = MLPClassifier(learning_rate_init=best_lr, max_iter=200, hidden_layer_sizes=(best_hs,), alpha=best_rg)\n",
        "\n",
        "best_clf.fit(X_train, y_train)"
      ],
      "execution_count": 21,
      "outputs": [
        {
          "output_type": "execute_result",
          "data": {
            "text/plain": [
              "MLPClassifier(activation='relu', alpha=0.3, batch_size='auto', beta_1=0.9,\n",
              "              beta_2=0.999, early_stopping=False, epsilon=1e-08,\n",
              "              hidden_layer_sizes=(34,), learning_rate='constant',\n",
              "              learning_rate_init=0.001, max_iter=200, momentum=0.9,\n",
              "              n_iter_no_change=10, nesterovs_momentum=True, power_t=0.5,\n",
              "              random_state=None, shuffle=True, solver='adam', tol=0.0001,\n",
              "              validation_fraction=0.1, verbose=False, warm_start=False)"
            ]
          },
          "metadata": {
            "tags": []
          },
          "execution_count": 21
        }
      ]
    },
    {
      "cell_type": "markdown",
      "metadata": {
        "id": "PjbyJkjR3Y37",
        "colab_type": "text"
      },
      "source": [
        "## 1-2-2- Test acc\n",
        "test your network with test dataset and report accuracy"
      ]
    },
    {
      "cell_type": "code",
      "metadata": {
        "id": "Q-HZ46bM3Y38",
        "colab_type": "code",
        "colab": {
          "base_uri": "https://localhost:8080/",
          "height": 34
        },
        "outputId": "5fd48d0e-db38-4ad8-ec90-5ca2bdfe27b5"
      },
      "source": [
        "accuracyScore = accuracy_score(y_test, best_clf.predict(X_test))\n",
        "print(\"accuracy_score : \", accuracyScore)"
      ],
      "execution_count": 23,
      "outputs": [
        {
          "output_type": "stream",
          "text": [
            "accuracy_score :  0.8288\n"
          ],
          "name": "stdout"
        }
      ]
    },
    {
      "cell_type": "markdown",
      "metadata": {
        "id": "iR_6O6R03Y4A",
        "colab_type": "text"
      },
      "source": [
        "## 1-2-3- Scikit-learn with normalization\n",
        "In this section we use previous code with just one change. befor you feed data to network normalized them . "
      ]
    },
    {
      "cell_type": "code",
      "metadata": {
        "id": "1nnA843L3Y4E",
        "colab_type": "code",
        "colab": {
          "base_uri": "https://localhost:8080/",
          "height": 134
        },
        "outputId": "270ef842-c027-43f5-acd7-3a2791394f19"
      },
      "source": [
        "from sklearn import preprocessing\n",
        "\n",
        "X_normalized = preprocessing.normalize(X_train, norm='l2')\n",
        "best_clf.fit(X_normalized, y_train)"
      ],
      "execution_count": 25,
      "outputs": [
        {
          "output_type": "execute_result",
          "data": {
            "text/plain": [
              "MLPClassifier(activation='relu', alpha=0.3, batch_size='auto', beta_1=0.9,\n",
              "              beta_2=0.999, early_stopping=False, epsilon=1e-08,\n",
              "              hidden_layer_sizes=(34,), learning_rate='constant',\n",
              "              learning_rate_init=0.001, max_iter=200, momentum=0.9,\n",
              "              n_iter_no_change=10, nesterovs_momentum=True, power_t=0.5,\n",
              "              random_state=None, shuffle=True, solver='adam', tol=0.0001,\n",
              "              validation_fraction=0.1, verbose=False, warm_start=False)"
            ]
          },
          "metadata": {
            "tags": []
          },
          "execution_count": 25
        }
      ]
    },
    {
      "cell_type": "markdown",
      "metadata": {
        "id": "OY_FjrH13Y4L",
        "colab_type": "text"
      },
      "source": [
        "## 1-2-4- Test accuracy\n",
        "Test again your network with test dataset.Do you see any progress in test accuracy against result of prevouis section?"
      ]
    },
    {
      "cell_type": "code",
      "metadata": {
        "id": "ifJf7V0a3Y4N",
        "colab_type": "code",
        "colab": {
          "base_uri": "https://localhost:8080/",
          "height": 34
        },
        "outputId": "42588b75-0211-49ed-80c1-244c4c382144"
      },
      "source": [
        "test_normalized = preprocessing.normalize(X_test, norm='l2')\n",
        "accuracyScore = accuracy_score(y_test, best_clf.predict(test_normalized))\n",
        "print(\"accuracy_score : \", accuracyScore)"
      ],
      "execution_count": 26,
      "outputs": [
        {
          "output_type": "stream",
          "text": [
            "accuracy_score :  0.8225\n"
          ],
          "name": "stdout"
        }
      ]
    }
  ]
}